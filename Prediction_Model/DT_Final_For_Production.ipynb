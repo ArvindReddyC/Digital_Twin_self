{
  "cells": [
    {
      "cell_type": "code",
      "execution_count": 1,
      "metadata": {
        "colab": {
          "base_uri": "https://localhost:8080/"
        },
        "id": "xPJHTRIBbIO4",
        "outputId": "35cd9181-d3fd-4603-8d09-120863efec8d"
      },
      "outputs": [
        {
          "name": "stdout",
          "output_type": "stream",
          "text": [
            "Mounted at /content/drive\n"
          ]
        }
      ],
      "source": [
        "import warnings\n",
        "warnings.filterwarnings(\"ignore\")\n",
        "from google.colab import drive\n",
        "drive.mount('/content/drive', force_remount=False)"
      ]
    },
    {
      "cell_type": "code",
      "execution_count": 2,
      "metadata": {
        "colab": {
          "base_uri": "https://localhost:8080/"
        },
        "id": "J7xhwEnpbSYS",
        "outputId": "2168ef0f-9ae4-4d33-df74-d4225be43259"
      },
      "outputs": [
        {
          "name": "stdout",
          "output_type": "stream",
          "text": [
            "a_AUG2020.csv  d_NOV2020.csv  g_FEB2021.csv  j_MAY2021.csv\n",
            "b_SEP2020.csv  e_DEC2020.csv  h_MAR2021.csv  k_JUN2021.csv\n",
            "c_OCT2020.csv  f_JAN2021.csv  i_APR2021.csv  l_JUL2021.csv\n"
          ]
        }
      ],
      "source": [
        "import os\n",
        "if not os.path.exists('twindata'):\n",
        "  !unzip -q 'drive/My Drive/Data/twindata.zip'\n",
        "\n",
        "!ls 'twindata'"
      ]
    },
    {
      "cell_type": "code",
      "execution_count": 3,
      "metadata": {
        "id": "ak1fGK-LbYcx"
      },
      "outputs": [],
      "source": [
        "import pandas as pd\n",
        "import glob\n",
        "\n",
        "path = r'twindata' # use your path\n",
        "all_files = glob.glob(path + \"/*.csv\")\n",
        "\n",
        "li = []\n",
        "\n",
        "for filename in sorted(all_files):\n",
        "    df = pd.read_csv(filename, index_col=None, header=0)\n",
        "    li.append(df)\n",
        "\n",
        "df_year = pd.concat(li, axis=0, ignore_index=True)"
      ]
    },
    {
      "cell_type": "code",
      "execution_count": 36,
      "metadata": {},
      "outputs": [],
      "source": [
        "import pandas as pd \n",
        "import requests\n",
        "from json import JSONEncoder\n",
        "import numpy as np\n",
        "\n",
        "class DateTimeEncoder(JSONEncoder):\n",
        "        #Override the default method\n",
        "        def default(self, obj):\n",
        "            if isinstance(obj, (datetime.date, datetime.datetime)):\n",
        "                return obj.isoformat()"
      ]
    },
    {
      "cell_type": "code",
      "execution_count": 39,
      "metadata": {},
      "outputs": [],
      "source": [
        "## Added by Arvind \n",
        "\n",
        "def get_data(id,attri):\n",
        "    ''' \n",
        "    Edit this if your running a cron Job \n",
        "    queryTimeDiff = datetime.timedelta(minutes=90)\n",
        "    endDate = datetime.datetime.now()\n",
        "    startDate = datetime.datetime.now() - queryTimeDiff\n",
        "    '''\n",
        "    \n",
        "    query = {'id':id,'attributes':attri,'startDate':'2021-03-01 00:00:00','endDate':'2021-03-02 00:00:00'}\n",
        "    query = DateTimeEncoder().encode(query)\n",
        "    query = eval(query)\n",
        "    response = requests.get('http://54.206.42.58:8006/api/v2/historicalData/getObjectAttributeHistoricalData', params=query)\n",
        "\n",
        "    data = response.json()\n",
        "    exportedData = data[\"data\"][\"ObjectData\"]\n",
        "    df = pd.DataFrame(exportedData)\n",
        "\n",
        "\n",
        "    pivoted = df.pivot( index= 'measurementtimestamp' , columns='attributeserviceid' , values= 'value' )\n",
        "    pivoted.replace(np.nan, 0 , inplace=True)\n",
        "    pivoted.rename( columns={ 'Irradiance Global (W/m^2)': 'irradiance' , 'Back-of-Module Temperature 2 (deg C)' : 'backtmp2' , 'Active Power' : 'activepower'   } , inplace=True )\n",
        "    \n",
        "\n",
        "\n"
      ]
    },
    {
      "cell_type": "code",
      "execution_count": 38,
      "metadata": {},
      "outputs": [
        {
          "name": "stdout",
          "output_type": "stream",
          "text": [
            "attributeserviceid\n",
            "Active Power                            0\n",
            "Back-of-Module Temperature 2 (deg C)    3\n",
            "Irradiance Global (W/m^2)               3\n",
            "dtype: int64\n",
            "attributeserviceid\n",
            "Active Power                            0\n",
            "Back-of-Module Temperature 2 (deg C)    0\n",
            "Irradiance Global (W/m^2)               0\n",
            "dtype: int64\n"
          ]
        }
      ],
      "source": [
        "#Aug-2020 to July-2021 \n",
        "get_data('WP_SF_MVPS4.PM1,WP_SF_MVPS4.WS1','Irradiance Global (W/m^2),Back-of-Module Temperature 2 (deg C),Active Power')\n",
        "\n"
      ]
    },
    {
      "cell_type": "code",
      "execution_count": 4,
      "metadata": {
        "id": "T8ZLrP8SbZJt"
      },
      "outputs": [],
      "source": [
        "def load_manipulate_data():\n",
        "  import numpy as np\n",
        "  # Load irradiance data\n",
        "  rslt_irradiance = df_year[df_year['PME_MeasurementName'] == 'Irradiance Global (W/m^2)']\n",
        "  rslt_irradiance['TimestampUTC'] = pd.to_datetime(rslt_irradiance['TimestampUTC'], format='%d/%m/%Y %I:%M:%S.%f %p')\n",
        "  rslt_irradiance.rename(columns={'PME_Value': 'irradiance'}, inplace=True)\n",
        "\n",
        "  rslt_back_temp2 = df_year[df_year['PME_MeasurementName'] == 'Back-of-Module Temperature 2 (deg C)']\n",
        "  rslt_back_temp2['TimestampUTC'] = pd.to_datetime(rslt_back_temp2['TimestampUTC'], format='%d/%m/%Y %I:%M:%S.%f %p')\n",
        "  rslt_back_temp2.rename(columns={'PME_Value': 'backtmp2'}, inplace=True)\n",
        "\n",
        "  # Load active power data\n",
        "  rslt_activepower = df_year[(df_year['PME_SourceName'] == 'WP_SF_MVPS4.PM1') & (df_year['PME_MeasurementName'] == 'Active Power')]\n",
        "  rslt_activepower['TimestampUTC'] = pd.to_datetime(rslt_activepower['TimestampUTC'], format='%d/%m/%Y %I:%M:%S.%f %p')\n",
        "  rslt_activepower.rename(columns={'PME_Value': 'activepower'}, inplace=True)\n",
        "  \n",
        "  rslt_irradiance_select = rslt_irradiance[['TimestampUTC', 'irradiance']]\n",
        "  rslt_back_temp2_select = rslt_back_temp2[['TimestampUTC', 'backtmp2']]\n",
        "  rslt_activepower_select = rslt_activepower[['TimestampUTC','activepower']]\n",
        "\n",
        "  df_merged1 = pd.merge(rslt_irradiance_select, rslt_back_temp2_select, on='TimestampUTC')\n",
        "  df_merged_withnan = pd.merge(df_merged1, rslt_activepower_select, on='TimestampUTC')\n",
        "  df_merged = df_merged_withnan.replace(np.nan, 0)\n",
        "\n",
        "  return df_merged"
      ]
    },
    {
      "cell_type": "code",
      "execution_count": 5,
      "metadata": {
        "id": "svP2BEOgbn79"
      },
      "outputs": [],
      "source": [
        "def normalize_data():\n",
        "  irr_mean = df_merged['irradiance'].mean()\n",
        "  backtmp2_mean = df_merged['backtmp2'].mean()\n",
        "  activepower_mean = df_merged['activepower'].mean()\n",
        "\n",
        "  df_merged['ap_norm'] = df_merged['activepower']/activepower_mean\n",
        "\n",
        "  df_merged['ag_val'] = 0.9*(df_merged['irradiance']/irr_mean) + 0.1*(df_merged['backtmp2']/backtmp2_mean)\n",
        "\n",
        "  return df_merged, activepower_mean"
      ]
    },
    {
      "cell_type": "code",
      "execution_count": 6,
      "metadata": {
        "id": "hirpNGb1btPS"
      },
      "outputs": [],
      "source": [
        "def pre_process():\n",
        "  from sklearn.model_selection import train_test_split\n",
        "  import numpy as np\n",
        "  from sklearn import preprocessing\n",
        "  from sklearn import utils\n",
        "  \n",
        "  X = np.array(df_merged['ag_val'])\n",
        "  y = np.array(df_merged['ap_norm'])\n",
        "\n",
        "  split = int(df_merged['TimestampUTC'].count()*0.9)\n",
        "\n",
        "  X_train = X[:split]\n",
        "  X_test = X[split:]\n",
        "  y_train = y[:split]\n",
        "  y_test = y[split:]\n",
        "  X_train = X_train.reshape(-1,1)\n",
        "  X_test = X_test.reshape(-1,1)\n",
        "\n",
        "  return X_train, X_test, y_train, y_test, split"
      ]
    },
    {
      "cell_type": "code",
      "execution_count": 7,
      "metadata": {
        "id": "Kgp8hTZUM-Ep"
      },
      "outputs": [],
      "source": [
        "def get_error_rate():\n",
        "  import math \n",
        "\n",
        "  y = df_merged['activepower'][split:]\n",
        "  y_bar = predicted_activepower['ActivePowerPrediction']\n",
        "\n",
        "  summation = 0 \n",
        "  n = df_merged['activepower'][split:].count()\n",
        "\n",
        "\n",
        "  for i in range (0,n-1):\n",
        "    difference = y.iloc[i-1] - y_bar.iloc[i] \n",
        "    squared_difference = difference**2\n",
        "    summation = summation + squared_difference\n",
        "\n",
        "  RMSD_perKw = math.sqrt(summation)/df_merged['activepower'][split:].sum()\n",
        "  return RMSD_perKw"
      ]
    },
    {
      "cell_type": "code",
      "execution_count": 8,
      "metadata": {
        "id": "6VQu9bc4zb12"
      },
      "outputs": [],
      "source": [
        "def use_input_normalize():\n",
        "  import numpy as np\n",
        "  irr_mean = df_merged['irradiance'].mean()\n",
        "  backtmp2_mean = df_merged['backtmp2'].mean()\n",
        "\n",
        "  df_user['agg_norm'] = 0.9*df_user['irradiance']/irr_mean + 0.1*df_user['temperature']/backtmp2_mean\n",
        "  X = np.array(df_user['agg_norm'])\n",
        "  X_user = X.reshape(-1,1)\n",
        "  return X_user"
      ]
    },
    {
      "cell_type": "code",
      "execution_count": 11,
      "metadata": {
        "id": "IEcBDLydbxPq"
      },
      "outputs": [],
      "source": [
        "if __name__ == \"__main__\":\n",
        "\n",
        "  #Import svm model\n",
        "  from sklearn.svm import SVR\n",
        "  from datetime import datetime\n",
        "  from datetime import timedelta\n",
        "  from sklearn.externals import joblib\n",
        "\n",
        "  df_merged = load_manipulate_data()\n",
        "  df_merged, activepower_mean = normalize_data()\n",
        "  X_train, X_test, y_train, y_test, split = pre_process()\n",
        "\n",
        "  #Create a svm Classifier\n",
        "  clf = SVR(kernel='rbf')\n",
        "\n",
        "  request_type = 'user'\n",
        "\n",
        "  if (request_type =='train'):\n",
        "    #Train the model using the training sets\n",
        "    clf.fit(X_train, y_train)\n",
        "    joblib.dump(clf, 'model.pkl')\n",
        "\n",
        "  if (request_type =='user'):\n",
        "    clf = joblib.load('model.pkl')\n",
        "\n",
        "    #Predict the response for test dataset\n",
        "    y_pred = clf.predict(X_test)\n",
        "    predicted_activepower = pd.DataFrame(data=y_pred, columns=[\"ActivePowerPrediction\"])\n",
        "    predicted_activepower['activepower_predicted'] = predicted_activepower['ActivePowerPrediction']*activepower_mean\n",
        "\n",
        "    # Calculate error band\n",
        "    RMSD_perKw = get_error_rate()\n",
        "\n",
        "    user_time = [15, 30, 60]\n",
        "    user_irradiance = [400, 520 , 715]\n",
        "    user_temperature = [20, 24, 25]\n",
        "\n",
        "    user_time_f = []\n",
        "    for i in user_time:\n",
        "      user_time_f.append(df_merged['TimestampUTC'].iloc[-1]+timedelta(minutes=i))\n",
        "\n",
        "    user_inputs = {'TimestampUTC': user_time_f,\n",
        "                    'irradiance': user_irradiance, \n",
        "                    'temperature': user_temperature}\n",
        "\n",
        "    df_user = pd.DataFrame(data=user_inputs)\n",
        "\n",
        "    X_user = use_input_normalize()\n",
        "    y_user = clf.predict(X_user)\n",
        "\n",
        "    userinput_activepower = pd.DataFrame(data=y_user, columns=[\"ActivePowerPrediction\"])\n",
        "    userinput_activepower.insert(loc=0, column='TimestampUTC', value = user_time_f)\n",
        "    userinput_activepower['activepower_predicted'] = userinput_activepower['ActivePowerPrediction']*activepower_mean\n",
        "\n",
        "    userinput_activepower['lower'] = userinput_activepower[\"activepower_predicted\"]*(1-RMSD_perKw)\n",
        "    userinput_activepower['upper'] = userinput_activepower[\"activepower_predicted\"]*(1+RMSD_perKw)\n",
        "    last_data = df_merged['activepower'].iloc[-1]\n",
        "    userinput_activepower.loc[len(userinput_activepower)] = [df_merged['TimestampUTC'].iloc[-1], last_data, last_data, last_data, last_data]\n",
        "\n",
        "    userinput_activepower = userinput_activepower.sort_values(by=['TimestampUTC'])\n"
      ]
    },
    {
      "cell_type": "code",
      "execution_count": 12,
      "metadata": {
        "colab": {
          "base_uri": "https://localhost:8080/",
          "height": 542
        },
        "id": "x4NbVWRGb2yD",
        "outputId": "69f6d2e5-e989-46ed-f969-c3c15a00ace8"
      },
      "outputs": [
        {
          "data": {
            "text/html": [
              "<html>\n",
              "<head><meta charset=\"utf-8\" /></head>\n",
              "<body>\n",
              "    <div>\n",
              "            <script src=\"https://cdnjs.cloudflare.com/ajax/libs/mathjax/2.7.5/MathJax.js?config=TeX-AMS-MML_SVG\"></script><script type=\"text/javascript\">if (window.MathJax) {MathJax.Hub.Config({SVG: {font: \"STIX-Web\"}});}</script>\n",
              "                <script type=\"text/javascript\">window.PlotlyConfig = {MathJaxConfig: 'local'};</script>\n",
              "        <script src=\"https://cdn.plot.ly/plotly-latest.min.js\"></script>    \n",
              "            <div id=\"264b6131-f733-4628-b3fe-7f6d02652999\" class=\"plotly-graph-div\" style=\"height:525px; width:100%;\"></div>\n",
              "            <script type=\"text/javascript\">\n",
              "                \n",
              "                    window.PLOTLYENV=window.PLOTLYENV || {};\n",
              "                    \n",
              "                if (document.getElementById(\"264b6131-f733-4628-b3fe-7f6d02652999\")) {\n",
              "                    Plotly.newPlot(\n",
              "                        '264b6131-f733-4628-b3fe-7f6d02652999',\n",
              "                        [{\"line\": {\"color\": \"#0000ff\"}, \"mode\": \"lines\", \"name\": \"Active Power\", \"type\": \"scatter\", \"x\": [\"2021-07-31T01:45:00\", \"2021-07-31T02:00:00\", \"2021-07-31T02:15:00\", \"2021-07-31T02:30:00\", \"2021-07-31T02:45:00\", \"2021-07-31T03:00:00\", \"2021-07-31T03:15:00\", \"2021-07-31T03:30:00\", \"2021-07-31T03:45:00\", \"2021-07-31T04:00:00\", \"2021-07-31T04:15:00\", \"2021-07-31T04:30:00\", \"2021-07-31T04:45:00\", \"2021-07-31T05:00:00\", \"2021-07-31T05:15:00\", \"2021-07-31T05:30:00\", \"2021-07-31T05:45:00\", \"2021-07-31T06:00:00\", \"2021-07-31T06:15:00\", \"2021-07-31T06:30:00\", \"2021-07-31T06:45:00\", \"2021-07-31T07:00:00\", \"2021-07-31T07:15:00\", \"2021-07-31T07:30:00\", \"2021-07-31T07:45:00\", \"2021-07-31T08:00:00\", \"2021-07-31T08:15:00\", \"2021-07-31T08:30:00\", \"2021-07-31T08:45:00\", \"2021-07-31T09:00:00\", \"2021-07-31T09:15:00\", \"2021-07-31T09:30:00\", \"2021-07-31T09:45:00\", \"2021-07-31T10:00:00\", \"2021-07-31T10:15:00\", \"2021-07-31T10:30:00\", \"2021-07-31T10:45:00\", \"2021-07-31T11:00:00\", \"2021-07-31T11:15:00\", \"2021-07-31T11:30:00\", \"2021-07-31T11:45:00\", \"2021-07-31T12:00:00\", \"2021-07-31T12:15:00\", \"2021-07-31T12:30:00\", \"2021-07-31T12:45:00\", \"2021-07-31T13:00:00\", \"2021-07-31T13:15:00\", \"2021-07-31T13:30:00\", \"2021-07-31T13:45:00\", \"2021-07-31T14:00:00\"], \"y\": [157.330627441406, 168.1259765625, 121.07731628418001, 96.7561187744141, 68.3293380737305, 49.944610595703104, 97.1112594604492, 56.7392730712891, 30.4991664886475, 26.6735305786133, 26.3534660339355, 16.8101978302002, 16.4119758605957, 20.296312332153303, 31.214296340942397, 13.3674573898315, 8.403124809265138, 5.901798248291019, 4.8432335853576705, 2.6266286373138397, 2.7104091644287096, 0.27858814597129805, 0.132008522748947, 0.0, 0.0, 0.0, 0.0, 0.0, 0.0, 0.0, 0.0, 0.0, 0.0, 0.0, 0.0, 0.0, 0.0, 0.0, 0.0, 0.0, 0.0, 0.0, 0.0, 0.0, 0.0, 0.0, 0.0, 0.0, 0.0, 0.0]}, {\"line\": {\"color\": \"#00BFFF\"}, \"mode\": \"lines\", \"name\": \"Lower\", \"type\": \"scatter\", \"x\": [\"2021-07-31T14:00:00\", \"2021-07-31T14:15:00\", \"2021-07-31T14:30:00\", \"2021-07-31T15:00:00\"], \"y\": [0.0, 74.29491922642164, 100.36056968136647, 135.69789301486747]}, {\"fill\": \"tonexty\", \"line\": {\"color\": \"#00BFFF\"}, \"mode\": \"lines\", \"name\": \"Upper\", \"type\": \"scatter\", \"x\": [\"2021-07-31T14:00:00\", \"2021-07-31T14:15:00\", \"2021-07-31T14:30:00\", \"2021-07-31T15:00:00\"], \"y\": [0.0, 79.63346557870081, 107.5720931443946, 145.44862024237432]}, {\"line\": {\"color\": \"red\"}, \"mode\": \"lines\", \"name\": \"ActivePowerPrediction\", \"type\": \"scatter\", \"x\": [\"2021-07-31T14:00:00\", \"2021-07-31T14:15:00\", \"2021-07-31T14:30:00\", \"2021-07-31T15:00:00\"], \"y\": [0.0, 76.96419240256122, 103.96633141288054, 140.5732566286209]}],\n",
              "                        {\"template\": {\"data\": {\"bar\": [{\"error_x\": {\"color\": \"#2a3f5f\"}, \"error_y\": {\"color\": \"#2a3f5f\"}, \"marker\": {\"line\": {\"color\": \"#E5ECF6\", \"width\": 0.5}}, \"type\": \"bar\"}], \"barpolar\": [{\"marker\": {\"line\": {\"color\": \"#E5ECF6\", \"width\": 0.5}}, \"type\": \"barpolar\"}], \"carpet\": [{\"aaxis\": {\"endlinecolor\": \"#2a3f5f\", \"gridcolor\": \"white\", \"linecolor\": \"white\", \"minorgridcolor\": \"white\", \"startlinecolor\": \"#2a3f5f\"}, \"baxis\": {\"endlinecolor\": \"#2a3f5f\", \"gridcolor\": \"white\", \"linecolor\": \"white\", \"minorgridcolor\": \"white\", \"startlinecolor\": \"#2a3f5f\"}, \"type\": \"carpet\"}], \"choropleth\": [{\"colorbar\": {\"outlinewidth\": 0, \"ticks\": \"\"}, \"type\": \"choropleth\"}], \"contour\": [{\"colorbar\": {\"outlinewidth\": 0, \"ticks\": \"\"}, \"colorscale\": [[0.0, \"#0d0887\"], [0.1111111111111111, \"#46039f\"], [0.2222222222222222, \"#7201a8\"], [0.3333333333333333, \"#9c179e\"], [0.4444444444444444, \"#bd3786\"], [0.5555555555555556, \"#d8576b\"], [0.6666666666666666, \"#ed7953\"], [0.7777777777777778, \"#fb9f3a\"], [0.8888888888888888, \"#fdca26\"], [1.0, \"#f0f921\"]], \"type\": \"contour\"}], \"contourcarpet\": [{\"colorbar\": {\"outlinewidth\": 0, \"ticks\": \"\"}, \"type\": \"contourcarpet\"}], \"heatmap\": [{\"colorbar\": {\"outlinewidth\": 0, \"ticks\": \"\"}, \"colorscale\": [[0.0, \"#0d0887\"], [0.1111111111111111, \"#46039f\"], [0.2222222222222222, \"#7201a8\"], [0.3333333333333333, \"#9c179e\"], [0.4444444444444444, \"#bd3786\"], [0.5555555555555556, \"#d8576b\"], [0.6666666666666666, \"#ed7953\"], [0.7777777777777778, \"#fb9f3a\"], [0.8888888888888888, \"#fdca26\"], [1.0, \"#f0f921\"]], \"type\": \"heatmap\"}], \"heatmapgl\": [{\"colorbar\": {\"outlinewidth\": 0, \"ticks\": \"\"}, \"colorscale\": [[0.0, \"#0d0887\"], [0.1111111111111111, \"#46039f\"], [0.2222222222222222, \"#7201a8\"], [0.3333333333333333, \"#9c179e\"], [0.4444444444444444, \"#bd3786\"], [0.5555555555555556, \"#d8576b\"], [0.6666666666666666, \"#ed7953\"], [0.7777777777777778, \"#fb9f3a\"], [0.8888888888888888, \"#fdca26\"], [1.0, \"#f0f921\"]], \"type\": \"heatmapgl\"}], \"histogram\": [{\"marker\": {\"colorbar\": {\"outlinewidth\": 0, \"ticks\": \"\"}}, \"type\": \"histogram\"}], \"histogram2d\": [{\"colorbar\": {\"outlinewidth\": 0, \"ticks\": \"\"}, \"colorscale\": [[0.0, \"#0d0887\"], [0.1111111111111111, \"#46039f\"], [0.2222222222222222, \"#7201a8\"], [0.3333333333333333, \"#9c179e\"], [0.4444444444444444, \"#bd3786\"], [0.5555555555555556, \"#d8576b\"], [0.6666666666666666, \"#ed7953\"], [0.7777777777777778, \"#fb9f3a\"], [0.8888888888888888, \"#fdca26\"], [1.0, \"#f0f921\"]], \"type\": \"histogram2d\"}], \"histogram2dcontour\": [{\"colorbar\": {\"outlinewidth\": 0, \"ticks\": \"\"}, \"colorscale\": [[0.0, \"#0d0887\"], [0.1111111111111111, \"#46039f\"], [0.2222222222222222, \"#7201a8\"], [0.3333333333333333, \"#9c179e\"], [0.4444444444444444, \"#bd3786\"], [0.5555555555555556, \"#d8576b\"], [0.6666666666666666, \"#ed7953\"], [0.7777777777777778, \"#fb9f3a\"], [0.8888888888888888, \"#fdca26\"], [1.0, \"#f0f921\"]], \"type\": \"histogram2dcontour\"}], \"mesh3d\": [{\"colorbar\": {\"outlinewidth\": 0, \"ticks\": \"\"}, \"type\": \"mesh3d\"}], \"parcoords\": [{\"line\": {\"colorbar\": {\"outlinewidth\": 0, \"ticks\": \"\"}}, \"type\": \"parcoords\"}], \"pie\": [{\"automargin\": true, \"type\": \"pie\"}], \"scatter\": [{\"marker\": {\"colorbar\": {\"outlinewidth\": 0, \"ticks\": \"\"}}, \"type\": \"scatter\"}], \"scatter3d\": [{\"line\": {\"colorbar\": {\"outlinewidth\": 0, \"ticks\": \"\"}}, \"marker\": {\"colorbar\": {\"outlinewidth\": 0, \"ticks\": \"\"}}, \"type\": \"scatter3d\"}], \"scattercarpet\": [{\"marker\": {\"colorbar\": {\"outlinewidth\": 0, \"ticks\": \"\"}}, \"type\": \"scattercarpet\"}], \"scattergeo\": [{\"marker\": {\"colorbar\": {\"outlinewidth\": 0, \"ticks\": \"\"}}, \"type\": \"scattergeo\"}], \"scattergl\": [{\"marker\": {\"colorbar\": {\"outlinewidth\": 0, \"ticks\": \"\"}}, \"type\": \"scattergl\"}], \"scattermapbox\": [{\"marker\": {\"colorbar\": {\"outlinewidth\": 0, \"ticks\": \"\"}}, \"type\": \"scattermapbox\"}], \"scatterpolar\": [{\"marker\": {\"colorbar\": {\"outlinewidth\": 0, \"ticks\": \"\"}}, \"type\": \"scatterpolar\"}], \"scatterpolargl\": [{\"marker\": {\"colorbar\": {\"outlinewidth\": 0, \"ticks\": \"\"}}, \"type\": \"scatterpolargl\"}], \"scatterternary\": [{\"marker\": {\"colorbar\": {\"outlinewidth\": 0, \"ticks\": \"\"}}, \"type\": \"scatterternary\"}], \"surface\": [{\"colorbar\": {\"outlinewidth\": 0, \"ticks\": \"\"}, \"colorscale\": [[0.0, \"#0d0887\"], [0.1111111111111111, \"#46039f\"], [0.2222222222222222, \"#7201a8\"], [0.3333333333333333, \"#9c179e\"], [0.4444444444444444, \"#bd3786\"], [0.5555555555555556, \"#d8576b\"], [0.6666666666666666, \"#ed7953\"], [0.7777777777777778, \"#fb9f3a\"], [0.8888888888888888, \"#fdca26\"], [1.0, \"#f0f921\"]], \"type\": \"surface\"}], \"table\": [{\"cells\": {\"fill\": {\"color\": \"#EBF0F8\"}, \"line\": {\"color\": \"white\"}}, \"header\": {\"fill\": {\"color\": \"#C8D4E3\"}, \"line\": {\"color\": \"white\"}}, \"type\": \"table\"}]}, \"layout\": {\"annotationdefaults\": {\"arrowcolor\": \"#2a3f5f\", \"arrowhead\": 0, \"arrowwidth\": 1}, \"coloraxis\": {\"colorbar\": {\"outlinewidth\": 0, \"ticks\": \"\"}}, \"colorscale\": {\"diverging\": [[0, \"#8e0152\"], [0.1, \"#c51b7d\"], [0.2, \"#de77ae\"], [0.3, \"#f1b6da\"], [0.4, \"#fde0ef\"], [0.5, \"#f7f7f7\"], [0.6, \"#e6f5d0\"], [0.7, \"#b8e186\"], [0.8, \"#7fbc41\"], [0.9, \"#4d9221\"], [1, \"#276419\"]], \"sequential\": [[0.0, \"#0d0887\"], [0.1111111111111111, \"#46039f\"], [0.2222222222222222, \"#7201a8\"], [0.3333333333333333, \"#9c179e\"], [0.4444444444444444, \"#bd3786\"], [0.5555555555555556, \"#d8576b\"], [0.6666666666666666, \"#ed7953\"], [0.7777777777777778, \"#fb9f3a\"], [0.8888888888888888, \"#fdca26\"], [1.0, \"#f0f921\"]], \"sequentialminus\": [[0.0, \"#0d0887\"], [0.1111111111111111, \"#46039f\"], [0.2222222222222222, \"#7201a8\"], [0.3333333333333333, \"#9c179e\"], [0.4444444444444444, \"#bd3786\"], [0.5555555555555556, \"#d8576b\"], [0.6666666666666666, \"#ed7953\"], [0.7777777777777778, \"#fb9f3a\"], [0.8888888888888888, \"#fdca26\"], [1.0, \"#f0f921\"]]}, \"colorway\": [\"#636efa\", \"#EF553B\", \"#00cc96\", \"#ab63fa\", \"#FFA15A\", \"#19d3f3\", \"#FF6692\", \"#B6E880\", \"#FF97FF\", \"#FECB52\"], \"font\": {\"color\": \"#2a3f5f\"}, \"geo\": {\"bgcolor\": \"white\", \"lakecolor\": \"white\", \"landcolor\": \"#E5ECF6\", \"showlakes\": true, \"showland\": true, \"subunitcolor\": \"white\"}, \"hoverlabel\": {\"align\": \"left\"}, \"hovermode\": \"closest\", \"mapbox\": {\"style\": \"light\"}, \"paper_bgcolor\": \"white\", \"plot_bgcolor\": \"#E5ECF6\", \"polar\": {\"angularaxis\": {\"gridcolor\": \"white\", \"linecolor\": \"white\", \"ticks\": \"\"}, \"bgcolor\": \"#E5ECF6\", \"radialaxis\": {\"gridcolor\": \"white\", \"linecolor\": \"white\", \"ticks\": \"\"}}, \"scene\": {\"xaxis\": {\"backgroundcolor\": \"#E5ECF6\", \"gridcolor\": \"white\", \"gridwidth\": 2, \"linecolor\": \"white\", \"showbackground\": true, \"ticks\": \"\", \"zerolinecolor\": \"white\"}, \"yaxis\": {\"backgroundcolor\": \"#E5ECF6\", \"gridcolor\": \"white\", \"gridwidth\": 2, \"linecolor\": \"white\", \"showbackground\": true, \"ticks\": \"\", \"zerolinecolor\": \"white\"}, \"zaxis\": {\"backgroundcolor\": \"#E5ECF6\", \"gridcolor\": \"white\", \"gridwidth\": 2, \"linecolor\": \"white\", \"showbackground\": true, \"ticks\": \"\", \"zerolinecolor\": \"white\"}}, \"shapedefaults\": {\"line\": {\"color\": \"#2a3f5f\"}}, \"ternary\": {\"aaxis\": {\"gridcolor\": \"white\", \"linecolor\": \"white\", \"ticks\": \"\"}, \"baxis\": {\"gridcolor\": \"white\", \"linecolor\": \"white\", \"ticks\": \"\"}, \"bgcolor\": \"#E5ECF6\", \"caxis\": {\"gridcolor\": \"white\", \"linecolor\": \"white\", \"ticks\": \"\"}}, \"title\": {\"x\": 0.05}, \"xaxis\": {\"automargin\": true, \"gridcolor\": \"white\", \"linecolor\": \"white\", \"ticks\": \"\", \"title\": {\"standoff\": 15}, \"zerolinecolor\": \"white\", \"zerolinewidth\": 2}, \"yaxis\": {\"automargin\": true, \"gridcolor\": \"white\", \"linecolor\": \"white\", \"ticks\": \"\", \"title\": {\"standoff\": 15}, \"zerolinecolor\": \"white\", \"zerolinewidth\": 2}}}},\n",
              "                        {\"responsive\": true}\n",
              "                    ).then(function(){\n",
              "                            \n",
              "var gd = document.getElementById('264b6131-f733-4628-b3fe-7f6d02652999');\n",
              "var x = new MutationObserver(function (mutations, observer) {{\n",
              "        var display = window.getComputedStyle(gd).display;\n",
              "        if (!display || display === 'none') {{\n",
              "            console.log([gd, 'removed!']);\n",
              "            Plotly.purge(gd);\n",
              "            observer.disconnect();\n",
              "        }}\n",
              "}});\n",
              "\n",
              "// Listen for the removal of the full notebook cells\n",
              "var notebookContainer = gd.closest('#notebook-container');\n",
              "if (notebookContainer) {{\n",
              "    x.observe(notebookContainer, {childList: true});\n",
              "}}\n",
              "\n",
              "// Listen for the clearing of the current output cell\n",
              "var outputEl = gd.closest('.output');\n",
              "if (outputEl) {{\n",
              "    x.observe(outputEl, {childList: true});\n",
              "}}\n",
              "\n",
              "                        })\n",
              "                };\n",
              "                \n",
              "            </script>\n",
              "        </div>\n",
              "</body>\n",
              "</html>"
            ]
          },
          "metadata": {},
          "output_type": "display_data"
        }
      ],
      "source": [
        "import plotly.express as px\n",
        "import plotly.graph_objects as go\n",
        "\n",
        "from datetime import datetime\n",
        "from datetime import timedelta\n",
        "\n",
        "n=15\n",
        "\n",
        "fig = go.Figure()\n",
        "\n",
        "fig.add_trace(go.Scatter(x=df_merged['TimestampUTC'].tail(50), y=df_merged['activepower'].tail(50),\n",
        "                    mode='lines',\n",
        "                    name='Active Power', line_color=\"#0000ff\"))\n",
        "\n",
        "\n",
        "fig.add_trace(go.Scatter(x=userinput_activepower['TimestampUTC'], y=userinput_activepower['lower'],\n",
        "    fill=None,\n",
        "    mode='lines',\n",
        "    line_color='#00BFFF',\n",
        "    name='Lower'\n",
        "    ))\n",
        "fig.add_trace(go.Scatter(\n",
        "    x=userinput_activepower['TimestampUTC'],\n",
        "    y=userinput_activepower['upper'],\n",
        "    fill='tonexty', # fill area between trace0 and trace1\n",
        "    mode='lines', line_color='#00BFFF',\n",
        "    name='Upper'))\n",
        "\n",
        "fig.add_trace(go.Scatter(x=userinput_activepower['TimestampUTC'], y=userinput_activepower['activepower_predicted'],\n",
        "                    mode='lines',\n",
        "                    name='ActivePowerPrediction', line_color=\"red\"))\n",
        "fig.show()"
      ]
    }
  ],
  "metadata": {
    "colab": {
      "name": "DT_Final_Production.ipynb",
      "provenance": []
    },
    "interpreter": {
      "hash": "78f600779d08b0a3ccce7f55a06dabed9fc99c7115a0a2906338c73a1a58ec1e"
    },
    "kernelspec": {
      "display_name": "Python 3.7.6 64-bit ('base': conda)",
      "name": "python3"
    },
    "language_info": {
      "codemirror_mode": {
        "name": "ipython",
        "version": 3
      },
      "file_extension": ".py",
      "mimetype": "text/x-python",
      "name": "python",
      "nbconvert_exporter": "python",
      "pygments_lexer": "ipython3",
      "version": "3.7.6"
    }
  },
  "nbformat": 4,
  "nbformat_minor": 0
}
