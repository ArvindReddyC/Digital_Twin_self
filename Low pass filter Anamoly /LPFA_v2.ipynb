{
 "cells": [
  {
   "cell_type": "markdown",
   "metadata": {},
   "source": [
    "# Anamoly detection using 12 past observations."
   ]
  },
  {
   "cell_type": "markdown",
   "metadata": {},
   "source": [
    "## Modules required "
   ]
  },
  {
   "cell_type": "code",
   "execution_count": 31,
   "metadata": {},
   "outputs": [],
   "source": [
    "import pandas as pd\n",
    "import zipfile as zp\n",
    "import plotly.express as px\n",
    "import matplotlib.pyplot as plt\n",
    "import numpy as np\n",
    "from sklearn.cluster import KMeans \n",
    "from sklearn.preprocessing import  scale\n",
    "from json import JSONEncoder\n",
    "import requests\n",
    "import  datetime as datetime \n",
    "import plotly.express as px\n",
    "import plotly.graph_objects as go\n"
   ]
  },
  {
   "cell_type": "markdown",
   "metadata": {},
   "source": [
    "## commented Code "
   ]
  },
  {
   "cell_type": "code",
   "execution_count": 2,
   "metadata": {},
   "outputs": [],
   "source": [
    "\n",
    "# def pivot_reset_tabel( variable_of_intrest ):\n",
    "#   resetted = variable_of_intrest.reset_index()\n",
    "#   resetted['time'] = resetted.TimestampLocal.dt.time\n",
    "#   resetted['Date_only'] = resetted.TimestampLocal.dt.date\n",
    "#   pivot_resetted = resetted.pivot_table( index  = 'Date_only' , columns='time' , values = variable_of_intrest)\n",
    "#   return pivot_resetted    \n",
    "\n",
    "# def month_wise_visualisation( start = '' , end = '' , var = 'AVG in-plane irradiance' , mode = 'MAD' ):\n",
    "#   global high_ground\n",
    "#   pivot_resetted = pivot_reset_tabel( var )\n",
    "#   subset =  pivot_resetted.loc[ pd.to_datetime(start) : pd.to_datetime(end)]\n",
    "  \n",
    "#   ##historic_data = pivot_resetted.loc[ pd.to_datetime(start) : pd.to_datetime(end)]\n",
    "#   ##variable_of_intrest =  pivot_resetted.loc[pd.to_datetime(start):pd.to_datetime(start)]\n",
    "  \n",
    "  \n",
    "#   subset = subset.iloc[:-1,:]\n",
    "\n",
    "#   high_ground = subset\n",
    "#   varibles_to_draw = subset.iloc[-1,:]\n",
    "\n",
    "#   '''\n",
    "#   Visualisation \n",
    "#   '''\n",
    "#   if( mode == 'MAD' ):\n",
    "#     f = go.Figure()\n",
    "#     f.add_trace( go.Scatter( x =  list(subset.columns)  ,  y  = subset.median()    ) )\n",
    "#     f.add_trace( go.Scatter( x =  list(subset.columns)  ,  y  = (subset.median() + ( 3 * subset.apply(mad,raw=True))) , fill = 'tonexty'    ) )\n",
    "#     f.add_trace( go.Scatter( x =  list(subset.columns)  ,  y  = (subset.median() - ( 3 * subset.apply(mad,raw=True))) , fill = 'tonexty'    ) )\n",
    "#     f.add_trace( go.Scatter( x =  list(subset.columns) ,  y  = varibles_to_draw , mode = 'markers'    ) )\n",
    "#     f.update_layout( title = f'Graph showing Anamolies in {var.upper()} for a period starting from  {start} to {end}' , xaxis_title = 'Time' , yaxis_title = var )\n",
    "#     f.show()\n",
    "\n",
    "#   if( mode == 'MEAN' ):\n",
    "#     f = go.Figure()\n",
    "#     f.add_trace( go.Scatter( x =  list(subset.columns)  ,  y  = subset.describe().loc['mean']    ) )\n",
    "#     f.add_trace( go.Scatter( x =  list(subset.columns)  ,  y  = (subset.describe().loc['mean'] + 3 * subset.describe().loc['std']) , fill = 'tonexty'    ) )\n",
    "#     f.add_trace( go.Scatter( x =  list(subset.columns)  ,  y  = (subset.describe().loc['mean'] - 3 * subset.describe().loc['std']) , fill = 'tonexty'    ) )\n",
    "#     f.add_trace( go.Scatter( x =  list(subset.columns) ,  y  = varibles_to_draw , mode = 'markers'    ) )\n",
    "#     f.update_layout( title = f'Graph showing Anamolies in {var.upper()} for a period starting from  {start} to {end}' , xaxis_title = 'Time' , yaxis_title = var )\n",
    "#     f.show()\n"
   ]
  },
  {
   "cell_type": "markdown",
   "metadata": {},
   "source": [
    "## Get Data From API"
   ]
  },
  {
   "cell_type": "code",
   "execution_count": 133,
   "metadata": {},
   "outputs": [],
   "source": [
    "#Definitions\n",
    "class DateTimeEncoder(JSONEncoder):\n",
    "        #Override the default method\n",
    "        def default(self, obj):\n",
    "            if isinstance(obj, (datetime.date, datetime.datetime)):\n",
    "                return obj.isoformat()\n",
    "\n",
    "\n",
    "def get_data(id,attri,start_date , end_date):\n",
    "    ''' \n",
    "    Edit this if your running a cron Job \n",
    "    queryTimeDiff = datetime.timedelta(minutes=90)\n",
    "    endDate = datetime.datetime.now()\n",
    "    startDate = datetime.datetime.now() - queryTimeDiff\n",
    "    '''\n",
    "    from pandas.tseries.offsets import DateOffset\n",
    "    ts = pd.to_datetime( start_date  , utc=True)\n",
    "    x = ts - DateOffset(days=12)\n",
    "    start_date =   str(x.year) + '-' +  str(x.month) + '-' + str(x.day)  + ' ' +  '00:00:00'  \n",
    "    #Change the start data and End Data for longer duration \n",
    "    query = {'id':id,'attributes':attri,'startDate':start_date,'endDate':end_date}\n",
    "    query = DateTimeEncoder().encode(query)\n",
    "    query = eval(query)\n",
    "    response = requests.get('http://54.206.42.58:8006/api/v2/historicalData/getObjectAttributeHistoricalData', params=query)\n",
    "\n",
    "    data = response.json()\n",
    "    exportedData = data[\"data\"][\"ObjectData\"]\n",
    "    df = pd.DataFrame(exportedData)\n",
    "    pivoted = df.pivot( index= 'measurementtimestamp' , columns='attributeserviceid' , values= 'value' )\n",
    "    #pivoted = pivoted.dropna(how='any',axis=0) \n",
    "    return pivoted\n",
    "\n",
    "\n",
    "mad = lambda x: np.median(np.fabs(x - np.median(x)))"
   ]
  },
  {
   "cell_type": "code",
   "execution_count": 134,
   "metadata": {},
   "outputs": [
    {
     "data": {
      "text/html": [
       "<div>\n",
       "<style scoped>\n",
       "    .dataframe tbody tr th:only-of-type {\n",
       "        vertical-align: middle;\n",
       "    }\n",
       "\n",
       "    .dataframe tbody tr th {\n",
       "        vertical-align: top;\n",
       "    }\n",
       "\n",
       "    .dataframe thead th {\n",
       "        text-align: right;\n",
       "    }\n",
       "</style>\n",
       "<table border=\"1\" class=\"dataframe\">\n",
       "  <thead>\n",
       "    <tr style=\"text-align: right;\">\n",
       "      <th>attributeserviceid</th>\n",
       "      <th>Active Power</th>\n",
       "    </tr>\n",
       "    <tr>\n",
       "      <th>measurementtimestamp</th>\n",
       "      <th></th>\n",
       "    </tr>\n",
       "  </thead>\n",
       "  <tbody>\n",
       "    <tr>\n",
       "      <th>2021-11-01T00:00:00.000Z</th>\n",
       "      <td>2082</td>\n",
       "    </tr>\n",
       "    <tr>\n",
       "      <th>2021-11-01T00:05:00.000Z</th>\n",
       "      <td>2084</td>\n",
       "    </tr>\n",
       "    <tr>\n",
       "      <th>2021-11-01T00:10:00.000Z</th>\n",
       "      <td>2079</td>\n",
       "    </tr>\n",
       "    <tr>\n",
       "      <th>2021-11-01T00:15:00.000Z</th>\n",
       "      <td>2086</td>\n",
       "    </tr>\n",
       "    <tr>\n",
       "      <th>2021-11-01T00:20:00.000Z</th>\n",
       "      <td>2088</td>\n",
       "    </tr>\n",
       "  </tbody>\n",
       "</table>\n",
       "</div>"
      ],
      "text/plain": [
       "attributeserviceid       Active Power\n",
       "measurementtimestamp                 \n",
       "2021-11-01T00:00:00.000Z         2082\n",
       "2021-11-01T00:05:00.000Z         2084\n",
       "2021-11-01T00:10:00.000Z         2079\n",
       "2021-11-01T00:15:00.000Z         2086\n",
       "2021-11-01T00:20:00.000Z         2088"
      ]
     },
     "metadata": {},
     "output_type": "display_data"
    }
   ],
   "source": [
    "#pivotting data \n",
    "strt = '2021-11-13 00:00:00'\n",
    "end =  '2021-11-15 23:59:00'\n",
    "df = get_data( 'WP_SF_MVPS1.INV1', 'Active Power', strt ,end )\n",
    "display(df.head(5))\n",
    "\n",
    "def pivot_reset_tabel( variable_of_intrest ):\n",
    "  resetted = variable_of_intrest.reset_index()\n",
    "  resetted['measurementtimestamp'] =  pd.to_datetime(resetted.measurementtimestamp )\n",
    "  resetted['time'] = resetted.measurementtimestamp.dt.time\n",
    "  resetted['Date_only'] = resetted.measurementtimestamp.dt.date\n",
    "  resetted['Active Power'] = resetted['Active Power'].astype(float)\n",
    "  pivot_resetted = resetted.pivot_table( index  = 'Date_only' , columns='time' , values = 'Active Power')\n",
    "  return pivot_resetted  \n",
    "\n",
    "pivot_resetted = pivot_reset_tabel(df)"
   ]
  },
  {
   "cell_type": "code",
   "execution_count": 149,
   "metadata": {},
   "outputs": [
    {
     "data": {
      "text/plain": [
       "12.0"
      ]
     },
     "execution_count": 149,
     "metadata": {},
     "output_type": "execute_result"
    }
   ],
   "source": [
    "60/5"
   ]
  },
  {
   "cell_type": "code",
   "execution_count": 156,
   "metadata": {},
   "outputs": [
    {
     "data": {
      "text/plain": [
       "288"
      ]
     },
     "execution_count": 156,
     "metadata": {},
     "output_type": "execute_result"
    }
   ],
   "source": [
    "12 * 24"
   ]
  },
  {
   "cell_type": "code",
   "execution_count": 177,
   "metadata": {},
   "outputs": [
    {
     "data": {
      "text/plain": [
       "288.0"
      ]
     },
     "execution_count": 177,
     "metadata": {},
     "output_type": "execute_result"
    }
   ],
   "source": [
    "(60 * 24) / 5 "
   ]
  },
  {
   "cell_type": "code",
   "execution_count": 178,
   "metadata": {},
   "outputs": [
    {
     "data": {
      "text/plain": [
       "{datetime.time(0, 0),\n",
       " datetime.time(0, 5),\n",
       " datetime.time(0, 10),\n",
       " datetime.time(0, 15),\n",
       " datetime.time(0, 20),\n",
       " datetime.time(0, 25),\n",
       " datetime.time(0, 30),\n",
       " datetime.time(0, 35),\n",
       " datetime.time(0, 40),\n",
       " datetime.time(0, 45),\n",
       " datetime.time(0, 50),\n",
       " datetime.time(0, 55),\n",
       " datetime.time(1, 0),\n",
       " datetime.time(1, 5),\n",
       " datetime.time(1, 10),\n",
       " datetime.time(1, 15),\n",
       " datetime.time(1, 20),\n",
       " datetime.time(1, 25),\n",
       " datetime.time(1, 30),\n",
       " datetime.time(1, 35),\n",
       " datetime.time(1, 40),\n",
       " datetime.time(1, 45),\n",
       " datetime.time(1, 50),\n",
       " datetime.time(1, 55),\n",
       " datetime.time(2, 0),\n",
       " datetime.time(2, 4, 59),\n",
       " datetime.time(2, 5),\n",
       " datetime.time(2, 10),\n",
       " datetime.time(2, 15),\n",
       " datetime.time(2, 20),\n",
       " datetime.time(2, 25),\n",
       " datetime.time(2, 25, 1),\n",
       " datetime.time(2, 30),\n",
       " datetime.time(2, 35),\n",
       " datetime.time(2, 40),\n",
       " datetime.time(2, 45),\n",
       " datetime.time(2, 50),\n",
       " datetime.time(2, 55),\n",
       " datetime.time(3, 0),\n",
       " datetime.time(3, 5),\n",
       " datetime.time(3, 10),\n",
       " datetime.time(3, 15),\n",
       " datetime.time(3, 20),\n",
       " datetime.time(3, 25),\n",
       " datetime.time(3, 25, 17),\n",
       " datetime.time(3, 30),\n",
       " datetime.time(3, 35),\n",
       " datetime.time(3, 40),\n",
       " datetime.time(3, 45),\n",
       " datetime.time(3, 50),\n",
       " datetime.time(3, 55),\n",
       " datetime.time(4, 0),\n",
       " datetime.time(4, 5),\n",
       " datetime.time(4, 10),\n",
       " datetime.time(4, 10, 16),\n",
       " datetime.time(4, 15),\n",
       " datetime.time(4, 20),\n",
       " datetime.time(4, 24, 59),\n",
       " datetime.time(4, 25),\n",
       " datetime.time(4, 25, 28),\n",
       " datetime.time(4, 30),\n",
       " datetime.time(4, 35),\n",
       " datetime.time(4, 40),\n",
       " datetime.time(4, 45),\n",
       " datetime.time(4, 50),\n",
       " datetime.time(4, 55),\n",
       " datetime.time(5, 0),\n",
       " datetime.time(5, 5),\n",
       " datetime.time(5, 10),\n",
       " datetime.time(5, 15),\n",
       " datetime.time(5, 20),\n",
       " datetime.time(5, 25),\n",
       " datetime.time(5, 30),\n",
       " datetime.time(5, 35),\n",
       " datetime.time(5, 40),\n",
       " datetime.time(5, 45),\n",
       " datetime.time(5, 50),\n",
       " datetime.time(5, 55),\n",
       " datetime.time(6, 0),\n",
       " datetime.time(6, 5),\n",
       " datetime.time(6, 10),\n",
       " datetime.time(6, 15),\n",
       " datetime.time(6, 20),\n",
       " datetime.time(6, 25),\n",
       " datetime.time(6, 30),\n",
       " datetime.time(6, 35),\n",
       " datetime.time(6, 40),\n",
       " datetime.time(6, 45),\n",
       " datetime.time(6, 45, 18),\n",
       " datetime.time(6, 50),\n",
       " datetime.time(6, 55),\n",
       " datetime.time(7, 0),\n",
       " datetime.time(7, 5),\n",
       " datetime.time(7, 10),\n",
       " datetime.time(7, 15),\n",
       " datetime.time(7, 20),\n",
       " datetime.time(7, 25),\n",
       " datetime.time(7, 30),\n",
       " datetime.time(7, 35),\n",
       " datetime.time(7, 40),\n",
       " datetime.time(7, 45),\n",
       " datetime.time(7, 50),\n",
       " datetime.time(7, 55),\n",
       " datetime.time(8, 0),\n",
       " datetime.time(8, 5),\n",
       " datetime.time(8, 10),\n",
       " datetime.time(8, 15),\n",
       " datetime.time(8, 20),\n",
       " datetime.time(8, 25),\n",
       " datetime.time(8, 30),\n",
       " datetime.time(8, 35),\n",
       " datetime.time(8, 40),\n",
       " datetime.time(8, 45),\n",
       " datetime.time(8, 50),\n",
       " datetime.time(8, 55),\n",
       " datetime.time(9, 0),\n",
       " datetime.time(9, 5),\n",
       " datetime.time(9, 5, 28),\n",
       " datetime.time(9, 10),\n",
       " datetime.time(9, 15),\n",
       " datetime.time(9, 20),\n",
       " datetime.time(9, 25),\n",
       " datetime.time(9, 30),\n",
       " datetime.time(9, 35),\n",
       " datetime.time(9, 40),\n",
       " datetime.time(9, 45),\n",
       " datetime.time(9, 50),\n",
       " datetime.time(9, 55),\n",
       " datetime.time(10, 0),\n",
       " datetime.time(10, 5),\n",
       " datetime.time(10, 10),\n",
       " datetime.time(10, 15),\n",
       " datetime.time(10, 20),\n",
       " datetime.time(10, 25),\n",
       " datetime.time(10, 30),\n",
       " datetime.time(10, 35),\n",
       " datetime.time(10, 40),\n",
       " datetime.time(10, 45),\n",
       " datetime.time(10, 50),\n",
       " datetime.time(10, 55),\n",
       " datetime.time(11, 0),\n",
       " datetime.time(11, 5),\n",
       " datetime.time(11, 10),\n",
       " datetime.time(11, 15),\n",
       " datetime.time(11, 20),\n",
       " datetime.time(11, 25),\n",
       " datetime.time(11, 30),\n",
       " datetime.time(11, 35),\n",
       " datetime.time(11, 40),\n",
       " datetime.time(11, 45),\n",
       " datetime.time(11, 50),\n",
       " datetime.time(11, 55),\n",
       " datetime.time(12, 0),\n",
       " datetime.time(12, 5),\n",
       " datetime.time(12, 10),\n",
       " datetime.time(12, 15),\n",
       " datetime.time(12, 20),\n",
       " datetime.time(12, 25),\n",
       " datetime.time(12, 30),\n",
       " datetime.time(12, 35),\n",
       " datetime.time(12, 40),\n",
       " datetime.time(12, 45),\n",
       " datetime.time(12, 50),\n",
       " datetime.time(12, 55),\n",
       " datetime.time(13, 0),\n",
       " datetime.time(13, 5),\n",
       " datetime.time(13, 9, 59),\n",
       " datetime.time(13, 10),\n",
       " datetime.time(13, 15),\n",
       " datetime.time(13, 20),\n",
       " datetime.time(13, 25),\n",
       " datetime.time(13, 30),\n",
       " datetime.time(13, 35),\n",
       " datetime.time(13, 40),\n",
       " datetime.time(13, 45),\n",
       " datetime.time(13, 50),\n",
       " datetime.time(13, 55),\n",
       " datetime.time(14, 0),\n",
       " datetime.time(14, 5),\n",
       " datetime.time(14, 10),\n",
       " datetime.time(14, 15),\n",
       " datetime.time(14, 20),\n",
       " datetime.time(14, 25),\n",
       " datetime.time(14, 30),\n",
       " datetime.time(14, 35),\n",
       " datetime.time(14, 40),\n",
       " datetime.time(14, 45),\n",
       " datetime.time(14, 50),\n",
       " datetime.time(14, 55),\n",
       " datetime.time(15, 0),\n",
       " datetime.time(15, 5),\n",
       " datetime.time(15, 10),\n",
       " datetime.time(15, 15),\n",
       " datetime.time(15, 20),\n",
       " datetime.time(15, 25),\n",
       " datetime.time(15, 30),\n",
       " datetime.time(15, 35),\n",
       " datetime.time(15, 40),\n",
       " datetime.time(15, 45),\n",
       " datetime.time(15, 50),\n",
       " datetime.time(15, 55),\n",
       " datetime.time(16, 0),\n",
       " datetime.time(16, 5),\n",
       " datetime.time(16, 10),\n",
       " datetime.time(16, 15),\n",
       " datetime.time(16, 20),\n",
       " datetime.time(16, 25),\n",
       " datetime.time(16, 30),\n",
       " datetime.time(16, 35),\n",
       " datetime.time(16, 40),\n",
       " datetime.time(16, 45),\n",
       " datetime.time(16, 50),\n",
       " datetime.time(16, 55),\n",
       " datetime.time(17, 0),\n",
       " datetime.time(17, 5),\n",
       " datetime.time(17, 10),\n",
       " datetime.time(17, 15),\n",
       " datetime.time(17, 20),\n",
       " datetime.time(17, 25),\n",
       " datetime.time(17, 30),\n",
       " datetime.time(17, 35),\n",
       " datetime.time(17, 40),\n",
       " datetime.time(17, 45),\n",
       " datetime.time(17, 50),\n",
       " datetime.time(17, 55),\n",
       " datetime.time(18, 0),\n",
       " datetime.time(18, 5),\n",
       " datetime.time(18, 10),\n",
       " datetime.time(18, 15),\n",
       " datetime.time(18, 20),\n",
       " datetime.time(18, 25),\n",
       " datetime.time(18, 30),\n",
       " datetime.time(18, 35),\n",
       " datetime.time(18, 40),\n",
       " datetime.time(18, 45),\n",
       " datetime.time(18, 50),\n",
       " datetime.time(18, 55),\n",
       " datetime.time(19, 0),\n",
       " datetime.time(19, 5),\n",
       " datetime.time(19, 10),\n",
       " datetime.time(19, 15),\n",
       " datetime.time(19, 15, 1),\n",
       " datetime.time(19, 20),\n",
       " datetime.time(19, 25),\n",
       " datetime.time(19, 30),\n",
       " datetime.time(19, 35),\n",
       " datetime.time(19, 40),\n",
       " datetime.time(19, 45),\n",
       " datetime.time(19, 50),\n",
       " datetime.time(19, 55),\n",
       " datetime.time(20, 0),\n",
       " datetime.time(20, 0, 1),\n",
       " datetime.time(20, 5),\n",
       " datetime.time(20, 10),\n",
       " datetime.time(20, 15),\n",
       " datetime.time(20, 20),\n",
       " datetime.time(20, 25),\n",
       " datetime.time(20, 30),\n",
       " datetime.time(20, 35),\n",
       " datetime.time(20, 40),\n",
       " datetime.time(20, 45),\n",
       " datetime.time(20, 50),\n",
       " datetime.time(20, 50, 1),\n",
       " datetime.time(20, 55),\n",
       " datetime.time(21, 0),\n",
       " datetime.time(21, 5),\n",
       " datetime.time(21, 10),\n",
       " datetime.time(21, 15),\n",
       " datetime.time(21, 20),\n",
       " datetime.time(21, 25),\n",
       " datetime.time(21, 30),\n",
       " datetime.time(21, 35),\n",
       " datetime.time(21, 40),\n",
       " datetime.time(21, 45),\n",
       " datetime.time(21, 50),\n",
       " datetime.time(21, 55),\n",
       " datetime.time(22, 0),\n",
       " datetime.time(22, 5),\n",
       " datetime.time(22, 10),\n",
       " datetime.time(22, 15),\n",
       " datetime.time(22, 20),\n",
       " datetime.time(22, 25),\n",
       " datetime.time(22, 30),\n",
       " datetime.time(22, 35),\n",
       " datetime.time(22, 40),\n",
       " datetime.time(22, 45),\n",
       " datetime.time(22, 50),\n",
       " datetime.time(22, 55),\n",
       " datetime.time(23, 0),\n",
       " datetime.time(23, 5),\n",
       " datetime.time(23, 10),\n",
       " datetime.time(23, 15),\n",
       " datetime.time(23, 20),\n",
       " datetime.time(23, 25),\n",
       " datetime.time(23, 30),\n",
       " datetime.time(23, 35),\n",
       " datetime.time(23, 40),\n",
       " datetime.time(23, 45),\n",
       " datetime.time(23, 50),\n",
       " datetime.time(23, 55)}"
      ]
     },
     "execution_count": 178,
     "metadata": {},
     "output_type": "execute_result"
    }
   ],
   "source": [
    "set(pivot_resetted.columns)"
   ]
  },
  {
   "cell_type": "code",
   "execution_count": 174,
   "metadata": {},
   "outputs": [
    {
     "data": {
      "text/plain": [
       "array([datetime.time(0, 0), datetime.time(0, 5), datetime.time(0, 10),\n",
       "       datetime.time(0, 15), datetime.time(0, 20), datetime.time(0, 25),\n",
       "       datetime.time(0, 30), datetime.time(0, 35), datetime.time(0, 40),\n",
       "       datetime.time(0, 45), datetime.time(0, 50), datetime.time(0, 55),\n",
       "       datetime.time(1, 0), datetime.time(1, 5), datetime.time(1, 10),\n",
       "       datetime.time(1, 15), datetime.time(1, 20), datetime.time(1, 25),\n",
       "       datetime.time(1, 30), datetime.time(1, 35), datetime.time(1, 40),\n",
       "       datetime.time(1, 45), datetime.time(1, 50), datetime.time(1, 55),\n",
       "       datetime.time(2, 0), datetime.time(2, 4, 59), datetime.time(2, 5),\n",
       "       datetime.time(2, 10), datetime.time(2, 15), datetime.time(2, 20),\n",
       "       datetime.time(2, 25), datetime.time(2, 25, 1),\n",
       "       datetime.time(2, 30), datetime.time(2, 35), datetime.time(2, 40),\n",
       "       datetime.time(2, 45), datetime.time(2, 50), datetime.time(2, 55),\n",
       "       datetime.time(3, 0), datetime.time(3, 5), datetime.time(3, 10),\n",
       "       datetime.time(3, 15), datetime.time(3, 20), datetime.time(3, 25),\n",
       "       datetime.time(3, 25, 17), datetime.time(3, 30),\n",
       "       datetime.time(3, 35), datetime.time(3, 40), datetime.time(3, 45),\n",
       "       datetime.time(3, 50), datetime.time(3, 55), datetime.time(4, 0),\n",
       "       datetime.time(4, 5), datetime.time(4, 10),\n",
       "       datetime.time(4, 10, 16), datetime.time(4, 15),\n",
       "       datetime.time(4, 20), datetime.time(4, 24, 59),\n",
       "       datetime.time(4, 25), datetime.time(4, 25, 28),\n",
       "       datetime.time(4, 30), datetime.time(4, 35), datetime.time(4, 40),\n",
       "       datetime.time(4, 45), datetime.time(4, 50), datetime.time(4, 55),\n",
       "       datetime.time(5, 0), datetime.time(5, 5), datetime.time(5, 10),\n",
       "       datetime.time(5, 15), datetime.time(5, 20), datetime.time(5, 25),\n",
       "       datetime.time(5, 30), datetime.time(5, 35), datetime.time(5, 40),\n",
       "       datetime.time(5, 45), datetime.time(5, 50), datetime.time(5, 55),\n",
       "       datetime.time(6, 0), datetime.time(6, 5), datetime.time(6, 10),\n",
       "       datetime.time(6, 15), datetime.time(6, 20), datetime.time(6, 25),\n",
       "       datetime.time(6, 30), datetime.time(6, 35), datetime.time(6, 40),\n",
       "       datetime.time(6, 45), datetime.time(6, 45, 18),\n",
       "       datetime.time(6, 50), datetime.time(6, 55), datetime.time(7, 0),\n",
       "       datetime.time(7, 5), datetime.time(7, 10), datetime.time(7, 15),\n",
       "       datetime.time(7, 20), datetime.time(7, 25), datetime.time(7, 30),\n",
       "       datetime.time(7, 35), datetime.time(7, 40), datetime.time(7, 45),\n",
       "       datetime.time(7, 50), datetime.time(7, 55), datetime.time(8, 0),\n",
       "       datetime.time(8, 5), datetime.time(8, 10), datetime.time(8, 15),\n",
       "       datetime.time(8, 20), datetime.time(8, 25), datetime.time(8, 30),\n",
       "       datetime.time(8, 35), datetime.time(8, 40), datetime.time(8, 45),\n",
       "       datetime.time(8, 50), datetime.time(8, 55), datetime.time(9, 0),\n",
       "       datetime.time(9, 5), datetime.time(9, 5, 28), datetime.time(9, 10),\n",
       "       datetime.time(9, 15), datetime.time(9, 20), datetime.time(9, 25),\n",
       "       datetime.time(9, 30), datetime.time(9, 35), datetime.time(9, 40),\n",
       "       datetime.time(9, 45), datetime.time(9, 50), datetime.time(9, 55),\n",
       "       datetime.time(10, 0), datetime.time(10, 5), datetime.time(10, 10),\n",
       "       datetime.time(10, 15), datetime.time(10, 20),\n",
       "       datetime.time(10, 25), datetime.time(10, 30),\n",
       "       datetime.time(10, 35), datetime.time(10, 40),\n",
       "       datetime.time(10, 45), datetime.time(10, 50),\n",
       "       datetime.time(10, 55), datetime.time(11, 0), datetime.time(11, 5),\n",
       "       datetime.time(11, 10), datetime.time(11, 15),\n",
       "       datetime.time(11, 20), datetime.time(11, 25),\n",
       "       datetime.time(11, 30), datetime.time(11, 35),\n",
       "       datetime.time(11, 40), datetime.time(11, 45),\n",
       "       datetime.time(11, 50), datetime.time(11, 55), datetime.time(12, 0),\n",
       "       datetime.time(12, 5), datetime.time(12, 10), datetime.time(12, 15),\n",
       "       datetime.time(12, 20), datetime.time(12, 25),\n",
       "       datetime.time(12, 30), datetime.time(12, 35),\n",
       "       datetime.time(12, 40), datetime.time(12, 45),\n",
       "       datetime.time(12, 50), datetime.time(12, 55), datetime.time(13, 0),\n",
       "       datetime.time(13, 5), datetime.time(13, 9, 59),\n",
       "       datetime.time(13, 10), datetime.time(13, 15),\n",
       "       datetime.time(13, 20), datetime.time(13, 25),\n",
       "       datetime.time(13, 30), datetime.time(13, 35),\n",
       "       datetime.time(13, 40), datetime.time(13, 45),\n",
       "       datetime.time(13, 50), datetime.time(13, 55), datetime.time(14, 0),\n",
       "       datetime.time(14, 5), datetime.time(14, 10), datetime.time(14, 15),\n",
       "       datetime.time(14, 20), datetime.time(14, 25),\n",
       "       datetime.time(14, 30), datetime.time(14, 35),\n",
       "       datetime.time(14, 40), datetime.time(14, 45),\n",
       "       datetime.time(14, 50), datetime.time(14, 55), datetime.time(15, 0),\n",
       "       datetime.time(15, 5), datetime.time(15, 10), datetime.time(15, 15),\n",
       "       datetime.time(15, 20), datetime.time(15, 25),\n",
       "       datetime.time(15, 30), datetime.time(15, 35),\n",
       "       datetime.time(15, 40), datetime.time(15, 45),\n",
       "       datetime.time(15, 50), datetime.time(15, 55), datetime.time(16, 0),\n",
       "       datetime.time(16, 5), datetime.time(16, 10), datetime.time(16, 15),\n",
       "       datetime.time(16, 20), datetime.time(16, 25),\n",
       "       datetime.time(16, 30), datetime.time(16, 35),\n",
       "       datetime.time(16, 40), datetime.time(16, 45),\n",
       "       datetime.time(16, 50), datetime.time(16, 55), datetime.time(17, 0),\n",
       "       datetime.time(17, 5), datetime.time(17, 10), datetime.time(17, 15),\n",
       "       datetime.time(17, 20), datetime.time(17, 25),\n",
       "       datetime.time(17, 30), datetime.time(17, 35),\n",
       "       datetime.time(17, 40), datetime.time(17, 45),\n",
       "       datetime.time(17, 50), datetime.time(17, 55), datetime.time(18, 0),\n",
       "       datetime.time(18, 5), datetime.time(18, 10), datetime.time(18, 15),\n",
       "       datetime.time(18, 20), datetime.time(18, 25),\n",
       "       datetime.time(18, 30), datetime.time(18, 35),\n",
       "       datetime.time(18, 40), datetime.time(18, 45),\n",
       "       datetime.time(18, 50), datetime.time(18, 55), datetime.time(19, 0),\n",
       "       datetime.time(19, 5), datetime.time(19, 10), datetime.time(19, 15),\n",
       "       datetime.time(19, 15, 1), datetime.time(19, 20),\n",
       "       datetime.time(19, 25), datetime.time(19, 30),\n",
       "       datetime.time(19, 35), datetime.time(19, 40),\n",
       "       datetime.time(19, 45), datetime.time(19, 50),\n",
       "       datetime.time(19, 55), datetime.time(20, 0),\n",
       "       datetime.time(20, 0, 1), datetime.time(20, 5),\n",
       "       datetime.time(20, 10), datetime.time(20, 15),\n",
       "       datetime.time(20, 20), datetime.time(20, 25),\n",
       "       datetime.time(20, 30), datetime.time(20, 35),\n",
       "       datetime.time(20, 40), datetime.time(20, 45),\n",
       "       datetime.time(20, 50), datetime.time(20, 50, 1),\n",
       "       datetime.time(20, 55), datetime.time(21, 0), datetime.time(21, 5),\n",
       "       datetime.time(21, 10), datetime.time(21, 15),\n",
       "       datetime.time(21, 20), datetime.time(21, 25),\n",
       "       datetime.time(21, 30), datetime.time(21, 35),\n",
       "       datetime.time(21, 40), datetime.time(21, 45),\n",
       "       datetime.time(21, 50), datetime.time(21, 55), datetime.time(22, 0),\n",
       "       datetime.time(22, 5), datetime.time(22, 10), datetime.time(22, 15),\n",
       "       datetime.time(22, 20), datetime.time(22, 25),\n",
       "       datetime.time(22, 30), datetime.time(22, 35),\n",
       "       datetime.time(22, 40), datetime.time(22, 45),\n",
       "       datetime.time(22, 50), datetime.time(22, 55), datetime.time(23, 0),\n",
       "       datetime.time(23, 5), datetime.time(23, 10), datetime.time(23, 15),\n",
       "       datetime.time(23, 20), datetime.time(23, 25),\n",
       "       datetime.time(23, 30), datetime.time(23, 35),\n",
       "       datetime.time(23, 40), datetime.time(23, 45),\n",
       "       datetime.time(23, 50), datetime.time(23, 55)], dtype=object)"
      ]
     },
     "execution_count": 174,
     "metadata": {},
     "output_type": "execute_result"
    }
   ],
   "source": [
    "np.unique(pivot_resetted.columns)"
   ]
  },
  {
   "cell_type": "code",
   "execution_count": 143,
   "metadata": {},
   "outputs": [
    {
     "data": {
      "text/plain": [
       "288.0"
      ]
     },
     "execution_count": 143,
     "metadata": {},
     "output_type": "execute_result"
    }
   ],
   "source": [
    "24 * (60/5) "
   ]
  },
  {
   "cell_type": "code",
   "execution_count": 144,
   "metadata": {},
   "outputs": [
    {
     "data": {
      "text/plain": [
       "864"
      ]
     },
     "execution_count": 144,
     "metadata": {},
     "output_type": "execute_result"
    }
   ],
   "source": [
    "288 * 3"
   ]
  },
  {
   "cell_type": "code",
   "execution_count": 140,
   "metadata": {},
   "outputs": [
    {
     "data": {
      "text/html": [
       "<div>\n",
       "<style scoped>\n",
       "    .dataframe tbody tr th:only-of-type {\n",
       "        vertical-align: middle;\n",
       "    }\n",
       "\n",
       "    .dataframe tbody tr th {\n",
       "        vertical-align: top;\n",
       "    }\n",
       "\n",
       "    .dataframe thead th {\n",
       "        text-align: right;\n",
       "    }\n",
       "</style>\n",
       "<table border=\"1\" class=\"dataframe\">\n",
       "  <thead>\n",
       "    <tr style=\"text-align: right;\">\n",
       "      <th>attributeserviceid</th>\n",
       "      <th>Active Power</th>\n",
       "    </tr>\n",
       "    <tr>\n",
       "      <th>measurementtimestamp</th>\n",
       "      <th></th>\n",
       "    </tr>\n",
       "  </thead>\n",
       "  <tbody>\n",
       "    <tr>\n",
       "      <th>2021-11-01 00:00:00+00:00</th>\n",
       "      <td>2082</td>\n",
       "    </tr>\n",
       "    <tr>\n",
       "      <th>2021-11-01 00:05:00+00:00</th>\n",
       "      <td>2084</td>\n",
       "    </tr>\n",
       "    <tr>\n",
       "      <th>2021-11-01 00:10:00+00:00</th>\n",
       "      <td>2079</td>\n",
       "    </tr>\n",
       "    <tr>\n",
       "      <th>2021-11-01 00:15:00+00:00</th>\n",
       "      <td>2086</td>\n",
       "    </tr>\n",
       "    <tr>\n",
       "      <th>2021-11-01 00:20:00+00:00</th>\n",
       "      <td>2088</td>\n",
       "    </tr>\n",
       "    <tr>\n",
       "      <th>...</th>\n",
       "      <td>...</td>\n",
       "    </tr>\n",
       "    <tr>\n",
       "      <th>2021-11-15 23:35:00+00:00</th>\n",
       "      <td>666</td>\n",
       "    </tr>\n",
       "    <tr>\n",
       "      <th>2021-11-15 23:40:00+00:00</th>\n",
       "      <td>542</td>\n",
       "    </tr>\n",
       "    <tr>\n",
       "      <th>2021-11-15 23:45:00+00:00</th>\n",
       "      <td>469</td>\n",
       "    </tr>\n",
       "    <tr>\n",
       "      <th>2021-11-15 23:50:00+00:00</th>\n",
       "      <td>515</td>\n",
       "    </tr>\n",
       "    <tr>\n",
       "      <th>2021-11-15 23:55:00+00:00</th>\n",
       "      <td>668</td>\n",
       "    </tr>\n",
       "  </tbody>\n",
       "</table>\n",
       "<p>4283 rows × 1 columns</p>\n",
       "</div>"
      ],
      "text/plain": [
       "attributeserviceid        Active Power\n",
       "measurementtimestamp                  \n",
       "2021-11-01 00:00:00+00:00         2082\n",
       "2021-11-01 00:05:00+00:00         2084\n",
       "2021-11-01 00:10:00+00:00         2079\n",
       "2021-11-01 00:15:00+00:00         2086\n",
       "2021-11-01 00:20:00+00:00         2088\n",
       "...                                ...\n",
       "2021-11-15 23:35:00+00:00          666\n",
       "2021-11-15 23:40:00+00:00          542\n",
       "2021-11-15 23:45:00+00:00          469\n",
       "2021-11-15 23:50:00+00:00          515\n",
       "2021-11-15 23:55:00+00:00          668\n",
       "\n",
       "[4283 rows x 1 columns]"
      ]
     },
     "execution_count": 140,
     "metadata": {},
     "output_type": "execute_result"
    }
   ],
   "source": [
    "df"
   ]
  },
  {
   "cell_type": "code",
   "execution_count": 172,
   "metadata": {},
   "outputs": [
    {
     "name": "stdout",
     "output_type": "stream",
     "text": [
      "(300, 4)\n",
      "(300, 4)\n",
      "(300, 4)\n"
     ]
    }
   ],
   "source": [
    "#Looping thru dates-computing median MAD\n",
    "\n",
    "def compute( historical , intrest  ):\n",
    "    actual = intrest.T\n",
    "    #display(actual.T)\n",
    "    median = historical.median()\n",
    "    #display(median)\n",
    "    TH = (historical.median() + ( 3 * historical.apply(mad,raw=True)))\n",
    "    #isplay(TH)\n",
    "    TL = (historical.median() - ( 3 * historical.apply(mad,raw=True)))\n",
    "    #display(TL)\n",
    "    df =  pd.concat( [actual,median ,TH ,TL] , axis = 1 )\n",
    "    #display(df)\n",
    "    df.columns =  ['Active Power' , 'Median' , 'TH' , 'TL']  \n",
    "    df.reset_index( inplace= True)\n",
    "    #display(df)\n",
    "    df.drop( columns = ['time'] , inplace= True )\n",
    "    #display(df)\n",
    "    return df \n",
    "   \n",
    "\n",
    "start = -1 \n",
    "ending = 11\n",
    "df_list = [] \n",
    "for each in pd.date_range(start=strt.split( ' ' )[0], end= '2021-11-15'):\n",
    "    start = start + 1\n",
    "    ending = ending + 1  \n",
    "    historical = pivot_resetted.iloc[start:ending,:]\n",
    "    intrest =    pivot_resetted.loc[ each : each ]\n",
    "    df =  compute( historical , intrest  )\n",
    "    print(df.shape)\n",
    "    df_list.append(compute( historical , intrest  ))\n",
    "\n",
    "main = pd.concat(df_list)\n",
    "\n",
    "    "
   ]
  },
  {
   "cell_type": "code",
   "execution_count": 145,
   "metadata": {},
   "outputs": [
    {
     "data": {
      "text/plain": [
       "Active Power\n",
       "-3.0         3\n",
       " 0.0       346\n",
       " 2.0         2\n",
       " 3.0         1\n",
       " 4.0         2\n",
       "          ... \n",
       " 2495.0      2\n",
       " 2496.0      2\n",
       " 2497.0      3\n",
       " 2498.0      1\n",
       " 2499.0      1\n",
       "Length: 437, dtype: int64"
      ]
     },
     "execution_count": 145,
     "metadata": {},
     "output_type": "execute_result"
    }
   ],
   "source": [
    "main.groupby(['Active Power']).size()"
   ]
  },
  {
   "cell_type": "code",
   "execution_count": 161,
   "metadata": {},
   "outputs": [
    {
     "data": {
      "text/html": [
       "<div>\n",
       "<style scoped>\n",
       "    .dataframe tbody tr th:only-of-type {\n",
       "        vertical-align: middle;\n",
       "    }\n",
       "\n",
       "    .dataframe tbody tr th {\n",
       "        vertical-align: top;\n",
       "    }\n",
       "\n",
       "    .dataframe thead th {\n",
       "        text-align: right;\n",
       "    }\n",
       "</style>\n",
       "<table border=\"1\" class=\"dataframe\">\n",
       "  <thead>\n",
       "    <tr style=\"text-align: right;\">\n",
       "      <th></th>\n",
       "      <th>Active Power</th>\n",
       "      <th>Median</th>\n",
       "      <th>TH</th>\n",
       "      <th>TL</th>\n",
       "    </tr>\n",
       "  </thead>\n",
       "  <tbody>\n",
       "    <tr>\n",
       "      <th>0</th>\n",
       "      <td>1711.0</td>\n",
       "      <td>809.0</td>\n",
       "      <td>NaN</td>\n",
       "      <td>NaN</td>\n",
       "    </tr>\n",
       "    <tr>\n",
       "      <th>1</th>\n",
       "      <td>1654.0</td>\n",
       "      <td>819.0</td>\n",
       "      <td>2457.0</td>\n",
       "      <td>-819.0</td>\n",
       "    </tr>\n",
       "    <tr>\n",
       "      <th>2</th>\n",
       "      <td>1641.0</td>\n",
       "      <td>910.5</td>\n",
       "      <td>2788.5</td>\n",
       "      <td>-967.5</td>\n",
       "    </tr>\n",
       "    <tr>\n",
       "      <th>3</th>\n",
       "      <td>1443.0</td>\n",
       "      <td>1106.5</td>\n",
       "      <td>3650.5</td>\n",
       "      <td>-1437.5</td>\n",
       "    </tr>\n",
       "    <tr>\n",
       "      <th>4</th>\n",
       "      <td>2327.0</td>\n",
       "      <td>939.5</td>\n",
       "      <td>1877.0</td>\n",
       "      <td>2.0</td>\n",
       "    </tr>\n",
       "    <tr>\n",
       "      <th>...</th>\n",
       "      <td>...</td>\n",
       "      <td>...</td>\n",
       "      <td>...</td>\n",
       "      <td>...</td>\n",
       "    </tr>\n",
       "    <tr>\n",
       "      <th>295</th>\n",
       "      <td>666.0</td>\n",
       "      <td>778.5</td>\n",
       "      <td>1554.0</td>\n",
       "      <td>3.0</td>\n",
       "    </tr>\n",
       "    <tr>\n",
       "      <th>296</th>\n",
       "      <td>542.0</td>\n",
       "      <td>846.5</td>\n",
       "      <td>1709.0</td>\n",
       "      <td>-16.0</td>\n",
       "    </tr>\n",
       "    <tr>\n",
       "      <th>297</th>\n",
       "      <td>469.0</td>\n",
       "      <td>840.5</td>\n",
       "      <td>2169.5</td>\n",
       "      <td>-488.5</td>\n",
       "    </tr>\n",
       "    <tr>\n",
       "      <th>298</th>\n",
       "      <td>515.0</td>\n",
       "      <td>1016.0</td>\n",
       "      <td>2255.0</td>\n",
       "      <td>-223.0</td>\n",
       "    </tr>\n",
       "    <tr>\n",
       "      <th>299</th>\n",
       "      <td>668.0</td>\n",
       "      <td>1084.5</td>\n",
       "      <td>2119.5</td>\n",
       "      <td>49.5</td>\n",
       "    </tr>\n",
       "  </tbody>\n",
       "</table>\n",
       "<p>900 rows × 4 columns</p>\n",
       "</div>"
      ],
      "text/plain": [
       "     Active Power  Median      TH      TL\n",
       "0          1711.0   809.0     NaN     NaN\n",
       "1          1654.0   819.0  2457.0  -819.0\n",
       "2          1641.0   910.5  2788.5  -967.5\n",
       "3          1443.0  1106.5  3650.5 -1437.5\n",
       "4          2327.0   939.5  1877.0     2.0\n",
       "..            ...     ...     ...     ...\n",
       "295         666.0   778.5  1554.0     3.0\n",
       "296         542.0   846.5  1709.0   -16.0\n",
       "297         469.0   840.5  2169.5  -488.5\n",
       "298         515.0  1016.0  2255.0  -223.0\n",
       "299         668.0  1084.5  2119.5    49.5\n",
       "\n",
       "[900 rows x 4 columns]"
      ]
     },
     "execution_count": 161,
     "metadata": {},
     "output_type": "execute_result"
    }
   ],
   "source": [
    "main\n"
   ]
  },
  {
   "cell_type": "code",
   "execution_count": 160,
   "metadata": {},
   "outputs": [
    {
     "data": {
      "text/html": [
       "<div>\n",
       "<style scoped>\n",
       "    .dataframe tbody tr th:only-of-type {\n",
       "        vertical-align: middle;\n",
       "    }\n",
       "\n",
       "    .dataframe tbody tr th {\n",
       "        vertical-align: top;\n",
       "    }\n",
       "\n",
       "    .dataframe thead th {\n",
       "        text-align: right;\n",
       "    }\n",
       "</style>\n",
       "<table border=\"1\" class=\"dataframe\">\n",
       "  <thead>\n",
       "    <tr style=\"text-align: right;\">\n",
       "      <th>attributeserviceid</th>\n",
       "      <th>Active Power</th>\n",
       "    </tr>\n",
       "    <tr>\n",
       "      <th>measurementtimestamp</th>\n",
       "      <th></th>\n",
       "    </tr>\n",
       "  </thead>\n",
       "  <tbody>\n",
       "    <tr>\n",
       "      <th>2021-11-13 00:00:00+00:00</th>\n",
       "      <td>1711</td>\n",
       "    </tr>\n",
       "    <tr>\n",
       "      <th>2021-11-13 00:05:00+00:00</th>\n",
       "      <td>1654</td>\n",
       "    </tr>\n",
       "    <tr>\n",
       "      <th>2021-11-13 00:10:00+00:00</th>\n",
       "      <td>1641</td>\n",
       "    </tr>\n",
       "    <tr>\n",
       "      <th>2021-11-13 00:15:00+00:00</th>\n",
       "      <td>1443</td>\n",
       "    </tr>\n",
       "    <tr>\n",
       "      <th>2021-11-13 00:20:00+00:00</th>\n",
       "      <td>2327</td>\n",
       "    </tr>\n",
       "    <tr>\n",
       "      <th>...</th>\n",
       "      <td>...</td>\n",
       "    </tr>\n",
       "    <tr>\n",
       "      <th>2021-11-15 23:35:00+00:00</th>\n",
       "      <td>666</td>\n",
       "    </tr>\n",
       "    <tr>\n",
       "      <th>2021-11-15 23:40:00+00:00</th>\n",
       "      <td>542</td>\n",
       "    </tr>\n",
       "    <tr>\n",
       "      <th>2021-11-15 23:45:00+00:00</th>\n",
       "      <td>469</td>\n",
       "    </tr>\n",
       "    <tr>\n",
       "      <th>2021-11-15 23:50:00+00:00</th>\n",
       "      <td>515</td>\n",
       "    </tr>\n",
       "    <tr>\n",
       "      <th>2021-11-15 23:55:00+00:00</th>\n",
       "      <td>668</td>\n",
       "    </tr>\n",
       "  </tbody>\n",
       "</table>\n",
       "<p>859 rows × 1 columns</p>\n",
       "</div>"
      ],
      "text/plain": [
       "attributeserviceid        Active Power\n",
       "measurementtimestamp                  \n",
       "2021-11-13 00:00:00+00:00         1711\n",
       "2021-11-13 00:05:00+00:00         1654\n",
       "2021-11-13 00:10:00+00:00         1641\n",
       "2021-11-13 00:15:00+00:00         1443\n",
       "2021-11-13 00:20:00+00:00         2327\n",
       "...                                ...\n",
       "2021-11-15 23:35:00+00:00          666\n",
       "2021-11-15 23:40:00+00:00          542\n",
       "2021-11-15 23:45:00+00:00          469\n",
       "2021-11-15 23:50:00+00:00          515\n",
       "2021-11-15 23:55:00+00:00          668\n",
       "\n",
       "[859 rows x 1 columns]"
      ]
     },
     "execution_count": 160,
     "metadata": {},
     "output_type": "execute_result"
    }
   ],
   "source": [
    "df.index = pd.to_datetime(df.index)\n",
    "\n",
    "df.loc[ pd.to_datetime(strt, utc = True) : ]"
   ]
  },
  {
   "cell_type": "code",
   "execution_count": 126,
   "metadata": {},
   "outputs": [
    {
     "name": "stdout",
     "output_type": "stream",
     "text": [
      "478\n"
     ]
    },
    {
     "data": {
      "text/plain": [
       "437"
      ]
     },
     "execution_count": 126,
     "metadata": {},
     "output_type": "execute_result"
    }
   ],
   "source": [
    "print(len(np.unique( main['Active Power'])))\n",
    "len(np.unique( df.loc[ pd.to_datetime(strt, utc = True) : pd.to_datetime(end, utc = True) ]['Active Power']))\n"
   ]
  },
  {
   "cell_type": "code",
   "execution_count": 110,
   "metadata": {},
   "outputs": [
    {
     "data": {
      "text/html": [
       "<div>\n",
       "<style scoped>\n",
       "    .dataframe tbody tr th:only-of-type {\n",
       "        vertical-align: middle;\n",
       "    }\n",
       "\n",
       "    .dataframe tbody tr th {\n",
       "        vertical-align: top;\n",
       "    }\n",
       "\n",
       "    .dataframe thead th {\n",
       "        text-align: right;\n",
       "    }\n",
       "</style>\n",
       "<table border=\"1\" class=\"dataframe\">\n",
       "  <thead>\n",
       "    <tr style=\"text-align: right;\">\n",
       "      <th>attributeserviceid</th>\n",
       "      <th>measurementtimestamp</th>\n",
       "      <th>Active Power</th>\n",
       "    </tr>\n",
       "  </thead>\n",
       "  <tbody>\n",
       "    <tr>\n",
       "      <th>0</th>\n",
       "      <td>2021-11-13 00:00:00+00:00</td>\n",
       "      <td>1711.0</td>\n",
       "    </tr>\n",
       "    <tr>\n",
       "      <th>1</th>\n",
       "      <td>2021-11-13 00:05:00+00:00</td>\n",
       "      <td>1654.0</td>\n",
       "    </tr>\n",
       "    <tr>\n",
       "      <th>2</th>\n",
       "      <td>2021-11-13 00:10:00+00:00</td>\n",
       "      <td>1641.0</td>\n",
       "    </tr>\n",
       "    <tr>\n",
       "      <th>3</th>\n",
       "      <td>2021-11-13 00:15:00+00:00</td>\n",
       "      <td>1443.0</td>\n",
       "    </tr>\n",
       "    <tr>\n",
       "      <th>4</th>\n",
       "      <td>2021-11-13 00:20:00+00:00</td>\n",
       "      <td>2327.0</td>\n",
       "    </tr>\n",
       "    <tr>\n",
       "      <th>...</th>\n",
       "      <td>...</td>\n",
       "      <td>...</td>\n",
       "    </tr>\n",
       "    <tr>\n",
       "      <th>854</th>\n",
       "      <td>2021-11-15 23:35:00+00:00</td>\n",
       "      <td>666.0</td>\n",
       "    </tr>\n",
       "    <tr>\n",
       "      <th>855</th>\n",
       "      <td>2021-11-15 23:40:00+00:00</td>\n",
       "      <td>542.0</td>\n",
       "    </tr>\n",
       "    <tr>\n",
       "      <th>856</th>\n",
       "      <td>2021-11-15 23:45:00+00:00</td>\n",
       "      <td>469.0</td>\n",
       "    </tr>\n",
       "    <tr>\n",
       "      <th>857</th>\n",
       "      <td>2021-11-15 23:50:00+00:00</td>\n",
       "      <td>515.0</td>\n",
       "    </tr>\n",
       "    <tr>\n",
       "      <th>858</th>\n",
       "      <td>2021-11-15 23:55:00+00:00</td>\n",
       "      <td>668.0</td>\n",
       "    </tr>\n",
       "  </tbody>\n",
       "</table>\n",
       "<p>859 rows × 2 columns</p>\n",
       "</div>"
      ],
      "text/plain": [
       "attributeserviceid      measurementtimestamp  Active Power\n",
       "0                  2021-11-13 00:00:00+00:00        1711.0\n",
       "1                  2021-11-13 00:05:00+00:00        1654.0\n",
       "2                  2021-11-13 00:10:00+00:00        1641.0\n",
       "3                  2021-11-13 00:15:00+00:00        1443.0\n",
       "4                  2021-11-13 00:20:00+00:00        2327.0\n",
       "..                                       ...           ...\n",
       "854                2021-11-15 23:35:00+00:00         666.0\n",
       "855                2021-11-15 23:40:00+00:00         542.0\n",
       "856                2021-11-15 23:45:00+00:00         469.0\n",
       "857                2021-11-15 23:50:00+00:00         515.0\n",
       "858                2021-11-15 23:55:00+00:00         668.0\n",
       "\n",
       "[859 rows x 2 columns]"
      ]
     },
     "execution_count": 110,
     "metadata": {},
     "output_type": "execute_result"
    }
   ],
   "source": [
    "df.loc[ pd.to_datetime(strt, utc = True) : pd.to_datetime(end, utc = True) ].astype( float ).reset_index()"
   ]
  },
  {
   "cell_type": "code",
   "execution_count": 113,
   "metadata": {},
   "outputs": [
    {
     "data": {
      "text/plain": [
       "120411"
      ]
     },
     "execution_count": 113,
     "metadata": {},
     "output_type": "execute_result"
    }
   ],
   "source": [
    "pd.merge(main,df.loc[ pd.to_datetime(strt, utc = True) : pd.to_datetime(end, utc = True) ].astype( float ).reset_index(),on=['Active Power'])"
   ]
  },
  {
   "cell_type": "code",
   "execution_count": 25,
   "metadata": {},
   "outputs": [
    {
     "data": {
      "text/plain": [
       "Date_only\n",
       "2021-11-01    120\n",
       "2021-11-02    124\n",
       "2021-11-03    122\n",
       "2021-11-04    122\n",
       "2021-11-05    119\n",
       "2021-11-06    121\n",
       "2021-11-07    120\n",
       "2021-11-08    117\n",
       "2021-11-09    123\n",
       "2021-11-10    117\n",
       "2021-11-11    116\n",
       "2021-11-12    116\n",
       "2021-11-13    116\n",
       "2021-11-14    117\n",
       "2021-11-15    113\n",
       "dtype: int64"
      ]
     },
     "execution_count": 25,
     "metadata": {},
     "output_type": "execute_result"
    }
   ],
   "source": [
    "#Number of zeros \n",
    "( pivot_resetted == 0 ).sum( axis=1 )"
   ]
  },
  {
   "cell_type": "code",
   "execution_count": 26,
   "metadata": {},
   "outputs": [
    {
     "ename": "AttributeError",
     "evalue": "'Int64Index' object has no attribute 'tz_convert'",
     "output_type": "error",
     "traceback": [
      "\u001b[0;31m---------------------------------------------------------------------------\u001b[0m",
      "\u001b[0;31mAttributeError\u001b[0m                            Traceback (most recent call last)",
      "\u001b[0;32m/var/folders/12/y5vs86r91n98w8k_k0z7drn00000gn/T/ipykernel_2582/1319511665.py\u001b[0m in \u001b[0;36m<module>\u001b[0;34m\u001b[0m\n\u001b[1;32m      1\u001b[0m \u001b[0;31m#Visualisation\u001b[0m\u001b[0;34m\u001b[0m\u001b[0;34m\u001b[0m\u001b[0;34m\u001b[0m\u001b[0m\n\u001b[0;32m----> 2\u001b[0;31m \u001b[0mmain\u001b[0m\u001b[0;34m.\u001b[0m\u001b[0mindex\u001b[0m\u001b[0;34m.\u001b[0m\u001b[0mtz_convert\u001b[0m\u001b[0;34m(\u001b[0m\u001b[0;34m'Australia/Sydney'\u001b[0m\u001b[0;34m)\u001b[0m\u001b[0;34m\u001b[0m\u001b[0;34m\u001b[0m\u001b[0m\n\u001b[0m",
      "\u001b[0;31mAttributeError\u001b[0m: 'Int64Index' object has no attribute 'tz_convert'"
     ]
    }
   ],
   "source": [
    "#Visualisation\n",
    "main.index.tz_convert('Australia/Sydney')"
   ]
  },
  {
   "cell_type": "code",
   "execution_count": 183,
   "metadata": {},
   "outputs": [
    {
     "name": "stderr",
     "output_type": "stream",
     "text": [
      "/Users/arvindchandrasekarreddy/opt/anaconda3/lib/python3.7/site-packages/pandas/core/indexes/base.py:5278: FutureWarning: Indexing a timezone-naive DatetimeIndex with a timezone-aware datetime is deprecated and will raise KeyError in a future version.  Use a timezone-naive object instead.\n",
      "  start_slice, end_slice = self.slice_locs(start, end, step=step, kind=kind)\n"
     ]
    },
    {
     "data": {
      "text/plain": [
       "set()"
      ]
     },
     "execution_count": 183,
     "metadata": {},
     "output_type": "execute_result"
    }
   ],
   "source": [
    "set(pd.date_range(  start='2021-11-13' , end = '2021-11-16' , freq= '5Min' , closed = 'right' ))\n",
    "df.index = pd.to_datetime(df.index)\n",
    "set(df.loc[ pd.to_datetime(strt, utc = True) : ].index)"
   ]
  },
  {
   "cell_type": "code",
   "execution_count": 184,
   "metadata": {},
   "outputs": [
    {
     "data": {
      "text/html": [
       "<div>\n",
       "<style scoped>\n",
       "    .dataframe tbody tr th:only-of-type {\n",
       "        vertical-align: middle;\n",
       "    }\n",
       "\n",
       "    .dataframe tbody tr th {\n",
       "        vertical-align: top;\n",
       "    }\n",
       "\n",
       "    .dataframe thead th {\n",
       "        text-align: right;\n",
       "    }\n",
       "</style>\n",
       "<table border=\"1\" class=\"dataframe\">\n",
       "  <thead>\n",
       "    <tr style=\"text-align: right;\">\n",
       "      <th></th>\n",
       "      <th>Active Power</th>\n",
       "      <th>Median</th>\n",
       "      <th>TH</th>\n",
       "      <th>TL</th>\n",
       "    </tr>\n",
       "  </thead>\n",
       "  <tbody>\n",
       "  </tbody>\n",
       "</table>\n",
       "</div>"
      ],
      "text/plain": [
       "Empty DataFrame\n",
       "Columns: [Active Power, Median, TH, TL]\n",
       "Index: []"
      ]
     },
     "execution_count": 184,
     "metadata": {},
     "output_type": "execute_result"
    }
   ],
   "source": [
    "df.loc[ pd.to_datetime(strt, utc = True) : ]"
   ]
  },
  {
   "cell_type": "code",
   "execution_count": 71,
   "metadata": {},
   "outputs": [
    {
     "data": {
      "text/plain": [
       "Timestamp('2021-11-15 23:59:00+0000', tz='UTC')"
      ]
     },
     "execution_count": 71,
     "metadata": {},
     "output_type": "execute_result"
    }
   ],
   "source": [
    "pd.to_datetime(end, utc = True)"
   ]
  },
  {
   "cell_type": "code",
   "execution_count": 181,
   "metadata": {},
   "outputs": [
    {
     "name": "stderr",
     "output_type": "stream",
     "text": [
      "/Users/arvindchandrasekarreddy/opt/anaconda3/lib/python3.7/site-packages/pandas/core/indexes/base.py:5278: FutureWarning: Indexing a timezone-naive DatetimeIndex with a timezone-aware datetime is deprecated and will raise KeyError in a future version.  Use a timezone-naive object instead.\n",
      "  start_slice, end_slice = self.slice_locs(start, end, step=step, kind=kind)\n"
     ]
    },
    {
     "ename": "ValueError",
     "evalue": "Index data must be 1-dimensional",
     "output_type": "error",
     "traceback": [
      "\u001b[0;31m---------------------------------------------------------------------------\u001b[0m",
      "\u001b[0;31mValueError\u001b[0m                                Traceback (most recent call last)",
      "\u001b[0;32m/var/folders/12/y5vs86r91n98w8k_k0z7drn00000gn/T/ipykernel_2582/3839380569.py\u001b[0m in \u001b[0;36m<module>\u001b[0;34m\u001b[0m\n\u001b[1;32m      1\u001b[0m \u001b[0mdf\u001b[0m\u001b[0;34m.\u001b[0m\u001b[0mindex\u001b[0m \u001b[0;34m=\u001b[0m \u001b[0mpd\u001b[0m\u001b[0;34m.\u001b[0m\u001b[0mto_datetime\u001b[0m\u001b[0;34m(\u001b[0m\u001b[0mdf\u001b[0m\u001b[0;34m.\u001b[0m\u001b[0mindex\u001b[0m\u001b[0;34m)\u001b[0m\u001b[0;34m\u001b[0m\u001b[0;34m\u001b[0m\u001b[0m\n\u001b[1;32m      2\u001b[0m \u001b[0mdf\u001b[0m\u001b[0;34m.\u001b[0m\u001b[0mindex\u001b[0m \u001b[0;34m=\u001b[0m \u001b[0mpd\u001b[0m\u001b[0;34m.\u001b[0m\u001b[0mto_datetime\u001b[0m\u001b[0;34m(\u001b[0m\u001b[0mdf\u001b[0m\u001b[0;34m.\u001b[0m\u001b[0mindex\u001b[0m\u001b[0;34m)\u001b[0m\u001b[0;34m\u001b[0m\u001b[0;34m\u001b[0m\u001b[0m\n\u001b[0;32m----> 3\u001b[0;31m \u001b[0mmain\u001b[0m\u001b[0;34m.\u001b[0m\u001b[0mindex\u001b[0m \u001b[0;34m=\u001b[0m  \u001b[0mdf\u001b[0m\u001b[0;34m.\u001b[0m\u001b[0mloc\u001b[0m\u001b[0;34m[\u001b[0m \u001b[0mpd\u001b[0m\u001b[0;34m.\u001b[0m\u001b[0mto_datetime\u001b[0m\u001b[0;34m(\u001b[0m\u001b[0mstrt\u001b[0m\u001b[0;34m,\u001b[0m \u001b[0mutc\u001b[0m \u001b[0;34m=\u001b[0m \u001b[0;32mTrue\u001b[0m\u001b[0;34m)\u001b[0m \u001b[0;34m:\u001b[0m \u001b[0mpd\u001b[0m\u001b[0;34m.\u001b[0m\u001b[0mto_datetime\u001b[0m\u001b[0;34m(\u001b[0m\u001b[0mend\u001b[0m\u001b[0;34m,\u001b[0m \u001b[0mutc\u001b[0m \u001b[0;34m=\u001b[0m \u001b[0;32mTrue\u001b[0m\u001b[0;34m)\u001b[0m \u001b[0;34m]\u001b[0m\u001b[0;34m\u001b[0m\u001b[0;34m\u001b[0m\u001b[0m\n\u001b[0m",
      "\u001b[0;32m~/opt/anaconda3/lib/python3.7/site-packages/pandas/core/generic.py\u001b[0m in \u001b[0;36m__setattr__\u001b[0;34m(self, name, value)\u001b[0m\n\u001b[1;32m   5476\u001b[0m         \u001b[0;32mtry\u001b[0m\u001b[0;34m:\u001b[0m\u001b[0;34m\u001b[0m\u001b[0;34m\u001b[0m\u001b[0m\n\u001b[1;32m   5477\u001b[0m             \u001b[0mobject\u001b[0m\u001b[0;34m.\u001b[0m\u001b[0m__getattribute__\u001b[0m\u001b[0;34m(\u001b[0m\u001b[0mself\u001b[0m\u001b[0;34m,\u001b[0m \u001b[0mname\u001b[0m\u001b[0;34m)\u001b[0m\u001b[0;34m\u001b[0m\u001b[0;34m\u001b[0m\u001b[0m\n\u001b[0;32m-> 5478\u001b[0;31m             \u001b[0;32mreturn\u001b[0m \u001b[0mobject\u001b[0m\u001b[0;34m.\u001b[0m\u001b[0m__setattr__\u001b[0m\u001b[0;34m(\u001b[0m\u001b[0mself\u001b[0m\u001b[0;34m,\u001b[0m \u001b[0mname\u001b[0m\u001b[0;34m,\u001b[0m \u001b[0mvalue\u001b[0m\u001b[0;34m)\u001b[0m\u001b[0;34m\u001b[0m\u001b[0;34m\u001b[0m\u001b[0m\n\u001b[0m\u001b[1;32m   5479\u001b[0m         \u001b[0;32mexcept\u001b[0m \u001b[0mAttributeError\u001b[0m\u001b[0;34m:\u001b[0m\u001b[0;34m\u001b[0m\u001b[0;34m\u001b[0m\u001b[0m\n\u001b[1;32m   5480\u001b[0m             \u001b[0;32mpass\u001b[0m\u001b[0;34m\u001b[0m\u001b[0;34m\u001b[0m\u001b[0m\n",
      "\u001b[0;32mpandas/_libs/properties.pyx\u001b[0m in \u001b[0;36mpandas._libs.properties.AxisProperty.__set__\u001b[0;34m()\u001b[0m\n",
      "\u001b[0;32m~/opt/anaconda3/lib/python3.7/site-packages/pandas/core/generic.py\u001b[0m in \u001b[0;36m_set_axis\u001b[0;34m(self, axis, labels)\u001b[0m\n\u001b[1;32m    667\u001b[0m \u001b[0;34m\u001b[0m\u001b[0m\n\u001b[1;32m    668\u001b[0m     \u001b[0;32mdef\u001b[0m \u001b[0m_set_axis\u001b[0m\u001b[0;34m(\u001b[0m\u001b[0mself\u001b[0m\u001b[0;34m,\u001b[0m \u001b[0maxis\u001b[0m\u001b[0;34m:\u001b[0m \u001b[0mint\u001b[0m\u001b[0;34m,\u001b[0m \u001b[0mlabels\u001b[0m\u001b[0;34m:\u001b[0m \u001b[0mIndex\u001b[0m\u001b[0;34m)\u001b[0m \u001b[0;34m->\u001b[0m \u001b[0;32mNone\u001b[0m\u001b[0;34m:\u001b[0m\u001b[0;34m\u001b[0m\u001b[0;34m\u001b[0m\u001b[0m\n\u001b[0;32m--> 669\u001b[0;31m         \u001b[0mlabels\u001b[0m \u001b[0;34m=\u001b[0m \u001b[0mensure_index\u001b[0m\u001b[0;34m(\u001b[0m\u001b[0mlabels\u001b[0m\u001b[0;34m)\u001b[0m\u001b[0;34m\u001b[0m\u001b[0;34m\u001b[0m\u001b[0m\n\u001b[0m\u001b[1;32m    670\u001b[0m         \u001b[0mself\u001b[0m\u001b[0;34m.\u001b[0m\u001b[0m_mgr\u001b[0m\u001b[0;34m.\u001b[0m\u001b[0mset_axis\u001b[0m\u001b[0;34m(\u001b[0m\u001b[0maxis\u001b[0m\u001b[0;34m,\u001b[0m \u001b[0mlabels\u001b[0m\u001b[0;34m)\u001b[0m\u001b[0;34m\u001b[0m\u001b[0;34m\u001b[0m\u001b[0m\n\u001b[1;32m    671\u001b[0m         \u001b[0mself\u001b[0m\u001b[0;34m.\u001b[0m\u001b[0m_clear_item_cache\u001b[0m\u001b[0;34m(\u001b[0m\u001b[0;34m)\u001b[0m\u001b[0;34m\u001b[0m\u001b[0;34m\u001b[0m\u001b[0m\n",
      "\u001b[0;32m~/opt/anaconda3/lib/python3.7/site-packages/pandas/core/indexes/base.py\u001b[0m in \u001b[0;36mensure_index\u001b[0;34m(index_like, copy)\u001b[0m\n\u001b[1;32m   5916\u001b[0m             \u001b[0mindex_like\u001b[0m \u001b[0;34m=\u001b[0m \u001b[0mcopy_func\u001b[0m\u001b[0;34m(\u001b[0m\u001b[0mindex_like\u001b[0m\u001b[0;34m)\u001b[0m\u001b[0;34m\u001b[0m\u001b[0;34m\u001b[0m\u001b[0m\n\u001b[1;32m   5917\u001b[0m \u001b[0;34m\u001b[0m\u001b[0m\n\u001b[0;32m-> 5918\u001b[0;31m     \u001b[0;32mreturn\u001b[0m \u001b[0mIndex\u001b[0m\u001b[0;34m(\u001b[0m\u001b[0mindex_like\u001b[0m\u001b[0;34m)\u001b[0m\u001b[0;34m\u001b[0m\u001b[0;34m\u001b[0m\u001b[0m\n\u001b[0m\u001b[1;32m   5919\u001b[0m \u001b[0;34m\u001b[0m\u001b[0m\n\u001b[1;32m   5920\u001b[0m \u001b[0;34m\u001b[0m\u001b[0m\n",
      "\u001b[0;32m~/opt/anaconda3/lib/python3.7/site-packages/pandas/core/indexes/base.py\u001b[0m in \u001b[0;36m__new__\u001b[0;34m(cls, data, dtype, copy, name, tupleize_cols, **kwargs)\u001b[0m\n\u001b[1;32m    372\u001b[0m             \u001b[0;32mraise\u001b[0m \u001b[0mcls\u001b[0m\u001b[0;34m.\u001b[0m\u001b[0m_scalar_data_error\u001b[0m\u001b[0;34m(\u001b[0m\u001b[0mdata\u001b[0m\u001b[0;34m)\u001b[0m\u001b[0;34m\u001b[0m\u001b[0;34m\u001b[0m\u001b[0m\n\u001b[1;32m    373\u001b[0m         \u001b[0;32melif\u001b[0m \u001b[0mhasattr\u001b[0m\u001b[0;34m(\u001b[0m\u001b[0mdata\u001b[0m\u001b[0;34m,\u001b[0m \u001b[0;34m\"__array__\"\u001b[0m\u001b[0;34m)\u001b[0m\u001b[0;34m:\u001b[0m\u001b[0;34m\u001b[0m\u001b[0;34m\u001b[0m\u001b[0m\n\u001b[0;32m--> 374\u001b[0;31m             \u001b[0;32mreturn\u001b[0m \u001b[0mIndex\u001b[0m\u001b[0;34m(\u001b[0m\u001b[0mnp\u001b[0m\u001b[0;34m.\u001b[0m\u001b[0masarray\u001b[0m\u001b[0;34m(\u001b[0m\u001b[0mdata\u001b[0m\u001b[0;34m)\u001b[0m\u001b[0;34m,\u001b[0m \u001b[0mdtype\u001b[0m\u001b[0;34m=\u001b[0m\u001b[0mdtype\u001b[0m\u001b[0;34m,\u001b[0m \u001b[0mcopy\u001b[0m\u001b[0;34m=\u001b[0m\u001b[0mcopy\u001b[0m\u001b[0;34m,\u001b[0m \u001b[0mname\u001b[0m\u001b[0;34m=\u001b[0m\u001b[0mname\u001b[0m\u001b[0;34m,\u001b[0m \u001b[0;34m**\u001b[0m\u001b[0mkwargs\u001b[0m\u001b[0;34m)\u001b[0m\u001b[0;34m\u001b[0m\u001b[0;34m\u001b[0m\u001b[0m\n\u001b[0m\u001b[1;32m    375\u001b[0m         \u001b[0;32melse\u001b[0m\u001b[0;34m:\u001b[0m\u001b[0;34m\u001b[0m\u001b[0;34m\u001b[0m\u001b[0m\n\u001b[1;32m    376\u001b[0m             \u001b[0;32mif\u001b[0m \u001b[0mtupleize_cols\u001b[0m \u001b[0;32mand\u001b[0m \u001b[0mis_list_like\u001b[0m\u001b[0;34m(\u001b[0m\u001b[0mdata\u001b[0m\u001b[0;34m)\u001b[0m\u001b[0;34m:\u001b[0m\u001b[0;34m\u001b[0m\u001b[0;34m\u001b[0m\u001b[0m\n",
      "\u001b[0;32m~/opt/anaconda3/lib/python3.7/site-packages/pandas/core/indexes/base.py\u001b[0m in \u001b[0;36m__new__\u001b[0;34m(cls, data, dtype, copy, name, tupleize_cols, **kwargs)\u001b[0m\n\u001b[1;32m    344\u001b[0m                 \u001b[0;32mreturn\u001b[0m \u001b[0mUInt64Index\u001b[0m\u001b[0;34m(\u001b[0m\u001b[0mdata\u001b[0m\u001b[0;34m,\u001b[0m \u001b[0mcopy\u001b[0m\u001b[0;34m=\u001b[0m\u001b[0mcopy\u001b[0m\u001b[0;34m,\u001b[0m \u001b[0mdtype\u001b[0m\u001b[0;34m=\u001b[0m\u001b[0mdtype\u001b[0m\u001b[0;34m,\u001b[0m \u001b[0mname\u001b[0m\u001b[0;34m=\u001b[0m\u001b[0mname\u001b[0m\u001b[0;34m)\u001b[0m\u001b[0;34m\u001b[0m\u001b[0;34m\u001b[0m\u001b[0m\n\u001b[1;32m    345\u001b[0m             \u001b[0;32melif\u001b[0m \u001b[0mis_float_dtype\u001b[0m\u001b[0;34m(\u001b[0m\u001b[0mdata\u001b[0m\u001b[0;34m.\u001b[0m\u001b[0mdtype\u001b[0m\u001b[0;34m)\u001b[0m\u001b[0;34m:\u001b[0m\u001b[0;34m\u001b[0m\u001b[0;34m\u001b[0m\u001b[0m\n\u001b[0;32m--> 346\u001b[0;31m                 \u001b[0;32mreturn\u001b[0m \u001b[0mFloat64Index\u001b[0m\u001b[0;34m(\u001b[0m\u001b[0mdata\u001b[0m\u001b[0;34m,\u001b[0m \u001b[0mcopy\u001b[0m\u001b[0;34m=\u001b[0m\u001b[0mcopy\u001b[0m\u001b[0;34m,\u001b[0m \u001b[0mdtype\u001b[0m\u001b[0;34m=\u001b[0m\u001b[0mdtype\u001b[0m\u001b[0;34m,\u001b[0m \u001b[0mname\u001b[0m\u001b[0;34m=\u001b[0m\u001b[0mname\u001b[0m\u001b[0;34m)\u001b[0m\u001b[0;34m\u001b[0m\u001b[0;34m\u001b[0m\u001b[0m\n\u001b[0m\u001b[1;32m    347\u001b[0m             \u001b[0;32melif\u001b[0m \u001b[0missubclass\u001b[0m\u001b[0;34m(\u001b[0m\u001b[0mdata\u001b[0m\u001b[0;34m.\u001b[0m\u001b[0mdtype\u001b[0m\u001b[0;34m.\u001b[0m\u001b[0mtype\u001b[0m\u001b[0;34m,\u001b[0m \u001b[0mbool\u001b[0m\u001b[0;34m)\u001b[0m \u001b[0;32mor\u001b[0m \u001b[0mis_bool_dtype\u001b[0m\u001b[0;34m(\u001b[0m\u001b[0mdata\u001b[0m\u001b[0;34m)\u001b[0m\u001b[0;34m:\u001b[0m\u001b[0;34m\u001b[0m\u001b[0;34m\u001b[0m\u001b[0m\n\u001b[1;32m    348\u001b[0m                 \u001b[0msubarr\u001b[0m \u001b[0;34m=\u001b[0m \u001b[0mdata\u001b[0m\u001b[0;34m.\u001b[0m\u001b[0mastype\u001b[0m\u001b[0;34m(\u001b[0m\u001b[0;34m\"object\"\u001b[0m\u001b[0;34m)\u001b[0m\u001b[0;34m\u001b[0m\u001b[0;34m\u001b[0m\u001b[0m\n",
      "\u001b[0;32m~/opt/anaconda3/lib/python3.7/site-packages/pandas/core/indexes/numeric.py\u001b[0m in \u001b[0;36m__new__\u001b[0;34m(cls, data, dtype, copy, name)\u001b[0m\n\u001b[1;32m     71\u001b[0m         \u001b[0;32mif\u001b[0m \u001b[0msubarr\u001b[0m\u001b[0;34m.\u001b[0m\u001b[0mndim\u001b[0m \u001b[0;34m>\u001b[0m \u001b[0;36m1\u001b[0m\u001b[0;34m:\u001b[0m\u001b[0;34m\u001b[0m\u001b[0;34m\u001b[0m\u001b[0m\n\u001b[1;32m     72\u001b[0m             \u001b[0;31m# GH#13601, GH#20285, GH#27125\u001b[0m\u001b[0;34m\u001b[0m\u001b[0;34m\u001b[0m\u001b[0;34m\u001b[0m\u001b[0m\n\u001b[0;32m---> 73\u001b[0;31m             \u001b[0;32mraise\u001b[0m \u001b[0mValueError\u001b[0m\u001b[0;34m(\u001b[0m\u001b[0;34m\"Index data must be 1-dimensional\"\u001b[0m\u001b[0;34m)\u001b[0m\u001b[0;34m\u001b[0m\u001b[0;34m\u001b[0m\u001b[0m\n\u001b[0m\u001b[1;32m     74\u001b[0m \u001b[0;34m\u001b[0m\u001b[0m\n\u001b[1;32m     75\u001b[0m         \u001b[0msubarr\u001b[0m \u001b[0;34m=\u001b[0m \u001b[0mnp\u001b[0m\u001b[0;34m.\u001b[0m\u001b[0masarray\u001b[0m\u001b[0;34m(\u001b[0m\u001b[0msubarr\u001b[0m\u001b[0;34m)\u001b[0m\u001b[0;34m\u001b[0m\u001b[0;34m\u001b[0m\u001b[0m\n",
      "\u001b[0;31mValueError\u001b[0m: Index data must be 1-dimensional"
     ]
    }
   ],
   "source": [
    "df.index = pd.to_datetime(df.index)\n",
    "df.index = pd.to_datetime(df.index)\n",
    "main.index =  df.loc[ pd.to_datetime(strt, utc = True) : pd.to_datetime(end, utc = True) ]\n"
   ]
  },
  {
   "cell_type": "code",
   "execution_count": null,
   "metadata": {},
   "outputs": [],
   "source": [
    "\n",
    "f = go.Figure()\n",
    "f.add_trace( go.Scatter( x =  list(main.index)  ,  y  = main.Median    ) )\n",
    "f.add_trace( go.Scatter( x =  list(main.index)   ,  y  = main.TH , fill = 'tonexty'    ) )\n",
    "f.add_trace( go.Scatter( x =  list(main.index)   ,  y  = main.TL , fill = 'tonexty'    ) )\n",
    "f.add_trace( go.Scatter( x =  list(main.index)  ,  y  = main['Active Power'] , mode = 'markers'    ) )\n",
    "#f.update_layout( title = f'Graph showing Anamolies in {var.upper()} for a period starting from  {start} to {end}' , xaxis_title = 'Time')\n",
    "f.show()"
   ]
  },
  {
   "cell_type": "markdown",
   "metadata": {},
   "source": [
    "# Foot Notes \n",
    "\n",
    "1. .\n",
    "\n",
    "2. "
   ]
  },
  {
   "cell_type": "code",
   "execution_count": null,
   "metadata": {},
   "outputs": [],
   "source": []
  }
 ],
 "metadata": {
  "interpreter": {
   "hash": "78f600779d08b0a3ccce7f55a06dabed9fc99c7115a0a2906338c73a1a58ec1e"
  },
  "kernelspec": {
   "display_name": "Python 3.7.6 64-bit ('base': conda)",
   "language": "python",
   "name": "python3"
  },
  "language_info": {
   "codemirror_mode": {
    "name": "ipython",
    "version": 3
   },
   "file_extension": ".py",
   "mimetype": "text/x-python",
   "name": "python",
   "nbconvert_exporter": "python",
   "pygments_lexer": "ipython3",
   "version": "3.7.6"
  },
  "orig_nbformat": 4
 },
 "nbformat": 4,
 "nbformat_minor": 2
}
