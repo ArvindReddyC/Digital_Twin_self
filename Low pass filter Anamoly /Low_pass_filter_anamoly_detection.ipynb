{
  "nbformat": 4,
  "nbformat_minor": 0,
  "metadata": {
    "colab": {
      "name": "Low_pass_filter_anamoly_detection.ipynb",
      "provenance": [],
      "collapsed_sections": []
    },
    "kernelspec": {
      "name": "python3",
      "display_name": "Python 3"
    },
    "language_info": {
      "name": "python"
    }
  },
  "cells": [
    {
      "cell_type": "code",
      "metadata": {
        "id": "SGBZrsm1_5JU"
      },
      "source": [
        "import pandas as pd\n",
        "import zipfile as zp\n",
        "import plotly.express as px\n",
        "import matplotlib.pyplot as plt\n",
        "import numpy as np\n",
        "from sklearn.cluster import KMeans \n",
        "from sklearn.preprocessing import  scale"
      ],
      "execution_count": 1,
      "outputs": []
    },
    {
      "cell_type": "code",
      "metadata": {
        "id": "faE7GF_e_9eg"
      },
      "source": [
        "!wget -cq https://www.dropbox.com/s/1kasx9z1g4qdxjy/Solar%20Farm%20PMs%20and%20WS%20Data.zip\n",
        "files = zp.ZipFile('/content/Solar Farm PMs and WS Data.zip')"
      ],
      "execution_count": 2,
      "outputs": []
    },
    {
      "cell_type": "code",
      "metadata": {
        "id": "I-XAFTmlADKg"
      },
      "source": [
        "def get_weather_data(df ):\n",
        "    return df[ df.PME_SourceName == 'WP_SF_MVPS4.WS1'].pivot_table(  index = 'TimestampLocal' , columns='PME_MeasurementName' , values =  'PME_Value' )"
      ],
      "execution_count": 3,
      "outputs": []
    },
    {
      "cell_type": "code",
      "metadata": {
        "id": "d91fzV_MAEw3"
      },
      "source": [
        "def get_active_power(df, measurement_needed):\n",
        "    dat =  df[  df.PME_MeasurementName == measurement_needed ].pivot_table( index = 'TimestampLocal' , columns='PME_SourceName' , values =  'PME_Value' )\n",
        "    return dat[['WP_SF_MVPS1.PM1' , 'WP_SF_MVPS2.PM1' , 'WP_SF_MVPS3.PM1' , 'WP_SF_MVPS4.PM1' ]]\n",
        "    #return dat"
      ],
      "execution_count": 4,
      "outputs": []
    },
    {
      "cell_type": "code",
      "metadata": {
        "colab": {
          "base_uri": "https://localhost:8080/"
        },
        "id": "EcQXgyZDAG4x",
        "outputId": "78f912bc-29ff-412e-bdaf-f6277278f4f7"
      },
      "source": [
        "dfs = []\n",
        "\n",
        "for index,each in enumerate(files.namelist()):\n",
        "  if( (index % 2 == 0) & (index!=0)  ):\n",
        "    print(index,each)\n",
        "    f = files.open(each)\n",
        "    df = pd.read_csv(f)\n",
        "    weather_data =  get_weather_data(df)\n",
        "    active_power =   get_active_power(df, 'Active Power')\n",
        "    merged = pd.merge(active_power,weather_data,how = 'left' , on ='TimestampLocal')\n",
        "    merged.reset_index(inplace=True)\n",
        "    merged['TimestampLocal'] =  pd.to_datetime( merged['TimestampLocal'] , format = '%d/%m/%Y %I:%M:%S.%f %p' )  #merged['TimestampLocal'].astype('datetime64[ns]')\n",
        "    merged.set_index('TimestampLocal' , inplace=True)\n",
        "    dfs.append(merged)\n",
        "\n"
      ],
      "execution_count": 5,
      "outputs": [
        {
          "output_type": "stream",
          "name": "stdout",
          "text": [
            "2 Solar Farm PMs and WS Data/Digital Twin PME Data Export - Solar Farm PMs and WS.PME_FEB2021.csv\n",
            "4 Solar Farm PMs and WS Data/Digital Twin PME Data Export - Solar Farm PMs and WS.PME_DataLog.MAR2021.csv\n",
            "6 Solar Farm PMs and WS Data/Digital Twin PME Data Export - Solar Farm PMs and WS.PME_DataLog.JUL2021.csv\n",
            "8 Solar Farm PMs and WS Data/Digital Twin PME Data Export - Solar Farm PMs and WS.PME_DataLog.JUN2021.csv\n",
            "10 Solar Farm PMs and WS Data/Digital Twin PME Data Export - Solar Farm PMs and WS.PME_DataLog.AUG2020.csv\n",
            "12 Solar Farm PMs and WS Data/Digital Twin PME Data Export - Solar Farm PMs and WS.PME_DataLog.MAY2021.csv\n",
            "14 Solar Farm PMs and WS Data/Digital Twin PME Data Export - Solar Farm PMs and WS.PME_DataLog.JAN2021.csv\n",
            "16 Solar Farm PMs and WS Data/Digital Twin PME Data Export - Solar Farm PMs and WS.PME_DataLog.OCT2020.csv\n",
            "18 Solar Farm PMs and WS Data/Digital Twin PME Data Export - Solar Farm PMs and WS.PME_DataLog.SEP2020.csv\n",
            "20 Solar Farm PMs and WS Data/Digital Twin PME Data Export - Solar Farm PMs and WS.PME_DataLog.DEC2020.csv\n",
            "22 Solar Farm PMs and WS Data/Digital Twin PME Data Export - Solar Farm PMs and WS.PME_DataLog.APR2021.csv\n",
            "24 Solar Farm PMs and WS Data/Digital Twin PME Data Export - Solar Farm PMs and WS.PME_DataLog.NOV2020.csv\n"
          ]
        }
      ]
    },
    {
      "cell_type": "code",
      "metadata": {
        "colab": {
          "base_uri": "https://localhost:8080/",
          "height": 385
        },
        "id": "orZyahIEAKEy",
        "outputId": "900707b2-8c35-4d9f-97b0-e3cd27d64b0e"
      },
      "source": [
        "main = pd.concat(dfs)\n",
        "main.drop_duplicates( keep = 'first' , inplace = True )\n",
        "main.isna().sum()\n",
        "display(main.sort_index().head(5))\n",
        "sorted = main.sort_index()\n"
      ],
      "execution_count": 6,
      "outputs": [
        {
          "output_type": "display_data",
          "data": {
            "text/html": [
              "<div>\n",
              "<style scoped>\n",
              "    .dataframe tbody tr th:only-of-type {\n",
              "        vertical-align: middle;\n",
              "    }\n",
              "\n",
              "    .dataframe tbody tr th {\n",
              "        vertical-align: top;\n",
              "    }\n",
              "\n",
              "    .dataframe thead th {\n",
              "        text-align: right;\n",
              "    }\n",
              "</style>\n",
              "<table border=\"1\" class=\"dataframe\">\n",
              "  <thead>\n",
              "    <tr style=\"text-align: right;\">\n",
              "      <th></th>\n",
              "      <th>WP_SF_MVPS1.PM1</th>\n",
              "      <th>WP_SF_MVPS2.PM1</th>\n",
              "      <th>WP_SF_MVPS3.PM1</th>\n",
              "      <th>WP_SF_MVPS4.PM1</th>\n",
              "      <th>AVG in-plane irradiance</th>\n",
              "      <th>Ambient Temperature Celsius</th>\n",
              "      <th>Back-of-Module Temperature (deg C)</th>\n",
              "      <th>Back-of-Module Temperature 2 (deg C)</th>\n",
              "      <th>Irradiance Global (W/m^2)</th>\n",
              "      <th>Irradiance Plane-of-Array (W/m^2)</th>\n",
              "      <th>Rainfall (mm)</th>\n",
              "      <th>Weather Atmospheric Pressure</th>\n",
              "      <th>Weather Relative Humidity</th>\n",
              "      <th>Wind Direction (Hour Interval)</th>\n",
              "      <th>Wind Speed</th>\n",
              "    </tr>\n",
              "    <tr>\n",
              "      <th>TimestampLocal</th>\n",
              "      <th></th>\n",
              "      <th></th>\n",
              "      <th></th>\n",
              "      <th></th>\n",
              "      <th></th>\n",
              "      <th></th>\n",
              "      <th></th>\n",
              "      <th></th>\n",
              "      <th></th>\n",
              "      <th></th>\n",
              "      <th></th>\n",
              "      <th></th>\n",
              "      <th></th>\n",
              "      <th></th>\n",
              "      <th></th>\n",
              "    </tr>\n",
              "  </thead>\n",
              "  <tbody>\n",
              "    <tr>\n",
              "      <th>2020-08-01 00:15:00</th>\n",
              "      <td>0.0</td>\n",
              "      <td>0.0</td>\n",
              "      <td>0.0</td>\n",
              "      <td>0.0</td>\n",
              "      <td>0.0</td>\n",
              "      <td>8.4</td>\n",
              "      <td>5.9</td>\n",
              "      <td>5.5</td>\n",
              "      <td>0.0</td>\n",
              "      <td>0.0</td>\n",
              "      <td>76.4</td>\n",
              "      <td>1013.0</td>\n",
              "      <td>81.0</td>\n",
              "      <td>307.0</td>\n",
              "      <td>1.0</td>\n",
              "    </tr>\n",
              "    <tr>\n",
              "      <th>2020-08-01 00:30:00</th>\n",
              "      <td>0.0</td>\n",
              "      <td>0.0</td>\n",
              "      <td>0.0</td>\n",
              "      <td>0.0</td>\n",
              "      <td>0.0</td>\n",
              "      <td>8.3</td>\n",
              "      <td>5.8</td>\n",
              "      <td>5.4</td>\n",
              "      <td>0.0</td>\n",
              "      <td>0.0</td>\n",
              "      <td>76.4</td>\n",
              "      <td>1013.0</td>\n",
              "      <td>82.0</td>\n",
              "      <td>331.0</td>\n",
              "      <td>3.0</td>\n",
              "    </tr>\n",
              "    <tr>\n",
              "      <th>2020-08-01 00:45:00</th>\n",
              "      <td>0.0</td>\n",
              "      <td>0.0</td>\n",
              "      <td>0.0</td>\n",
              "      <td>0.0</td>\n",
              "      <td>0.0</td>\n",
              "      <td>8.2</td>\n",
              "      <td>5.8</td>\n",
              "      <td>5.3</td>\n",
              "      <td>0.0</td>\n",
              "      <td>0.0</td>\n",
              "      <td>76.4</td>\n",
              "      <td>1013.0</td>\n",
              "      <td>82.0</td>\n",
              "      <td>337.0</td>\n",
              "      <td>2.0</td>\n",
              "    </tr>\n",
              "    <tr>\n",
              "      <th>2020-08-01 01:00:00</th>\n",
              "      <td>0.0</td>\n",
              "      <td>0.0</td>\n",
              "      <td>0.0</td>\n",
              "      <td>0.0</td>\n",
              "      <td>0.0</td>\n",
              "      <td>8.0</td>\n",
              "      <td>5.3</td>\n",
              "      <td>4.8</td>\n",
              "      <td>0.0</td>\n",
              "      <td>0.0</td>\n",
              "      <td>76.4</td>\n",
              "      <td>1013.0</td>\n",
              "      <td>82.0</td>\n",
              "      <td>315.0</td>\n",
              "      <td>3.0</td>\n",
              "    </tr>\n",
              "    <tr>\n",
              "      <th>2020-08-01 01:15:00</th>\n",
              "      <td>0.0</td>\n",
              "      <td>0.0</td>\n",
              "      <td>0.0</td>\n",
              "      <td>0.0</td>\n",
              "      <td>0.0</td>\n",
              "      <td>8.0</td>\n",
              "      <td>5.5</td>\n",
              "      <td>5.1</td>\n",
              "      <td>0.0</td>\n",
              "      <td>0.0</td>\n",
              "      <td>76.4</td>\n",
              "      <td>1013.0</td>\n",
              "      <td>82.0</td>\n",
              "      <td>329.0</td>\n",
              "      <td>3.0</td>\n",
              "    </tr>\n",
              "  </tbody>\n",
              "</table>\n",
              "</div>"
            ],
            "text/plain": [
              "                     WP_SF_MVPS1.PM1  ...  Wind Speed\n",
              "TimestampLocal                        ...            \n",
              "2020-08-01 00:15:00              0.0  ...         1.0\n",
              "2020-08-01 00:30:00              0.0  ...         3.0\n",
              "2020-08-01 00:45:00              0.0  ...         2.0\n",
              "2020-08-01 01:00:00              0.0  ...         3.0\n",
              "2020-08-01 01:15:00              0.0  ...         3.0\n",
              "\n",
              "[5 rows x 15 columns]"
            ]
          },
          "metadata": {}
        }
      ]
    },
    {
      "cell_type": "markdown",
      "metadata": {
        "id": "76cDRFMQAOdH"
      },
      "source": [
        "## Low pass filter outlier detection"
      ]
    },
    {
      "cell_type": "code",
      "metadata": {
        "colab": {
          "base_uri": "https://localhost:8080/",
          "height": 508
        },
        "id": "DQxxabvMBhR8",
        "outputId": "d080c461-75e8-416d-8f22-4a46fbb9a455"
      },
      "source": [
        "#All the columns in our data set with their index \n",
        "features_Df = pd.DataFrame( list(sorted.columns ) , columns=['Features'] ) \n",
        "features_Df"
      ],
      "execution_count": 27,
      "outputs": [
        {
          "output_type": "execute_result",
          "data": {
            "text/html": [
              "<div>\n",
              "<style scoped>\n",
              "    .dataframe tbody tr th:only-of-type {\n",
              "        vertical-align: middle;\n",
              "    }\n",
              "\n",
              "    .dataframe tbody tr th {\n",
              "        vertical-align: top;\n",
              "    }\n",
              "\n",
              "    .dataframe thead th {\n",
              "        text-align: right;\n",
              "    }\n",
              "</style>\n",
              "<table border=\"1\" class=\"dataframe\">\n",
              "  <thead>\n",
              "    <tr style=\"text-align: right;\">\n",
              "      <th></th>\n",
              "      <th>Features</th>\n",
              "    </tr>\n",
              "  </thead>\n",
              "  <tbody>\n",
              "    <tr>\n",
              "      <th>0</th>\n",
              "      <td>WP_SF_MVPS1.PM1</td>\n",
              "    </tr>\n",
              "    <tr>\n",
              "      <th>1</th>\n",
              "      <td>WP_SF_MVPS2.PM1</td>\n",
              "    </tr>\n",
              "    <tr>\n",
              "      <th>2</th>\n",
              "      <td>WP_SF_MVPS3.PM1</td>\n",
              "    </tr>\n",
              "    <tr>\n",
              "      <th>3</th>\n",
              "      <td>WP_SF_MVPS4.PM1</td>\n",
              "    </tr>\n",
              "    <tr>\n",
              "      <th>4</th>\n",
              "      <td>AVG in-plane irradiance</td>\n",
              "    </tr>\n",
              "    <tr>\n",
              "      <th>5</th>\n",
              "      <td>Ambient Temperature Celsius</td>\n",
              "    </tr>\n",
              "    <tr>\n",
              "      <th>6</th>\n",
              "      <td>Back-of-Module Temperature (deg C)</td>\n",
              "    </tr>\n",
              "    <tr>\n",
              "      <th>7</th>\n",
              "      <td>Back-of-Module Temperature 2 (deg C)</td>\n",
              "    </tr>\n",
              "    <tr>\n",
              "      <th>8</th>\n",
              "      <td>Irradiance Global (W/m^2)</td>\n",
              "    </tr>\n",
              "    <tr>\n",
              "      <th>9</th>\n",
              "      <td>Irradiance Plane-of-Array (W/m^2)</td>\n",
              "    </tr>\n",
              "    <tr>\n",
              "      <th>10</th>\n",
              "      <td>Rainfall (mm)</td>\n",
              "    </tr>\n",
              "    <tr>\n",
              "      <th>11</th>\n",
              "      <td>Weather Atmospheric Pressure</td>\n",
              "    </tr>\n",
              "    <tr>\n",
              "      <th>12</th>\n",
              "      <td>Weather Relative Humidity</td>\n",
              "    </tr>\n",
              "    <tr>\n",
              "      <th>13</th>\n",
              "      <td>Wind Direction (Hour Interval)</td>\n",
              "    </tr>\n",
              "    <tr>\n",
              "      <th>14</th>\n",
              "      <td>Wind Speed</td>\n",
              "    </tr>\n",
              "  </tbody>\n",
              "</table>\n",
              "</div>"
            ],
            "text/plain": [
              "                                Features\n",
              "0                        WP_SF_MVPS1.PM1\n",
              "1                        WP_SF_MVPS2.PM1\n",
              "2                        WP_SF_MVPS3.PM1\n",
              "3                        WP_SF_MVPS4.PM1\n",
              "4                AVG in-plane irradiance\n",
              "5            Ambient Temperature Celsius\n",
              "6     Back-of-Module Temperature (deg C)\n",
              "7   Back-of-Module Temperature 2 (deg C)\n",
              "8              Irradiance Global (W/m^2)\n",
              "9      Irradiance Plane-of-Array (W/m^2)\n",
              "10                         Rainfall (mm)\n",
              "11          Weather Atmospheric Pressure\n",
              "12             Weather Relative Humidity\n",
              "13        Wind Direction (Hour Interval)\n",
              "14                            Wind Speed"
            ]
          },
          "metadata": {},
          "execution_count": 27
        }
      ]
    },
    {
      "cell_type": "code",
      "metadata": {
        "id": "zPFsgh2jASOa"
      },
      "source": [
        "import pandas as pd \n",
        "import numpy as np\n",
        "\n",
        "\n",
        "\n",
        "def find_outliers(df , w):\n",
        "  '''\n",
        "  This function will compute anamolies in pandas seriers \n",
        "\n",
        "  param df: Pandas series to find anamolies in \n",
        "  param w: window size for rolling function \n",
        "\n",
        "  The Global variable index_of_outliers will have list of all the outliers \n",
        "  '''\n",
        "  TH = df.rolling(window = w  ).mean() +  ( 3 * df.rolling(window = w ).std() ) \n",
        "  TL = df.rolling(window = w  ).mean() -  ( 3 * df.rolling(window = w ).std() ) \n",
        "  concated  =  pd.concat( [df,TH,TL] , axis = 1)\n",
        "  concated.columns = ['Power','TH','TL']\n",
        "  \n",
        "  concated.TH = concated.TH.shift( +1)\n",
        "  concated.TL = concated.TL.shift( +1 )\n",
        "\n",
        "  if len(concated[(concated.Power > concated.TH)| (concated.Power < concated.TL ) ]):\n",
        "    check = list(concated[(concated.Power > concated.TH) | (concated.Power < concated.TL )].index)[0]\n",
        "    index_of_outliers.append( check  )\n",
        "    df.drop( check  , axis = 'index'  , inplace = True  )\n",
        "    find_TH_TL( df , w)\n",
        "  else:\n",
        "    print('All outliers detected')\n",
        "    return df\n",
        "\n"
      ],
      "execution_count": 17,
      "outputs": []
    },
    {
      "cell_type": "markdown",
      "metadata": {
        "id": "LgvzcYagAUKn"
      },
      "source": [
        "### Testing the function "
      ]
    },
    {
      "cell_type": "code",
      "metadata": {
        "colab": {
          "base_uri": "https://localhost:8080/",
          "height": 577
        },
        "id": "ilhwWIPtAjsb",
        "outputId": "15914212-a1e0-42a8-a4cb-ee07e7b76129"
      },
      "source": [
        "np.random.seed(123)\n",
        "df = pd.Series(np.random.normal(size=200))\n",
        "\n",
        "# Create a few outliers (3 of them, at index locations 10, 55, 80)\n",
        "df[[13, 55, 80]] = 10.   \n",
        "index_of_outliers = []\n",
        "coopy = df.copy( deep=True  )\n",
        "find_outliers(df , 12 )\n",
        "print( 'outliers-Detected = '  , index_of_outliers ) \n",
        "fig = px.scatter(  x = coopy.index , y = coopy )\n",
        "fig.add_scatter( x =  index_of_outliers ,  y =  coopy.loc[index_of_outliers] , mode='markers'  )\n",
        "fig.show() \n"
      ],
      "execution_count": 18,
      "outputs": [
        {
          "output_type": "stream",
          "name": "stdout",
          "text": [
            "All outliers detected\n",
            "outliers-Detected =  [13, 46, 55, 80, 185, 195]\n"
          ]
        },
        {
          "output_type": "display_data",
          "data": {
            "text/html": [
              "<html>\n",
              "<head><meta charset=\"utf-8\" /></head>\n",
              "<body>\n",
              "    <div>\n",
              "            <script src=\"https://cdnjs.cloudflare.com/ajax/libs/mathjax/2.7.5/MathJax.js?config=TeX-AMS-MML_SVG\"></script><script type=\"text/javascript\">if (window.MathJax) {MathJax.Hub.Config({SVG: {font: \"STIX-Web\"}});}</script>\n",
              "                <script type=\"text/javascript\">window.PlotlyConfig = {MathJaxConfig: 'local'};</script>\n",
              "        <script src=\"https://cdn.plot.ly/plotly-latest.min.js\"></script>    \n",
              "            <div id=\"88a9e768-ea6f-4d18-85f5-f4ba5bfbe94d\" class=\"plotly-graph-div\" style=\"height:525px; width:100%;\"></div>\n",
              "            <script type=\"text/javascript\">\n",
              "                \n",
              "                    window.PLOTLYENV=window.PLOTLYENV || {};\n",
              "                    \n",
              "                if (document.getElementById(\"88a9e768-ea6f-4d18-85f5-f4ba5bfbe94d\")) {\n",
              "                    Plotly.newPlot(\n",
              "                        '88a9e768-ea6f-4d18-85f5-f4ba5bfbe94d',\n",
              "                        [{\"hoverlabel\": {\"namelength\": 0}, \"hovertemplate\": \"x=%{x}<br>y=%{y}\", \"legendgroup\": \"\", \"marker\": {\"color\": \"#636efa\", \"symbol\": \"circle\"}, \"mode\": \"markers\", \"name\": \"\", \"showlegend\": false, \"type\": \"scatter\", \"x\": [0, 1, 2, 3, 4, 5, 6, 7, 8, 9, 10, 11, 12, 13, 14, 15, 16, 17, 18, 19, 20, 21, 22, 23, 24, 25, 26, 27, 28, 29, 30, 31, 32, 33, 34, 35, 36, 37, 38, 39, 40, 41, 42, 43, 44, 45, 46, 47, 48, 49, 50, 51, 52, 53, 54, 55, 56, 57, 58, 59, 60, 61, 62, 63, 64, 65, 66, 67, 68, 69, 70, 71, 72, 73, 74, 75, 76, 77, 78, 79, 80, 81, 82, 83, 84, 85, 86, 87, 88, 89, 90, 91, 92, 93, 94, 95, 96, 97, 98, 99, 100, 101, 102, 103, 104, 105, 106, 107, 108, 109, 110, 111, 112, 113, 114, 115, 116, 117, 118, 119, 120, 121, 122, 123, 124, 125, 126, 127, 128, 129, 130, 131, 132, 133, 134, 135, 136, 137, 138, 139, 140, 141, 142, 143, 144, 145, 146, 147, 148, 149, 150, 151, 152, 153, 154, 155, 156, 157, 158, 159, 160, 161, 162, 163, 164, 165, 166, 167, 168, 169, 170, 171, 172, 173, 174, 175, 176, 177, 178, 179, 180, 181, 182, 183, 184, 185, 186, 187, 188, 189, 190, 191, 192, 193, 194, 195, 196, 197, 198, 199], \"xaxis\": \"x\", \"y\": [-1.0856306033005612, 0.9973454465835858, 0.28297849805199204, -1.506294713918092, -0.5786002519685364, 1.651436537097151, -2.426679243393074, -0.42891262885617726, 1.265936258705534, -0.8667404022651017, -0.6788861516220543, -0.09470896893689112, 1.4913896261242878, 10.0, -0.44398195964606546, -0.43435127561851733, 2.2059300827254558, 2.1867860889737867, 1.004053897878877, 0.386186399174856, 0.7373685758962422, 1.490732028150799, -0.9358338684023914, 1.1758290447821034, -1.2538806677490124, -0.6377515024534103, 0.9071051958003012, -1.428680700225969, -0.1400687201886661, -0.8617548958596855, -0.2556193705305969, -2.7985891054607244, -1.771533104509847, -0.6998772345979173, 0.9274624317585825, -0.1736356827902158, 0.0028459158968110196, 0.688222711102285, -0.8795363430090519, 0.283627323807291, -0.8053665180656158, -1.7276694941206072, -0.390899793755101, 0.5738058624050577, 0.3385890509998015, -0.01183049447881976, 2.392365265937726, 0.4129121603087788, 0.9787360059373466, 2.2381433384979528, -1.2940853231612488, -1.0387882102049535, 1.7437122251229307, -0.7980627352410625, 0.02968323030333022, 10.0, 0.8907063912931708, 1.7548861819811095, 1.4956441370334692, 1.0693926697057368, -0.7727087142471915, 0.7948626677932181, 0.31427199450686705, -1.326265459940456, 1.4172990464768525, 0.8072365345785665, 0.045490080631097156, -0.2330920609844135, -1.198301144700787, 0.19952407355863258, 0.46843911944564426, -0.8311549842432792, 1.1622040490995293, -1.0972030464830342, -2.1231003500424417, 1.0397270908927005, -0.4033660381021075, -0.12602958531301514, -0.8375167228250533, -1.6059627607174027, 10.0, -0.6888689838469215, 1.6609524881479396, 0.8073081862107286, -0.31475814671745994, -1.0859024011268665, -0.732461986720457, -1.2125231310951696, 2.0871133595881854, 0.16444123022982496, 1.1502055425466322, -1.2673520490102275, 0.18103512959700388, 1.1778619388085783, -0.3350107619330159, 1.0311144589217422, -1.0845679120057665, -1.3634715446185843, 0.37940061207813613, -0.3791764345725522, 0.6420546892718314, -1.977887931520449, 0.7122646354705182, 2.5983039272693147, -0.024625981431480627, 0.03414212890984157, 0.17954948463867915, -1.8619757107917871, 0.4261466396903099, -1.6054097440159647, -0.42767959812380435, 1.242869549603737, -0.7352169561000764, 0.5012489895674, 1.0127390539563705, 0.2787408560959998, -1.3709484700946077, -0.3324752753514139, 1.959411342388286, -2.025045762997471, -0.27578601386617546, -0.5521080714881078, 0.12074736309713868, 0.7482156171872304, 1.6086909680220534, -0.2702323920091581, 0.8123413299768204, 0.49974014486517293, 0.4743472978718003, -0.5639239315264725, -0.9973214687759007, -1.100043112620697, -0.7564372093991233, 0.3216865758662266, 0.7609493931283295, 0.32346884785689517, -0.5489550961957409, 1.805970109932475, 1.5188656236315399, -0.35400011275017335, -0.8234314059856659, 0.13021495415796958, 1.2672986450543529, 0.3327649772541171, 0.5565487049100443, -0.21208012227562573, 0.4562708952022307, 1.5445444514561384, -0.23966878147771076, 0.14330773250787254, 0.25381647654962736, 0.2837253557710373, -1.4118888760712274, -1.8768686558738945, -1.0196550709218393, 0.16794229540166816, 0.5538561660032112, -0.5306745597736241, 1.3772574828673068, -0.1431759743261871, 0.02031599823462459, -0.19396387055266243, 0.13402679274666512, 0.7044740740436035, 0.6656534379123312, -0.8984229406095902, 1.5236637764785275, -1.0950264574269175, 0.07922701409061239, -0.2743965735223526, -1.0489916773184873, -0.07512058797383152, -0.7408137732923984, 0.07290724327605223, 0.403085961219367, 1.4719293689732715, 0.3073842186274145, -0.6112253403048249, -0.39161981071960156, 0.13997810611456363, 0.09346082946215117, 1.4595892682284208, 1.3953529297569547, -0.3589359262422613, -0.5486421281861983, -2.5570546040678583, -0.5489204133222201, -0.9780577060842837, -0.3548244580948187, 0.3915842423501111, 0.1771923291989879, -0.02996800704754226, 0.1995821110885137, -0.12611777323099171, 0.19701893254347608, -3.2310550079193123, -0.26929348975075423, -0.110850721053007, -0.3412617162065858, -0.21794626210294177], \"yaxis\": \"y\"}, {\"mode\": \"markers\", \"type\": \"scatter\", \"x\": [13, 46, 55, 80, 185, 195], \"y\": [10.0, 2.392365265937726, 10.0, 10.0, -2.5570546040678583, -3.2310550079193123]}],\n",
              "                        {\"legend\": {\"tracegroupgap\": 0}, \"margin\": {\"t\": 60}, \"template\": {\"data\": {\"bar\": [{\"error_x\": {\"color\": \"#2a3f5f\"}, \"error_y\": {\"color\": \"#2a3f5f\"}, \"marker\": {\"line\": {\"color\": \"#E5ECF6\", \"width\": 0.5}}, \"type\": \"bar\"}], \"barpolar\": [{\"marker\": {\"line\": {\"color\": \"#E5ECF6\", \"width\": 0.5}}, \"type\": \"barpolar\"}], \"carpet\": [{\"aaxis\": {\"endlinecolor\": \"#2a3f5f\", \"gridcolor\": \"white\", \"linecolor\": \"white\", \"minorgridcolor\": \"white\", \"startlinecolor\": \"#2a3f5f\"}, \"baxis\": {\"endlinecolor\": \"#2a3f5f\", \"gridcolor\": \"white\", \"linecolor\": \"white\", \"minorgridcolor\": \"white\", \"startlinecolor\": \"#2a3f5f\"}, \"type\": \"carpet\"}], \"choropleth\": [{\"colorbar\": {\"outlinewidth\": 0, \"ticks\": \"\"}, \"type\": \"choropleth\"}], \"contour\": [{\"colorbar\": {\"outlinewidth\": 0, \"ticks\": \"\"}, \"colorscale\": [[0.0, \"#0d0887\"], [0.1111111111111111, \"#46039f\"], [0.2222222222222222, \"#7201a8\"], [0.3333333333333333, \"#9c179e\"], [0.4444444444444444, \"#bd3786\"], [0.5555555555555556, \"#d8576b\"], [0.6666666666666666, \"#ed7953\"], [0.7777777777777778, \"#fb9f3a\"], [0.8888888888888888, \"#fdca26\"], [1.0, \"#f0f921\"]], \"type\": \"contour\"}], \"contourcarpet\": [{\"colorbar\": {\"outlinewidth\": 0, \"ticks\": \"\"}, \"type\": \"contourcarpet\"}], \"heatmap\": [{\"colorbar\": {\"outlinewidth\": 0, \"ticks\": \"\"}, \"colorscale\": [[0.0, \"#0d0887\"], [0.1111111111111111, \"#46039f\"], [0.2222222222222222, \"#7201a8\"], [0.3333333333333333, \"#9c179e\"], [0.4444444444444444, \"#bd3786\"], [0.5555555555555556, \"#d8576b\"], [0.6666666666666666, \"#ed7953\"], [0.7777777777777778, \"#fb9f3a\"], [0.8888888888888888, \"#fdca26\"], [1.0, \"#f0f921\"]], \"type\": \"heatmap\"}], \"heatmapgl\": [{\"colorbar\": {\"outlinewidth\": 0, \"ticks\": \"\"}, \"colorscale\": [[0.0, \"#0d0887\"], [0.1111111111111111, \"#46039f\"], [0.2222222222222222, \"#7201a8\"], [0.3333333333333333, \"#9c179e\"], [0.4444444444444444, \"#bd3786\"], [0.5555555555555556, \"#d8576b\"], [0.6666666666666666, \"#ed7953\"], [0.7777777777777778, \"#fb9f3a\"], [0.8888888888888888, \"#fdca26\"], [1.0, \"#f0f921\"]], \"type\": \"heatmapgl\"}], \"histogram\": [{\"marker\": {\"colorbar\": {\"outlinewidth\": 0, \"ticks\": \"\"}}, \"type\": \"histogram\"}], \"histogram2d\": [{\"colorbar\": {\"outlinewidth\": 0, \"ticks\": \"\"}, \"colorscale\": [[0.0, \"#0d0887\"], [0.1111111111111111, \"#46039f\"], [0.2222222222222222, \"#7201a8\"], [0.3333333333333333, \"#9c179e\"], [0.4444444444444444, \"#bd3786\"], [0.5555555555555556, \"#d8576b\"], [0.6666666666666666, \"#ed7953\"], [0.7777777777777778, \"#fb9f3a\"], [0.8888888888888888, \"#fdca26\"], [1.0, \"#f0f921\"]], \"type\": \"histogram2d\"}], \"histogram2dcontour\": [{\"colorbar\": {\"outlinewidth\": 0, \"ticks\": \"\"}, \"colorscale\": [[0.0, \"#0d0887\"], [0.1111111111111111, \"#46039f\"], [0.2222222222222222, \"#7201a8\"], [0.3333333333333333, \"#9c179e\"], [0.4444444444444444, \"#bd3786\"], [0.5555555555555556, \"#d8576b\"], [0.6666666666666666, \"#ed7953\"], [0.7777777777777778, \"#fb9f3a\"], [0.8888888888888888, \"#fdca26\"], [1.0, \"#f0f921\"]], \"type\": \"histogram2dcontour\"}], \"mesh3d\": [{\"colorbar\": {\"outlinewidth\": 0, \"ticks\": \"\"}, \"type\": \"mesh3d\"}], \"parcoords\": [{\"line\": {\"colorbar\": {\"outlinewidth\": 0, \"ticks\": \"\"}}, \"type\": \"parcoords\"}], \"pie\": [{\"automargin\": true, \"type\": \"pie\"}], \"scatter\": [{\"marker\": {\"colorbar\": {\"outlinewidth\": 0, \"ticks\": \"\"}}, \"type\": \"scatter\"}], \"scatter3d\": [{\"line\": {\"colorbar\": {\"outlinewidth\": 0, \"ticks\": \"\"}}, \"marker\": {\"colorbar\": {\"outlinewidth\": 0, \"ticks\": \"\"}}, \"type\": \"scatter3d\"}], \"scattercarpet\": [{\"marker\": {\"colorbar\": {\"outlinewidth\": 0, \"ticks\": \"\"}}, \"type\": \"scattercarpet\"}], \"scattergeo\": [{\"marker\": {\"colorbar\": {\"outlinewidth\": 0, \"ticks\": \"\"}}, \"type\": \"scattergeo\"}], \"scattergl\": [{\"marker\": {\"colorbar\": {\"outlinewidth\": 0, \"ticks\": \"\"}}, \"type\": \"scattergl\"}], \"scattermapbox\": [{\"marker\": {\"colorbar\": {\"outlinewidth\": 0, \"ticks\": \"\"}}, \"type\": \"scattermapbox\"}], \"scatterpolar\": [{\"marker\": {\"colorbar\": {\"outlinewidth\": 0, \"ticks\": \"\"}}, \"type\": \"scatterpolar\"}], \"scatterpolargl\": [{\"marker\": {\"colorbar\": {\"outlinewidth\": 0, \"ticks\": \"\"}}, \"type\": \"scatterpolargl\"}], \"scatterternary\": [{\"marker\": {\"colorbar\": {\"outlinewidth\": 0, \"ticks\": \"\"}}, \"type\": \"scatterternary\"}], \"surface\": [{\"colorbar\": {\"outlinewidth\": 0, \"ticks\": \"\"}, \"colorscale\": [[0.0, \"#0d0887\"], [0.1111111111111111, \"#46039f\"], [0.2222222222222222, \"#7201a8\"], [0.3333333333333333, \"#9c179e\"], [0.4444444444444444, \"#bd3786\"], [0.5555555555555556, \"#d8576b\"], [0.6666666666666666, \"#ed7953\"], [0.7777777777777778, \"#fb9f3a\"], [0.8888888888888888, \"#fdca26\"], [1.0, \"#f0f921\"]], \"type\": \"surface\"}], \"table\": [{\"cells\": {\"fill\": {\"color\": \"#EBF0F8\"}, \"line\": {\"color\": \"white\"}}, \"header\": {\"fill\": {\"color\": \"#C8D4E3\"}, \"line\": {\"color\": \"white\"}}, \"type\": \"table\"}]}, \"layout\": {\"annotationdefaults\": {\"arrowcolor\": \"#2a3f5f\", \"arrowhead\": 0, \"arrowwidth\": 1}, \"coloraxis\": {\"colorbar\": {\"outlinewidth\": 0, \"ticks\": \"\"}}, \"colorscale\": {\"diverging\": [[0, \"#8e0152\"], [0.1, \"#c51b7d\"], [0.2, \"#de77ae\"], [0.3, \"#f1b6da\"], [0.4, \"#fde0ef\"], [0.5, \"#f7f7f7\"], [0.6, \"#e6f5d0\"], [0.7, \"#b8e186\"], [0.8, \"#7fbc41\"], [0.9, \"#4d9221\"], [1, \"#276419\"]], \"sequential\": [[0.0, \"#0d0887\"], [0.1111111111111111, \"#46039f\"], [0.2222222222222222, \"#7201a8\"], [0.3333333333333333, \"#9c179e\"], [0.4444444444444444, \"#bd3786\"], [0.5555555555555556, \"#d8576b\"], [0.6666666666666666, \"#ed7953\"], [0.7777777777777778, \"#fb9f3a\"], [0.8888888888888888, \"#fdca26\"], [1.0, \"#f0f921\"]], \"sequentialminus\": [[0.0, \"#0d0887\"], [0.1111111111111111, \"#46039f\"], [0.2222222222222222, \"#7201a8\"], [0.3333333333333333, \"#9c179e\"], [0.4444444444444444, \"#bd3786\"], [0.5555555555555556, \"#d8576b\"], [0.6666666666666666, \"#ed7953\"], [0.7777777777777778, \"#fb9f3a\"], [0.8888888888888888, \"#fdca26\"], [1.0, \"#f0f921\"]]}, \"colorway\": [\"#636efa\", \"#EF553B\", \"#00cc96\", \"#ab63fa\", \"#FFA15A\", \"#19d3f3\", \"#FF6692\", \"#B6E880\", \"#FF97FF\", \"#FECB52\"], \"font\": {\"color\": \"#2a3f5f\"}, \"geo\": {\"bgcolor\": \"white\", \"lakecolor\": \"white\", \"landcolor\": \"#E5ECF6\", \"showlakes\": true, \"showland\": true, \"subunitcolor\": \"white\"}, \"hoverlabel\": {\"align\": \"left\"}, \"hovermode\": \"closest\", \"mapbox\": {\"style\": \"light\"}, \"paper_bgcolor\": \"white\", \"plot_bgcolor\": \"#E5ECF6\", \"polar\": {\"angularaxis\": {\"gridcolor\": \"white\", \"linecolor\": \"white\", \"ticks\": \"\"}, \"bgcolor\": \"#E5ECF6\", \"radialaxis\": {\"gridcolor\": \"white\", \"linecolor\": \"white\", \"ticks\": \"\"}}, \"scene\": {\"xaxis\": {\"backgroundcolor\": \"#E5ECF6\", \"gridcolor\": \"white\", \"gridwidth\": 2, \"linecolor\": \"white\", \"showbackground\": true, \"ticks\": \"\", \"zerolinecolor\": \"white\"}, \"yaxis\": {\"backgroundcolor\": \"#E5ECF6\", \"gridcolor\": \"white\", \"gridwidth\": 2, \"linecolor\": \"white\", \"showbackground\": true, \"ticks\": \"\", \"zerolinecolor\": \"white\"}, \"zaxis\": {\"backgroundcolor\": \"#E5ECF6\", \"gridcolor\": \"white\", \"gridwidth\": 2, \"linecolor\": \"white\", \"showbackground\": true, \"ticks\": \"\", \"zerolinecolor\": \"white\"}}, \"shapedefaults\": {\"line\": {\"color\": \"#2a3f5f\"}}, \"ternary\": {\"aaxis\": {\"gridcolor\": \"white\", \"linecolor\": \"white\", \"ticks\": \"\"}, \"baxis\": {\"gridcolor\": \"white\", \"linecolor\": \"white\", \"ticks\": \"\"}, \"bgcolor\": \"#E5ECF6\", \"caxis\": {\"gridcolor\": \"white\", \"linecolor\": \"white\", \"ticks\": \"\"}}, \"title\": {\"x\": 0.05}, \"xaxis\": {\"automargin\": true, \"gridcolor\": \"white\", \"linecolor\": \"white\", \"ticks\": \"\", \"title\": {\"standoff\": 15}, \"zerolinecolor\": \"white\", \"zerolinewidth\": 2}, \"yaxis\": {\"automargin\": true, \"gridcolor\": \"white\", \"linecolor\": \"white\", \"ticks\": \"\", \"title\": {\"standoff\": 15}, \"zerolinecolor\": \"white\", \"zerolinewidth\": 2}}}, \"xaxis\": {\"anchor\": \"y\", \"domain\": [0.0, 1.0], \"title\": {\"text\": \"x\"}}, \"yaxis\": {\"anchor\": \"x\", \"domain\": [0.0, 1.0], \"title\": {\"text\": \"y\"}}},\n",
              "                        {\"responsive\": true}\n",
              "                    ).then(function(){\n",
              "                            \n",
              "var gd = document.getElementById('88a9e768-ea6f-4d18-85f5-f4ba5bfbe94d');\n",
              "var x = new MutationObserver(function (mutations, observer) {{\n",
              "        var display = window.getComputedStyle(gd).display;\n",
              "        if (!display || display === 'none') {{\n",
              "            console.log([gd, 'removed!']);\n",
              "            Plotly.purge(gd);\n",
              "            observer.disconnect();\n",
              "        }}\n",
              "}});\n",
              "\n",
              "// Listen for the removal of the full notebook cells\n",
              "var notebookContainer = gd.closest('#notebook-container');\n",
              "if (notebookContainer) {{\n",
              "    x.observe(notebookContainer, {childList: true});\n",
              "}}\n",
              "\n",
              "// Listen for the clearing of the current output cell\n",
              "var outputEl = gd.closest('.output');\n",
              "if (outputEl) {{\n",
              "    x.observe(outputEl, {childList: true});\n",
              "}}\n",
              "\n",
              "                        })\n",
              "                };\n",
              "                \n",
              "            </script>\n",
              "        </div>\n",
              "</body>\n",
              "</html>"
            ]
          },
          "metadata": {}
        }
      ]
    },
    {
      "cell_type": "code",
      "metadata": {
        "id": "GkRLVH-aAm4K"
      },
      "source": [
        "index_of_outliers = []\n",
        "def preprocess_data( observations  , col_num  , w = 12  ):\n",
        "  '''\n",
        "  This function will help to select a feature of intrest to check for anamolies and plots outliers by calling the find_outliers function. \n",
        "\n",
        "  param observations: An integer value specifying the number of observations to select \n",
        "  param col_num: This int value indicated the feature to select, features avalable and their corresponding index are in the starting cell of this section.\n",
        "  param w: window size that will be passed to the find_outliers\n",
        "  '''\n",
        "  index_of_outliers.clear()\n",
        "  test_Data = sorted.iloc[ : observations  ,  col_num   ]\n",
        "  test_Data = test_Data[test_Data > 0  ]\n",
        "  copy_of_test_data = test_Data.copy( deep = True  )\n",
        "  find_TH_TL(test_Data , w ) \n",
        "  fig = px.scatter(  x = copy_of_test_data.index , y = copy_of_test_data , title='Anamoly detection' , labels={\n",
        "                     \"x\": \"Time\",\n",
        "                     \"y\": features_Df.loc[col_num]['Features']\n",
        "                     \n",
        "                 }, )\n",
        "  fig.add_scatter( x =  index_of_outliers ,  y =  copy_of_test_data.loc[index_of_outliers]  , mode = 'markers' , name='OutLiers' )\n",
        "  fig.show()"
      ],
      "execution_count": 34,
      "outputs": []
    },
    {
      "cell_type": "code",
      "metadata": {
        "colab": {
          "base_uri": "https://localhost:8080/",
          "height": 1000
        },
        "id": "BmoEDdS4Aomz",
        "outputId": "5c49c993-404f-4cb7-e56e-408cf0112083"
      },
      "source": [
        "#Irradiance \n",
        "preprocess_data(96  , 4 , w = 30)  #there are  96 observations per day \n",
        "#Wind Speed \n",
        "preprocess_data(96, 14 , w = 30)\n",
        "#Weather Atmospheric Pressure\n",
        "preprocess_data(96, 11 , w = 30)"
      ],
      "execution_count": 35,
      "outputs": [
        {
          "output_type": "stream",
          "name": "stdout",
          "text": [
            "All outliers detected\n"
          ]
        },
        {
          "output_type": "display_data",
          "data": {
            "text/html": [
              "<html>\n",
              "<head><meta charset=\"utf-8\" /></head>\n",
              "<body>\n",
              "    <div>\n",
              "            <script src=\"https://cdnjs.cloudflare.com/ajax/libs/mathjax/2.7.5/MathJax.js?config=TeX-AMS-MML_SVG\"></script><script type=\"text/javascript\">if (window.MathJax) {MathJax.Hub.Config({SVG: {font: \"STIX-Web\"}});}</script>\n",
              "                <script type=\"text/javascript\">window.PlotlyConfig = {MathJaxConfig: 'local'};</script>\n",
              "        <script src=\"https://cdn.plot.ly/plotly-latest.min.js\"></script>    \n",
              "            <div id=\"9d065893-ad68-47f5-bcf8-129c036b3615\" class=\"plotly-graph-div\" style=\"height:525px; width:100%;\"></div>\n",
              "            <script type=\"text/javascript\">\n",
              "                \n",
              "                    window.PLOTLYENV=window.PLOTLYENV || {};\n",
              "                    \n",
              "                if (document.getElementById(\"9d065893-ad68-47f5-bcf8-129c036b3615\")) {\n",
              "                    Plotly.newPlot(\n",
              "                        '9d065893-ad68-47f5-bcf8-129c036b3615',\n",
              "                        [{\"hoverlabel\": {\"namelength\": 0}, \"hovertemplate\": \"Time=%{x}<br>AVG in-plane irradiance=%{y}\", \"legendgroup\": \"\", \"marker\": {\"color\": \"#636efa\", \"symbol\": \"circle\"}, \"mode\": \"markers\", \"name\": \"\", \"showlegend\": false, \"type\": \"scatter\", \"x\": [\"2020-08-01T07:30:00\", \"2020-08-01T07:45:00\", \"2020-08-01T08:00:00\", \"2020-08-01T08:15:00\", \"2020-08-01T08:30:00\", \"2020-08-01T08:45:00\", \"2020-08-01T09:00:00\", \"2020-08-01T09:15:00\", \"2020-08-01T09:30:00\", \"2020-08-01T09:45:00\", \"2020-08-01T10:00:00\", \"2020-08-01T10:15:00\", \"2020-08-01T10:30:00\", \"2020-08-01T10:45:00\", \"2020-08-01T11:00:00\", \"2020-08-01T11:15:00\", \"2020-08-01T11:30:00\", \"2020-08-01T11:45:00\", \"2020-08-01T12:00:00\", \"2020-08-01T12:15:00\", \"2020-08-01T12:30:00\", \"2020-08-01T12:45:00\", \"2020-08-01T13:00:00\", \"2020-08-01T13:15:00\", \"2020-08-01T13:30:00\", \"2020-08-01T13:45:00\", \"2020-08-01T14:00:00\", \"2020-08-01T14:15:00\", \"2020-08-01T14:30:00\", \"2020-08-01T14:45:00\", \"2020-08-01T15:00:00\", \"2020-08-01T15:15:00\", \"2020-08-01T15:30:00\", \"2020-08-01T15:45:00\", \"2020-08-01T16:00:00\", \"2020-08-01T16:15:00\", \"2020-08-01T16:30:00\", \"2020-08-01T16:45:00\", \"2020-08-01T17:00:00\", \"2020-08-01T17:15:00\", \"2020-08-01T17:30:00\", \"2020-08-01T17:45:00\"], \"xaxis\": \"x\", \"y\": [7.0, 27.0, 56.0, 111.0, 236.0, 509.0, 309.0, 642.0, 1163.0, 1083.0, 1291.0, 1308.0, 1291.0, 1254.0, 1268.0, 1230.0, 1217.0, 1302.0, 1264.0, 1253.0, 1286.0, 1323.0, 1361.0, 1407.0, 1441.0, 1485.0, 1520.0, 1556.0, 1571.0, 1600.0, 1608.0, 1596.0, 1591.0, 1551.0, 1497.0, 1393.0, 1049.0, 711.0, 400.0, 37.0, 15.0, 3.0], \"yaxis\": \"y\"}, {\"mode\": \"markers\", \"name\": \"OutLiers\", \"type\": \"scatter\", \"x\": [\"2020-08-01T16:45:00\", \"2020-08-01T17:00:00\", \"2020-08-01T17:15:00\", \"2020-08-01T17:30:00\", \"2020-08-01T17:45:00\"], \"y\": [711.0, 400.0, 37.0, 15.0, 3.0]}],\n",
              "                        {\"legend\": {\"tracegroupgap\": 0}, \"template\": {\"data\": {\"bar\": [{\"error_x\": {\"color\": \"#2a3f5f\"}, \"error_y\": {\"color\": \"#2a3f5f\"}, \"marker\": {\"line\": {\"color\": \"#E5ECF6\", \"width\": 0.5}}, \"type\": \"bar\"}], \"barpolar\": [{\"marker\": {\"line\": {\"color\": \"#E5ECF6\", \"width\": 0.5}}, \"type\": \"barpolar\"}], \"carpet\": [{\"aaxis\": {\"endlinecolor\": \"#2a3f5f\", \"gridcolor\": \"white\", \"linecolor\": \"white\", \"minorgridcolor\": \"white\", \"startlinecolor\": \"#2a3f5f\"}, \"baxis\": {\"endlinecolor\": \"#2a3f5f\", \"gridcolor\": \"white\", \"linecolor\": \"white\", \"minorgridcolor\": \"white\", \"startlinecolor\": \"#2a3f5f\"}, \"type\": \"carpet\"}], \"choropleth\": [{\"colorbar\": {\"outlinewidth\": 0, \"ticks\": \"\"}, \"type\": \"choropleth\"}], \"contour\": [{\"colorbar\": {\"outlinewidth\": 0, \"ticks\": \"\"}, \"colorscale\": [[0.0, \"#0d0887\"], [0.1111111111111111, \"#46039f\"], [0.2222222222222222, \"#7201a8\"], [0.3333333333333333, \"#9c179e\"], [0.4444444444444444, \"#bd3786\"], [0.5555555555555556, \"#d8576b\"], [0.6666666666666666, \"#ed7953\"], [0.7777777777777778, \"#fb9f3a\"], [0.8888888888888888, \"#fdca26\"], [1.0, \"#f0f921\"]], \"type\": \"contour\"}], \"contourcarpet\": [{\"colorbar\": {\"outlinewidth\": 0, \"ticks\": \"\"}, \"type\": \"contourcarpet\"}], \"heatmap\": [{\"colorbar\": {\"outlinewidth\": 0, \"ticks\": \"\"}, \"colorscale\": [[0.0, \"#0d0887\"], [0.1111111111111111, \"#46039f\"], [0.2222222222222222, \"#7201a8\"], [0.3333333333333333, \"#9c179e\"], [0.4444444444444444, \"#bd3786\"], [0.5555555555555556, \"#d8576b\"], [0.6666666666666666, \"#ed7953\"], [0.7777777777777778, \"#fb9f3a\"], [0.8888888888888888, \"#fdca26\"], [1.0, \"#f0f921\"]], \"type\": \"heatmap\"}], \"heatmapgl\": [{\"colorbar\": {\"outlinewidth\": 0, \"ticks\": \"\"}, \"colorscale\": [[0.0, \"#0d0887\"], [0.1111111111111111, \"#46039f\"], [0.2222222222222222, \"#7201a8\"], [0.3333333333333333, \"#9c179e\"], [0.4444444444444444, \"#bd3786\"], [0.5555555555555556, \"#d8576b\"], [0.6666666666666666, \"#ed7953\"], [0.7777777777777778, \"#fb9f3a\"], [0.8888888888888888, \"#fdca26\"], [1.0, \"#f0f921\"]], \"type\": \"heatmapgl\"}], \"histogram\": [{\"marker\": {\"colorbar\": {\"outlinewidth\": 0, \"ticks\": \"\"}}, \"type\": \"histogram\"}], \"histogram2d\": [{\"colorbar\": {\"outlinewidth\": 0, \"ticks\": \"\"}, \"colorscale\": [[0.0, \"#0d0887\"], [0.1111111111111111, \"#46039f\"], [0.2222222222222222, \"#7201a8\"], [0.3333333333333333, \"#9c179e\"], [0.4444444444444444, \"#bd3786\"], [0.5555555555555556, \"#d8576b\"], [0.6666666666666666, \"#ed7953\"], [0.7777777777777778, \"#fb9f3a\"], [0.8888888888888888, \"#fdca26\"], [1.0, \"#f0f921\"]], \"type\": \"histogram2d\"}], \"histogram2dcontour\": [{\"colorbar\": {\"outlinewidth\": 0, \"ticks\": \"\"}, \"colorscale\": [[0.0, \"#0d0887\"], [0.1111111111111111, \"#46039f\"], [0.2222222222222222, \"#7201a8\"], [0.3333333333333333, \"#9c179e\"], [0.4444444444444444, \"#bd3786\"], [0.5555555555555556, \"#d8576b\"], [0.6666666666666666, \"#ed7953\"], [0.7777777777777778, \"#fb9f3a\"], [0.8888888888888888, \"#fdca26\"], [1.0, \"#f0f921\"]], \"type\": \"histogram2dcontour\"}], \"mesh3d\": [{\"colorbar\": {\"outlinewidth\": 0, \"ticks\": \"\"}, \"type\": \"mesh3d\"}], \"parcoords\": [{\"line\": {\"colorbar\": {\"outlinewidth\": 0, \"ticks\": \"\"}}, \"type\": \"parcoords\"}], \"pie\": [{\"automargin\": true, \"type\": \"pie\"}], \"scatter\": [{\"marker\": {\"colorbar\": {\"outlinewidth\": 0, \"ticks\": \"\"}}, \"type\": \"scatter\"}], \"scatter3d\": [{\"line\": {\"colorbar\": {\"outlinewidth\": 0, \"ticks\": \"\"}}, \"marker\": {\"colorbar\": {\"outlinewidth\": 0, \"ticks\": \"\"}}, \"type\": \"scatter3d\"}], \"scattercarpet\": [{\"marker\": {\"colorbar\": {\"outlinewidth\": 0, \"ticks\": \"\"}}, \"type\": \"scattercarpet\"}], \"scattergeo\": [{\"marker\": {\"colorbar\": {\"outlinewidth\": 0, \"ticks\": \"\"}}, \"type\": \"scattergeo\"}], \"scattergl\": [{\"marker\": {\"colorbar\": {\"outlinewidth\": 0, \"ticks\": \"\"}}, \"type\": \"scattergl\"}], \"scattermapbox\": [{\"marker\": {\"colorbar\": {\"outlinewidth\": 0, \"ticks\": \"\"}}, \"type\": \"scattermapbox\"}], \"scatterpolar\": [{\"marker\": {\"colorbar\": {\"outlinewidth\": 0, \"ticks\": \"\"}}, \"type\": \"scatterpolar\"}], \"scatterpolargl\": [{\"marker\": {\"colorbar\": {\"outlinewidth\": 0, \"ticks\": \"\"}}, \"type\": \"scatterpolargl\"}], \"scatterternary\": [{\"marker\": {\"colorbar\": {\"outlinewidth\": 0, \"ticks\": \"\"}}, \"type\": \"scatterternary\"}], \"surface\": [{\"colorbar\": {\"outlinewidth\": 0, \"ticks\": \"\"}, \"colorscale\": [[0.0, \"#0d0887\"], [0.1111111111111111, \"#46039f\"], [0.2222222222222222, \"#7201a8\"], [0.3333333333333333, \"#9c179e\"], [0.4444444444444444, \"#bd3786\"], [0.5555555555555556, \"#d8576b\"], [0.6666666666666666, \"#ed7953\"], [0.7777777777777778, \"#fb9f3a\"], [0.8888888888888888, \"#fdca26\"], [1.0, \"#f0f921\"]], \"type\": \"surface\"}], \"table\": [{\"cells\": {\"fill\": {\"color\": \"#EBF0F8\"}, \"line\": {\"color\": \"white\"}}, \"header\": {\"fill\": {\"color\": \"#C8D4E3\"}, \"line\": {\"color\": \"white\"}}, \"type\": \"table\"}]}, \"layout\": {\"annotationdefaults\": {\"arrowcolor\": \"#2a3f5f\", \"arrowhead\": 0, \"arrowwidth\": 1}, \"coloraxis\": {\"colorbar\": {\"outlinewidth\": 0, \"ticks\": \"\"}}, \"colorscale\": {\"diverging\": [[0, \"#8e0152\"], [0.1, \"#c51b7d\"], [0.2, \"#de77ae\"], [0.3, \"#f1b6da\"], [0.4, \"#fde0ef\"], [0.5, \"#f7f7f7\"], [0.6, \"#e6f5d0\"], [0.7, \"#b8e186\"], [0.8, \"#7fbc41\"], [0.9, \"#4d9221\"], [1, \"#276419\"]], \"sequential\": [[0.0, \"#0d0887\"], [0.1111111111111111, \"#46039f\"], [0.2222222222222222, \"#7201a8\"], [0.3333333333333333, \"#9c179e\"], [0.4444444444444444, \"#bd3786\"], [0.5555555555555556, \"#d8576b\"], [0.6666666666666666, \"#ed7953\"], [0.7777777777777778, \"#fb9f3a\"], [0.8888888888888888, \"#fdca26\"], [1.0, \"#f0f921\"]], \"sequentialminus\": [[0.0, \"#0d0887\"], [0.1111111111111111, \"#46039f\"], [0.2222222222222222, \"#7201a8\"], [0.3333333333333333, \"#9c179e\"], [0.4444444444444444, \"#bd3786\"], [0.5555555555555556, \"#d8576b\"], [0.6666666666666666, \"#ed7953\"], [0.7777777777777778, \"#fb9f3a\"], [0.8888888888888888, \"#fdca26\"], [1.0, \"#f0f921\"]]}, \"colorway\": [\"#636efa\", \"#EF553B\", \"#00cc96\", \"#ab63fa\", \"#FFA15A\", \"#19d3f3\", \"#FF6692\", \"#B6E880\", \"#FF97FF\", \"#FECB52\"], \"font\": {\"color\": \"#2a3f5f\"}, \"geo\": {\"bgcolor\": \"white\", \"lakecolor\": \"white\", \"landcolor\": \"#E5ECF6\", \"showlakes\": true, \"showland\": true, \"subunitcolor\": \"white\"}, \"hoverlabel\": {\"align\": \"left\"}, \"hovermode\": \"closest\", \"mapbox\": {\"style\": \"light\"}, \"paper_bgcolor\": \"white\", \"plot_bgcolor\": \"#E5ECF6\", \"polar\": {\"angularaxis\": {\"gridcolor\": \"white\", \"linecolor\": \"white\", \"ticks\": \"\"}, \"bgcolor\": \"#E5ECF6\", \"radialaxis\": {\"gridcolor\": \"white\", \"linecolor\": \"white\", \"ticks\": \"\"}}, \"scene\": {\"xaxis\": {\"backgroundcolor\": \"#E5ECF6\", \"gridcolor\": \"white\", \"gridwidth\": 2, \"linecolor\": \"white\", \"showbackground\": true, \"ticks\": \"\", \"zerolinecolor\": \"white\"}, \"yaxis\": {\"backgroundcolor\": \"#E5ECF6\", \"gridcolor\": \"white\", \"gridwidth\": 2, \"linecolor\": \"white\", \"showbackground\": true, \"ticks\": \"\", \"zerolinecolor\": \"white\"}, \"zaxis\": {\"backgroundcolor\": \"#E5ECF6\", \"gridcolor\": \"white\", \"gridwidth\": 2, \"linecolor\": \"white\", \"showbackground\": true, \"ticks\": \"\", \"zerolinecolor\": \"white\"}}, \"shapedefaults\": {\"line\": {\"color\": \"#2a3f5f\"}}, \"ternary\": {\"aaxis\": {\"gridcolor\": \"white\", \"linecolor\": \"white\", \"ticks\": \"\"}, \"baxis\": {\"gridcolor\": \"white\", \"linecolor\": \"white\", \"ticks\": \"\"}, \"bgcolor\": \"#E5ECF6\", \"caxis\": {\"gridcolor\": \"white\", \"linecolor\": \"white\", \"ticks\": \"\"}}, \"title\": {\"x\": 0.05}, \"xaxis\": {\"automargin\": true, \"gridcolor\": \"white\", \"linecolor\": \"white\", \"ticks\": \"\", \"title\": {\"standoff\": 15}, \"zerolinecolor\": \"white\", \"zerolinewidth\": 2}, \"yaxis\": {\"automargin\": true, \"gridcolor\": \"white\", \"linecolor\": \"white\", \"ticks\": \"\", \"title\": {\"standoff\": 15}, \"zerolinecolor\": \"white\", \"zerolinewidth\": 2}}}, \"title\": {\"text\": \"Anamoly detection\"}, \"xaxis\": {\"anchor\": \"y\", \"domain\": [0.0, 1.0], \"title\": {\"text\": \"Time\"}}, \"yaxis\": {\"anchor\": \"x\", \"domain\": [0.0, 1.0], \"title\": {\"text\": \"AVG in-plane irradiance\"}}},\n",
              "                        {\"responsive\": true}\n",
              "                    ).then(function(){\n",
              "                            \n",
              "var gd = document.getElementById('9d065893-ad68-47f5-bcf8-129c036b3615');\n",
              "var x = new MutationObserver(function (mutations, observer) {{\n",
              "        var display = window.getComputedStyle(gd).display;\n",
              "        if (!display || display === 'none') {{\n",
              "            console.log([gd, 'removed!']);\n",
              "            Plotly.purge(gd);\n",
              "            observer.disconnect();\n",
              "        }}\n",
              "}});\n",
              "\n",
              "// Listen for the removal of the full notebook cells\n",
              "var notebookContainer = gd.closest('#notebook-container');\n",
              "if (notebookContainer) {{\n",
              "    x.observe(notebookContainer, {childList: true});\n",
              "}}\n",
              "\n",
              "// Listen for the clearing of the current output cell\n",
              "var outputEl = gd.closest('.output');\n",
              "if (outputEl) {{\n",
              "    x.observe(outputEl, {childList: true});\n",
              "}}\n",
              "\n",
              "                        })\n",
              "                };\n",
              "                \n",
              "            </script>\n",
              "        </div>\n",
              "</body>\n",
              "</html>"
            ]
          },
          "metadata": {}
        },
        {
          "output_type": "stream",
          "name": "stdout",
          "text": [
            "All outliers detected\n"
          ]
        },
        {
          "output_type": "display_data",
          "data": {
            "text/html": [
              "<html>\n",
              "<head><meta charset=\"utf-8\" /></head>\n",
              "<body>\n",
              "    <div>\n",
              "            <script src=\"https://cdnjs.cloudflare.com/ajax/libs/mathjax/2.7.5/MathJax.js?config=TeX-AMS-MML_SVG\"></script><script type=\"text/javascript\">if (window.MathJax) {MathJax.Hub.Config({SVG: {font: \"STIX-Web\"}});}</script>\n",
              "                <script type=\"text/javascript\">window.PlotlyConfig = {MathJaxConfig: 'local'};</script>\n",
              "        <script src=\"https://cdn.plot.ly/plotly-latest.min.js\"></script>    \n",
              "            <div id=\"94a72aac-1884-4f73-b635-0ab4831edc2b\" class=\"plotly-graph-div\" style=\"height:525px; width:100%;\"></div>\n",
              "            <script type=\"text/javascript\">\n",
              "                \n",
              "                    window.PLOTLYENV=window.PLOTLYENV || {};\n",
              "                    \n",
              "                if (document.getElementById(\"94a72aac-1884-4f73-b635-0ab4831edc2b\")) {\n",
              "                    Plotly.newPlot(\n",
              "                        '94a72aac-1884-4f73-b635-0ab4831edc2b',\n",
              "                        [{\"hoverlabel\": {\"namelength\": 0}, \"hovertemplate\": \"Time=%{x}<br>Wind Speed=%{y}\", \"legendgroup\": \"\", \"marker\": {\"color\": \"#636efa\", \"symbol\": \"circle\"}, \"mode\": \"markers\", \"name\": \"\", \"showlegend\": false, \"type\": \"scatter\", \"x\": [\"2020-08-01T00:15:00\", \"2020-08-01T00:30:00\", \"2020-08-01T00:45:00\", \"2020-08-01T01:00:00\", \"2020-08-01T01:15:00\", \"2020-08-01T01:30:00\", \"2020-08-01T01:45:00\", \"2020-08-01T02:00:00\", \"2020-08-01T02:15:00\", \"2020-08-01T02:30:00\", \"2020-08-01T02:45:00\", \"2020-08-01T03:00:00\", \"2020-08-01T03:15:00\", \"2020-08-01T03:30:00\", \"2020-08-01T03:45:00\", \"2020-08-01T04:00:00\", \"2020-08-01T04:15:00\", \"2020-08-01T04:30:00\", \"2020-08-01T04:45:00\", \"2020-08-01T05:00:00\", \"2020-08-01T05:15:00\", \"2020-08-01T05:30:00\", \"2020-08-01T05:45:00\", \"2020-08-01T06:00:00\", \"2020-08-01T06:15:00\", \"2020-08-01T06:30:00\", \"2020-08-01T06:45:00\", \"2020-08-01T07:00:00\", \"2020-08-01T07:30:00\", \"2020-08-01T08:00:00\", \"2020-08-01T08:30:00\", \"2020-08-01T09:15:00\", \"2020-08-01T09:30:00\", \"2020-08-01T09:45:00\", \"2020-08-01T10:00:00\", \"2020-08-01T10:15:00\", \"2020-08-01T10:30:00\", \"2020-08-01T10:45:00\", \"2020-08-01T11:00:00\", \"2020-08-01T11:15:00\", \"2020-08-01T11:30:00\", \"2020-08-01T11:45:00\", \"2020-08-01T12:00:00\", \"2020-08-01T12:15:00\", \"2020-08-01T12:30:00\", \"2020-08-01T12:45:00\", \"2020-08-01T13:00:00\", \"2020-08-01T13:15:00\", \"2020-08-01T13:30:00\", \"2020-08-01T13:45:00\", \"2020-08-01T14:00:00\", \"2020-08-01T14:15:00\", \"2020-08-01T14:45:00\", \"2020-08-01T15:00:00\", \"2020-08-01T15:15:00\", \"2020-08-01T15:30:00\", \"2020-08-01T16:00:00\", \"2020-08-01T16:15:00\", \"2020-08-01T16:30:00\", \"2020-08-01T16:45:00\", \"2020-08-01T17:00:00\", \"2020-08-01T17:15:00\", \"2020-08-01T17:30:00\", \"2020-08-01T18:00:00\", \"2020-08-01T18:15:00\", \"2020-08-01T18:30:00\", \"2020-08-01T18:45:00\", \"2020-08-01T19:00:00\", \"2020-08-01T19:15:00\", \"2020-08-01T19:30:00\", \"2020-08-01T19:45:00\", \"2020-08-01T20:00:00\", \"2020-08-01T20:15:00\", \"2020-08-01T20:30:00\", \"2020-08-01T20:45:00\", \"2020-08-01T21:00:00\", \"2020-08-01T21:15:00\", \"2020-08-01T21:30:00\", \"2020-08-01T21:45:00\", \"2020-08-01T22:00:00\", \"2020-08-01T22:15:00\", \"2020-08-01T22:30:00\", \"2020-08-01T22:45:00\", \"2020-08-01T23:00:00\", \"2020-08-01T23:15:00\", \"2020-08-01T23:30:00\", \"2020-08-01T23:45:00\", \"2020-08-02T00:00:00\"], \"xaxis\": \"x\", \"y\": [1.0, 3.0, 2.0, 3.0, 3.0, 2.0, 1.0, 1.0, 1.0, 2.0, 3.0, 6.0, 5.0, 4.0, 4.0, 4.0, 4.0, 4.0, 3.0, 3.0, 3.0, 4.0, 3.0, 4.0, 4.0, 3.0, 2.0, 1.0, 1.0, 1.0, 1.0, 1.0, 1.0, 2.0, 3.0, 4.0, 3.0, 4.0, 3.0, 3.0, 5.0, 8.0, 6.0, 6.0, 7.0, 9.0, 8.0, 8.0, 6.0, 8.0, 10.0, 9.0, 9.0, 6.0, 5.0, 8.0, 4.0, 6.0, 7.0, 7.0, 7.0, 10.0, 8.0, 6.0, 5.0, 7.0, 8.0, 6.0, 7.0, 7.0, 6.0, 5.0, 6.0, 4.0, 4.0, 6.0, 8.0, 6.0, 8.0, 8.0, 8.0, 8.0, 7.0, 6.0, 6.0, 6.0, 5.0, 5.0], \"yaxis\": \"y\"}, {\"mode\": \"markers\", \"name\": \"OutLiers\", \"type\": \"scatter\", \"x\": [\"2020-08-01T11:45:00\", \"2020-08-01T12:45:00\", \"2020-08-01T13:00:00\", \"2020-08-01T13:15:00\", \"2020-08-01T14:00:00\", \"2020-08-01T14:15:00\", \"2020-08-01T14:45:00\"], \"y\": [8.0, 9.0, 8.0, 8.0, 10.0, 9.0, 9.0]}],\n",
              "                        {\"legend\": {\"tracegroupgap\": 0}, \"template\": {\"data\": {\"bar\": [{\"error_x\": {\"color\": \"#2a3f5f\"}, \"error_y\": {\"color\": \"#2a3f5f\"}, \"marker\": {\"line\": {\"color\": \"#E5ECF6\", \"width\": 0.5}}, \"type\": \"bar\"}], \"barpolar\": [{\"marker\": {\"line\": {\"color\": \"#E5ECF6\", \"width\": 0.5}}, \"type\": \"barpolar\"}], \"carpet\": [{\"aaxis\": {\"endlinecolor\": \"#2a3f5f\", \"gridcolor\": \"white\", \"linecolor\": \"white\", \"minorgridcolor\": \"white\", \"startlinecolor\": \"#2a3f5f\"}, \"baxis\": {\"endlinecolor\": \"#2a3f5f\", \"gridcolor\": \"white\", \"linecolor\": \"white\", \"minorgridcolor\": \"white\", \"startlinecolor\": \"#2a3f5f\"}, \"type\": \"carpet\"}], \"choropleth\": [{\"colorbar\": {\"outlinewidth\": 0, \"ticks\": \"\"}, \"type\": \"choropleth\"}], \"contour\": [{\"colorbar\": {\"outlinewidth\": 0, \"ticks\": \"\"}, \"colorscale\": [[0.0, \"#0d0887\"], [0.1111111111111111, \"#46039f\"], [0.2222222222222222, \"#7201a8\"], [0.3333333333333333, \"#9c179e\"], [0.4444444444444444, \"#bd3786\"], [0.5555555555555556, \"#d8576b\"], [0.6666666666666666, \"#ed7953\"], [0.7777777777777778, \"#fb9f3a\"], [0.8888888888888888, \"#fdca26\"], [1.0, \"#f0f921\"]], \"type\": \"contour\"}], \"contourcarpet\": [{\"colorbar\": {\"outlinewidth\": 0, \"ticks\": \"\"}, \"type\": \"contourcarpet\"}], \"heatmap\": [{\"colorbar\": {\"outlinewidth\": 0, \"ticks\": \"\"}, \"colorscale\": [[0.0, \"#0d0887\"], [0.1111111111111111, \"#46039f\"], [0.2222222222222222, \"#7201a8\"], [0.3333333333333333, \"#9c179e\"], [0.4444444444444444, \"#bd3786\"], [0.5555555555555556, \"#d8576b\"], [0.6666666666666666, \"#ed7953\"], [0.7777777777777778, \"#fb9f3a\"], [0.8888888888888888, \"#fdca26\"], [1.0, \"#f0f921\"]], \"type\": \"heatmap\"}], \"heatmapgl\": [{\"colorbar\": {\"outlinewidth\": 0, \"ticks\": \"\"}, \"colorscale\": [[0.0, \"#0d0887\"], [0.1111111111111111, \"#46039f\"], [0.2222222222222222, \"#7201a8\"], [0.3333333333333333, \"#9c179e\"], [0.4444444444444444, \"#bd3786\"], [0.5555555555555556, \"#d8576b\"], [0.6666666666666666, \"#ed7953\"], [0.7777777777777778, \"#fb9f3a\"], [0.8888888888888888, \"#fdca26\"], [1.0, \"#f0f921\"]], \"type\": \"heatmapgl\"}], \"histogram\": [{\"marker\": {\"colorbar\": {\"outlinewidth\": 0, \"ticks\": \"\"}}, \"type\": \"histogram\"}], \"histogram2d\": [{\"colorbar\": {\"outlinewidth\": 0, \"ticks\": \"\"}, \"colorscale\": [[0.0, \"#0d0887\"], [0.1111111111111111, \"#46039f\"], [0.2222222222222222, \"#7201a8\"], [0.3333333333333333, \"#9c179e\"], [0.4444444444444444, \"#bd3786\"], [0.5555555555555556, \"#d8576b\"], [0.6666666666666666, \"#ed7953\"], [0.7777777777777778, \"#fb9f3a\"], [0.8888888888888888, \"#fdca26\"], [1.0, \"#f0f921\"]], \"type\": \"histogram2d\"}], \"histogram2dcontour\": [{\"colorbar\": {\"outlinewidth\": 0, \"ticks\": \"\"}, \"colorscale\": [[0.0, \"#0d0887\"], [0.1111111111111111, \"#46039f\"], [0.2222222222222222, \"#7201a8\"], [0.3333333333333333, \"#9c179e\"], [0.4444444444444444, \"#bd3786\"], [0.5555555555555556, \"#d8576b\"], [0.6666666666666666, \"#ed7953\"], [0.7777777777777778, \"#fb9f3a\"], [0.8888888888888888, \"#fdca26\"], [1.0, \"#f0f921\"]], \"type\": \"histogram2dcontour\"}], \"mesh3d\": [{\"colorbar\": {\"outlinewidth\": 0, \"ticks\": \"\"}, \"type\": \"mesh3d\"}], \"parcoords\": [{\"line\": {\"colorbar\": {\"outlinewidth\": 0, \"ticks\": \"\"}}, \"type\": \"parcoords\"}], \"pie\": [{\"automargin\": true, \"type\": \"pie\"}], \"scatter\": [{\"marker\": {\"colorbar\": {\"outlinewidth\": 0, \"ticks\": \"\"}}, \"type\": \"scatter\"}], \"scatter3d\": [{\"line\": {\"colorbar\": {\"outlinewidth\": 0, \"ticks\": \"\"}}, \"marker\": {\"colorbar\": {\"outlinewidth\": 0, \"ticks\": \"\"}}, \"type\": \"scatter3d\"}], \"scattercarpet\": [{\"marker\": {\"colorbar\": {\"outlinewidth\": 0, \"ticks\": \"\"}}, \"type\": \"scattercarpet\"}], \"scattergeo\": [{\"marker\": {\"colorbar\": {\"outlinewidth\": 0, \"ticks\": \"\"}}, \"type\": \"scattergeo\"}], \"scattergl\": [{\"marker\": {\"colorbar\": {\"outlinewidth\": 0, \"ticks\": \"\"}}, \"type\": \"scattergl\"}], \"scattermapbox\": [{\"marker\": {\"colorbar\": {\"outlinewidth\": 0, \"ticks\": \"\"}}, \"type\": \"scattermapbox\"}], \"scatterpolar\": [{\"marker\": {\"colorbar\": {\"outlinewidth\": 0, \"ticks\": \"\"}}, \"type\": \"scatterpolar\"}], \"scatterpolargl\": [{\"marker\": {\"colorbar\": {\"outlinewidth\": 0, \"ticks\": \"\"}}, \"type\": \"scatterpolargl\"}], \"scatterternary\": [{\"marker\": {\"colorbar\": {\"outlinewidth\": 0, \"ticks\": \"\"}}, \"type\": \"scatterternary\"}], \"surface\": [{\"colorbar\": {\"outlinewidth\": 0, \"ticks\": \"\"}, \"colorscale\": [[0.0, \"#0d0887\"], [0.1111111111111111, \"#46039f\"], [0.2222222222222222, \"#7201a8\"], [0.3333333333333333, \"#9c179e\"], [0.4444444444444444, \"#bd3786\"], [0.5555555555555556, \"#d8576b\"], [0.6666666666666666, \"#ed7953\"], [0.7777777777777778, \"#fb9f3a\"], [0.8888888888888888, \"#fdca26\"], [1.0, \"#f0f921\"]], \"type\": \"surface\"}], \"table\": [{\"cells\": {\"fill\": {\"color\": \"#EBF0F8\"}, \"line\": {\"color\": \"white\"}}, \"header\": {\"fill\": {\"color\": \"#C8D4E3\"}, \"line\": {\"color\": \"white\"}}, \"type\": \"table\"}]}, \"layout\": {\"annotationdefaults\": {\"arrowcolor\": \"#2a3f5f\", \"arrowhead\": 0, \"arrowwidth\": 1}, \"coloraxis\": {\"colorbar\": {\"outlinewidth\": 0, \"ticks\": \"\"}}, \"colorscale\": {\"diverging\": [[0, \"#8e0152\"], [0.1, \"#c51b7d\"], [0.2, \"#de77ae\"], [0.3, \"#f1b6da\"], [0.4, \"#fde0ef\"], [0.5, \"#f7f7f7\"], [0.6, \"#e6f5d0\"], [0.7, \"#b8e186\"], [0.8, \"#7fbc41\"], [0.9, \"#4d9221\"], [1, \"#276419\"]], \"sequential\": [[0.0, \"#0d0887\"], [0.1111111111111111, \"#46039f\"], [0.2222222222222222, \"#7201a8\"], [0.3333333333333333, \"#9c179e\"], [0.4444444444444444, \"#bd3786\"], [0.5555555555555556, \"#d8576b\"], [0.6666666666666666, \"#ed7953\"], [0.7777777777777778, \"#fb9f3a\"], [0.8888888888888888, \"#fdca26\"], [1.0, \"#f0f921\"]], \"sequentialminus\": [[0.0, \"#0d0887\"], [0.1111111111111111, \"#46039f\"], [0.2222222222222222, \"#7201a8\"], [0.3333333333333333, \"#9c179e\"], [0.4444444444444444, \"#bd3786\"], [0.5555555555555556, \"#d8576b\"], [0.6666666666666666, \"#ed7953\"], [0.7777777777777778, \"#fb9f3a\"], [0.8888888888888888, \"#fdca26\"], [1.0, \"#f0f921\"]]}, \"colorway\": [\"#636efa\", \"#EF553B\", \"#00cc96\", \"#ab63fa\", \"#FFA15A\", \"#19d3f3\", \"#FF6692\", \"#B6E880\", \"#FF97FF\", \"#FECB52\"], \"font\": {\"color\": \"#2a3f5f\"}, \"geo\": {\"bgcolor\": \"white\", \"lakecolor\": \"white\", \"landcolor\": \"#E5ECF6\", \"showlakes\": true, \"showland\": true, \"subunitcolor\": \"white\"}, \"hoverlabel\": {\"align\": \"left\"}, \"hovermode\": \"closest\", \"mapbox\": {\"style\": \"light\"}, \"paper_bgcolor\": \"white\", \"plot_bgcolor\": \"#E5ECF6\", \"polar\": {\"angularaxis\": {\"gridcolor\": \"white\", \"linecolor\": \"white\", \"ticks\": \"\"}, \"bgcolor\": \"#E5ECF6\", \"radialaxis\": {\"gridcolor\": \"white\", \"linecolor\": \"white\", \"ticks\": \"\"}}, \"scene\": {\"xaxis\": {\"backgroundcolor\": \"#E5ECF6\", \"gridcolor\": \"white\", \"gridwidth\": 2, \"linecolor\": \"white\", \"showbackground\": true, \"ticks\": \"\", \"zerolinecolor\": \"white\"}, \"yaxis\": {\"backgroundcolor\": \"#E5ECF6\", \"gridcolor\": \"white\", \"gridwidth\": 2, \"linecolor\": \"white\", \"showbackground\": true, \"ticks\": \"\", \"zerolinecolor\": \"white\"}, \"zaxis\": {\"backgroundcolor\": \"#E5ECF6\", \"gridcolor\": \"white\", \"gridwidth\": 2, \"linecolor\": \"white\", \"showbackground\": true, \"ticks\": \"\", \"zerolinecolor\": \"white\"}}, \"shapedefaults\": {\"line\": {\"color\": \"#2a3f5f\"}}, \"ternary\": {\"aaxis\": {\"gridcolor\": \"white\", \"linecolor\": \"white\", \"ticks\": \"\"}, \"baxis\": {\"gridcolor\": \"white\", \"linecolor\": \"white\", \"ticks\": \"\"}, \"bgcolor\": \"#E5ECF6\", \"caxis\": {\"gridcolor\": \"white\", \"linecolor\": \"white\", \"ticks\": \"\"}}, \"title\": {\"x\": 0.05}, \"xaxis\": {\"automargin\": true, \"gridcolor\": \"white\", \"linecolor\": \"white\", \"ticks\": \"\", \"title\": {\"standoff\": 15}, \"zerolinecolor\": \"white\", \"zerolinewidth\": 2}, \"yaxis\": {\"automargin\": true, \"gridcolor\": \"white\", \"linecolor\": \"white\", \"ticks\": \"\", \"title\": {\"standoff\": 15}, \"zerolinecolor\": \"white\", \"zerolinewidth\": 2}}}, \"title\": {\"text\": \"Anamoly detection\"}, \"xaxis\": {\"anchor\": \"y\", \"domain\": [0.0, 1.0], \"title\": {\"text\": \"Time\"}}, \"yaxis\": {\"anchor\": \"x\", \"domain\": [0.0, 1.0], \"title\": {\"text\": \"Wind Speed\"}}},\n",
              "                        {\"responsive\": true}\n",
              "                    ).then(function(){\n",
              "                            \n",
              "var gd = document.getElementById('94a72aac-1884-4f73-b635-0ab4831edc2b');\n",
              "var x = new MutationObserver(function (mutations, observer) {{\n",
              "        var display = window.getComputedStyle(gd).display;\n",
              "        if (!display || display === 'none') {{\n",
              "            console.log([gd, 'removed!']);\n",
              "            Plotly.purge(gd);\n",
              "            observer.disconnect();\n",
              "        }}\n",
              "}});\n",
              "\n",
              "// Listen for the removal of the full notebook cells\n",
              "var notebookContainer = gd.closest('#notebook-container');\n",
              "if (notebookContainer) {{\n",
              "    x.observe(notebookContainer, {childList: true});\n",
              "}}\n",
              "\n",
              "// Listen for the clearing of the current output cell\n",
              "var outputEl = gd.closest('.output');\n",
              "if (outputEl) {{\n",
              "    x.observe(outputEl, {childList: true});\n",
              "}}\n",
              "\n",
              "                        })\n",
              "                };\n",
              "                \n",
              "            </script>\n",
              "        </div>\n",
              "</body>\n",
              "</html>"
            ]
          },
          "metadata": {}
        },
        {
          "output_type": "stream",
          "name": "stdout",
          "text": [
            "All outliers detected\n"
          ]
        },
        {
          "output_type": "display_data",
          "data": {
            "text/html": [
              "<html>\n",
              "<head><meta charset=\"utf-8\" /></head>\n",
              "<body>\n",
              "    <div>\n",
              "            <script src=\"https://cdnjs.cloudflare.com/ajax/libs/mathjax/2.7.5/MathJax.js?config=TeX-AMS-MML_SVG\"></script><script type=\"text/javascript\">if (window.MathJax) {MathJax.Hub.Config({SVG: {font: \"STIX-Web\"}});}</script>\n",
              "                <script type=\"text/javascript\">window.PlotlyConfig = {MathJaxConfig: 'local'};</script>\n",
              "        <script src=\"https://cdn.plot.ly/plotly-latest.min.js\"></script>    \n",
              "            <div id=\"b84f8463-c9fa-4b30-8328-e415abc6760e\" class=\"plotly-graph-div\" style=\"height:525px; width:100%;\"></div>\n",
              "            <script type=\"text/javascript\">\n",
              "                \n",
              "                    window.PLOTLYENV=window.PLOTLYENV || {};\n",
              "                    \n",
              "                if (document.getElementById(\"b84f8463-c9fa-4b30-8328-e415abc6760e\")) {\n",
              "                    Plotly.newPlot(\n",
              "                        'b84f8463-c9fa-4b30-8328-e415abc6760e',\n",
              "                        [{\"hoverlabel\": {\"namelength\": 0}, \"hovertemplate\": \"Time=%{x}<br>Weather Atmospheric Pressure=%{y}\", \"legendgroup\": \"\", \"marker\": {\"color\": \"#636efa\", \"symbol\": \"circle\"}, \"mode\": \"markers\", \"name\": \"\", \"showlegend\": false, \"type\": \"scatter\", \"x\": [\"2020-08-01T00:15:00\", \"2020-08-01T00:30:00\", \"2020-08-01T00:45:00\", \"2020-08-01T01:00:00\", \"2020-08-01T01:15:00\", \"2020-08-01T01:30:00\", \"2020-08-01T01:45:00\", \"2020-08-01T02:00:00\", \"2020-08-01T02:15:00\", \"2020-08-01T02:30:00\", \"2020-08-01T02:45:00\", \"2020-08-01T03:00:00\", \"2020-08-01T03:15:00\", \"2020-08-01T03:30:00\", \"2020-08-01T03:45:00\", \"2020-08-01T04:00:00\", \"2020-08-01T04:15:00\", \"2020-08-01T04:30:00\", \"2020-08-01T04:45:00\", \"2020-08-01T05:00:00\", \"2020-08-01T05:15:00\", \"2020-08-01T05:30:00\", \"2020-08-01T05:45:00\", \"2020-08-01T06:00:00\", \"2020-08-01T06:15:00\", \"2020-08-01T06:30:00\", \"2020-08-01T06:45:00\", \"2020-08-01T07:00:00\", \"2020-08-01T07:15:00\", \"2020-08-01T07:30:00\", \"2020-08-01T07:45:00\", \"2020-08-01T08:00:00\", \"2020-08-01T08:15:00\", \"2020-08-01T08:30:00\", \"2020-08-01T08:45:00\", \"2020-08-01T09:00:00\", \"2020-08-01T09:15:00\", \"2020-08-01T09:30:00\", \"2020-08-01T09:45:00\", \"2020-08-01T10:00:00\", \"2020-08-01T10:15:00\", \"2020-08-01T10:30:00\", \"2020-08-01T10:45:00\", \"2020-08-01T11:00:00\", \"2020-08-01T11:15:00\", \"2020-08-01T11:30:00\", \"2020-08-01T11:45:00\", \"2020-08-01T12:00:00\", \"2020-08-01T12:15:00\", \"2020-08-01T12:30:00\", \"2020-08-01T12:45:00\", \"2020-08-01T13:00:00\", \"2020-08-01T13:15:00\", \"2020-08-01T13:30:00\", \"2020-08-01T13:45:00\", \"2020-08-01T14:00:00\", \"2020-08-01T14:15:00\", \"2020-08-01T14:45:00\", \"2020-08-01T15:00:00\", \"2020-08-01T15:15:00\", \"2020-08-01T15:30:00\", \"2020-08-01T16:00:00\", \"2020-08-01T16:15:00\", \"2020-08-01T16:30:00\", \"2020-08-01T16:45:00\", \"2020-08-01T17:00:00\", \"2020-08-01T17:15:00\", \"2020-08-01T17:30:00\", \"2020-08-01T18:00:00\", \"2020-08-01T18:15:00\", \"2020-08-01T18:30:00\", \"2020-08-01T18:45:00\", \"2020-08-01T19:00:00\", \"2020-08-01T19:15:00\", \"2020-08-01T19:30:00\", \"2020-08-01T19:45:00\", \"2020-08-01T20:00:00\", \"2020-08-01T20:15:00\", \"2020-08-01T20:30:00\", \"2020-08-01T20:45:00\", \"2020-08-01T21:00:00\", \"2020-08-01T21:15:00\", \"2020-08-01T21:30:00\", \"2020-08-01T21:45:00\", \"2020-08-01T22:00:00\", \"2020-08-01T22:15:00\", \"2020-08-01T22:30:00\", \"2020-08-01T22:45:00\", \"2020-08-01T23:00:00\", \"2020-08-01T23:15:00\", \"2020-08-01T23:30:00\", \"2020-08-01T23:45:00\", \"2020-08-02T00:00:00\"], \"xaxis\": \"x\", \"y\": [1013.0, 1013.0, 1013.0, 1013.0, 1013.0, 1013.0, 1013.0, 1013.0, 1013.0, 1012.0, 1012.0, 1012.0, 1012.0, 1012.0, 1012.0, 1012.0, 1012.0, 1012.0, 1012.0, 1012.0, 1012.0, 1012.0, 1012.0, 1011.0, 1011.0, 1012.0, 1012.0, 1012.0, 1012.0, 1012.0, 1012.0, 1012.0, 1012.0, 1012.0, 1012.0, 1012.0, 1012.0, 1012.0, 1012.0, 1012.0, 1012.0, 1012.0, 1012.0, 1012.0, 1012.0, 1011.0, 1011.0, 1011.0, 1011.0, 1011.0, 1010.0, 1010.0, 1010.0, 1010.0, 1009.0, 1009.0, 1009.0, 1009.0, 1009.0, 1009.0, 1009.0, 1009.0, 1009.0, 1009.0, 1009.0, 1009.0, 1009.0, 1009.0, 1009.0, 1010.0, 1010.0, 1010.0, 1010.0, 1010.0, 1010.0, 1010.0, 1010.0, 1010.0, 1010.0, 1010.0, 1010.0, 1010.0, 1010.0, 1010.0, 1010.0, 1010.0, 1010.0, 1010.0, 1010.0, 1010.0, 1010.0, 1010.0, 1010.0], \"yaxis\": \"y\"}, {\"mode\": \"markers\", \"name\": \"OutLiers\", \"type\": \"scatter\", \"x\": [\"2020-08-01T11:30:00\", \"2020-08-01T11:45:00\", \"2020-08-01T12:00:00\", \"2020-08-01T12:15:00\", \"2020-08-01T12:30:00\", \"2020-08-01T12:45:00\", \"2020-08-01T13:00:00\", \"2020-08-01T13:15:00\", \"2020-08-01T13:30:00\", \"2020-08-01T13:45:00\", \"2020-08-01T14:00:00\", \"2020-08-01T14:15:00\", \"2020-08-01T14:45:00\", \"2020-08-01T15:00:00\", \"2020-08-01T15:15:00\", \"2020-08-01T15:30:00\", \"2020-08-01T16:00:00\", \"2020-08-01T16:15:00\", \"2020-08-01T16:30:00\", \"2020-08-01T16:45:00\", \"2020-08-01T17:00:00\", \"2020-08-01T17:15:00\", \"2020-08-01T17:30:00\", \"2020-08-01T18:00:00\", \"2020-08-01T18:15:00\", \"2020-08-01T18:30:00\", \"2020-08-01T18:45:00\", \"2020-08-01T19:00:00\", \"2020-08-01T19:15:00\", \"2020-08-01T19:30:00\", \"2020-08-01T19:45:00\", \"2020-08-01T20:00:00\", \"2020-08-01T20:15:00\", \"2020-08-01T20:30:00\", \"2020-08-01T20:45:00\", \"2020-08-01T21:00:00\", \"2020-08-01T21:15:00\", \"2020-08-01T21:30:00\", \"2020-08-01T21:45:00\", \"2020-08-01T22:00:00\", \"2020-08-01T22:15:00\", \"2020-08-01T22:30:00\", \"2020-08-01T22:45:00\", \"2020-08-01T23:00:00\", \"2020-08-01T23:15:00\", \"2020-08-01T23:30:00\", \"2020-08-01T23:45:00\", \"2020-08-02T00:00:00\"], \"y\": [1011.0, 1011.0, 1011.0, 1011.0, 1011.0, 1010.0, 1010.0, 1010.0, 1010.0, 1009.0, 1009.0, 1009.0, 1009.0, 1009.0, 1009.0, 1009.0, 1009.0, 1009.0, 1009.0, 1009.0, 1009.0, 1009.0, 1009.0, 1009.0, 1010.0, 1010.0, 1010.0, 1010.0, 1010.0, 1010.0, 1010.0, 1010.0, 1010.0, 1010.0, 1010.0, 1010.0, 1010.0, 1010.0, 1010.0, 1010.0, 1010.0, 1010.0, 1010.0, 1010.0, 1010.0, 1010.0, 1010.0, 1010.0]}],\n",
              "                        {\"legend\": {\"tracegroupgap\": 0}, \"template\": {\"data\": {\"bar\": [{\"error_x\": {\"color\": \"#2a3f5f\"}, \"error_y\": {\"color\": \"#2a3f5f\"}, \"marker\": {\"line\": {\"color\": \"#E5ECF6\", \"width\": 0.5}}, \"type\": \"bar\"}], \"barpolar\": [{\"marker\": {\"line\": {\"color\": \"#E5ECF6\", \"width\": 0.5}}, \"type\": \"barpolar\"}], \"carpet\": [{\"aaxis\": {\"endlinecolor\": \"#2a3f5f\", \"gridcolor\": \"white\", \"linecolor\": \"white\", \"minorgridcolor\": \"white\", \"startlinecolor\": \"#2a3f5f\"}, \"baxis\": {\"endlinecolor\": \"#2a3f5f\", \"gridcolor\": \"white\", \"linecolor\": \"white\", \"minorgridcolor\": \"white\", \"startlinecolor\": \"#2a3f5f\"}, \"type\": \"carpet\"}], \"choropleth\": [{\"colorbar\": {\"outlinewidth\": 0, \"ticks\": \"\"}, \"type\": \"choropleth\"}], \"contour\": [{\"colorbar\": {\"outlinewidth\": 0, \"ticks\": \"\"}, \"colorscale\": [[0.0, \"#0d0887\"], [0.1111111111111111, \"#46039f\"], [0.2222222222222222, \"#7201a8\"], [0.3333333333333333, \"#9c179e\"], [0.4444444444444444, \"#bd3786\"], [0.5555555555555556, \"#d8576b\"], [0.6666666666666666, \"#ed7953\"], [0.7777777777777778, \"#fb9f3a\"], [0.8888888888888888, \"#fdca26\"], [1.0, \"#f0f921\"]], \"type\": \"contour\"}], \"contourcarpet\": [{\"colorbar\": {\"outlinewidth\": 0, \"ticks\": \"\"}, \"type\": \"contourcarpet\"}], \"heatmap\": [{\"colorbar\": {\"outlinewidth\": 0, \"ticks\": \"\"}, \"colorscale\": [[0.0, \"#0d0887\"], [0.1111111111111111, \"#46039f\"], [0.2222222222222222, \"#7201a8\"], [0.3333333333333333, \"#9c179e\"], [0.4444444444444444, \"#bd3786\"], [0.5555555555555556, \"#d8576b\"], [0.6666666666666666, \"#ed7953\"], [0.7777777777777778, \"#fb9f3a\"], [0.8888888888888888, \"#fdca26\"], [1.0, \"#f0f921\"]], \"type\": \"heatmap\"}], \"heatmapgl\": [{\"colorbar\": {\"outlinewidth\": 0, \"ticks\": \"\"}, \"colorscale\": [[0.0, \"#0d0887\"], [0.1111111111111111, \"#46039f\"], [0.2222222222222222, \"#7201a8\"], [0.3333333333333333, \"#9c179e\"], [0.4444444444444444, \"#bd3786\"], [0.5555555555555556, \"#d8576b\"], [0.6666666666666666, \"#ed7953\"], [0.7777777777777778, \"#fb9f3a\"], [0.8888888888888888, \"#fdca26\"], [1.0, \"#f0f921\"]], \"type\": \"heatmapgl\"}], \"histogram\": [{\"marker\": {\"colorbar\": {\"outlinewidth\": 0, \"ticks\": \"\"}}, \"type\": \"histogram\"}], \"histogram2d\": [{\"colorbar\": {\"outlinewidth\": 0, \"ticks\": \"\"}, \"colorscale\": [[0.0, \"#0d0887\"], [0.1111111111111111, \"#46039f\"], [0.2222222222222222, \"#7201a8\"], [0.3333333333333333, \"#9c179e\"], [0.4444444444444444, \"#bd3786\"], [0.5555555555555556, \"#d8576b\"], [0.6666666666666666, \"#ed7953\"], [0.7777777777777778, \"#fb9f3a\"], [0.8888888888888888, \"#fdca26\"], [1.0, \"#f0f921\"]], \"type\": \"histogram2d\"}], \"histogram2dcontour\": [{\"colorbar\": {\"outlinewidth\": 0, \"ticks\": \"\"}, \"colorscale\": [[0.0, \"#0d0887\"], [0.1111111111111111, \"#46039f\"], [0.2222222222222222, \"#7201a8\"], [0.3333333333333333, \"#9c179e\"], [0.4444444444444444, \"#bd3786\"], [0.5555555555555556, \"#d8576b\"], [0.6666666666666666, \"#ed7953\"], [0.7777777777777778, \"#fb9f3a\"], [0.8888888888888888, \"#fdca26\"], [1.0, \"#f0f921\"]], \"type\": \"histogram2dcontour\"}], \"mesh3d\": [{\"colorbar\": {\"outlinewidth\": 0, \"ticks\": \"\"}, \"type\": \"mesh3d\"}], \"parcoords\": [{\"line\": {\"colorbar\": {\"outlinewidth\": 0, \"ticks\": \"\"}}, \"type\": \"parcoords\"}], \"pie\": [{\"automargin\": true, \"type\": \"pie\"}], \"scatter\": [{\"marker\": {\"colorbar\": {\"outlinewidth\": 0, \"ticks\": \"\"}}, \"type\": \"scatter\"}], \"scatter3d\": [{\"line\": {\"colorbar\": {\"outlinewidth\": 0, \"ticks\": \"\"}}, \"marker\": {\"colorbar\": {\"outlinewidth\": 0, \"ticks\": \"\"}}, \"type\": \"scatter3d\"}], \"scattercarpet\": [{\"marker\": {\"colorbar\": {\"outlinewidth\": 0, \"ticks\": \"\"}}, \"type\": \"scattercarpet\"}], \"scattergeo\": [{\"marker\": {\"colorbar\": {\"outlinewidth\": 0, \"ticks\": \"\"}}, \"type\": \"scattergeo\"}], \"scattergl\": [{\"marker\": {\"colorbar\": {\"outlinewidth\": 0, \"ticks\": \"\"}}, \"type\": \"scattergl\"}], \"scattermapbox\": [{\"marker\": {\"colorbar\": {\"outlinewidth\": 0, \"ticks\": \"\"}}, \"type\": \"scattermapbox\"}], \"scatterpolar\": [{\"marker\": {\"colorbar\": {\"outlinewidth\": 0, \"ticks\": \"\"}}, \"type\": \"scatterpolar\"}], \"scatterpolargl\": [{\"marker\": {\"colorbar\": {\"outlinewidth\": 0, \"ticks\": \"\"}}, \"type\": \"scatterpolargl\"}], \"scatterternary\": [{\"marker\": {\"colorbar\": {\"outlinewidth\": 0, \"ticks\": \"\"}}, \"type\": \"scatterternary\"}], \"surface\": [{\"colorbar\": {\"outlinewidth\": 0, \"ticks\": \"\"}, \"colorscale\": [[0.0, \"#0d0887\"], [0.1111111111111111, \"#46039f\"], [0.2222222222222222, \"#7201a8\"], [0.3333333333333333, \"#9c179e\"], [0.4444444444444444, \"#bd3786\"], [0.5555555555555556, \"#d8576b\"], [0.6666666666666666, \"#ed7953\"], [0.7777777777777778, \"#fb9f3a\"], [0.8888888888888888, \"#fdca26\"], [1.0, \"#f0f921\"]], \"type\": \"surface\"}], \"table\": [{\"cells\": {\"fill\": {\"color\": \"#EBF0F8\"}, \"line\": {\"color\": \"white\"}}, \"header\": {\"fill\": {\"color\": \"#C8D4E3\"}, \"line\": {\"color\": \"white\"}}, \"type\": \"table\"}]}, \"layout\": {\"annotationdefaults\": {\"arrowcolor\": \"#2a3f5f\", \"arrowhead\": 0, \"arrowwidth\": 1}, \"coloraxis\": {\"colorbar\": {\"outlinewidth\": 0, \"ticks\": \"\"}}, \"colorscale\": {\"diverging\": [[0, \"#8e0152\"], [0.1, \"#c51b7d\"], [0.2, \"#de77ae\"], [0.3, \"#f1b6da\"], [0.4, \"#fde0ef\"], [0.5, \"#f7f7f7\"], [0.6, \"#e6f5d0\"], [0.7, \"#b8e186\"], [0.8, \"#7fbc41\"], [0.9, \"#4d9221\"], [1, \"#276419\"]], \"sequential\": [[0.0, \"#0d0887\"], [0.1111111111111111, \"#46039f\"], [0.2222222222222222, \"#7201a8\"], [0.3333333333333333, \"#9c179e\"], [0.4444444444444444, \"#bd3786\"], [0.5555555555555556, \"#d8576b\"], [0.6666666666666666, \"#ed7953\"], [0.7777777777777778, \"#fb9f3a\"], [0.8888888888888888, \"#fdca26\"], [1.0, \"#f0f921\"]], \"sequentialminus\": [[0.0, \"#0d0887\"], [0.1111111111111111, \"#46039f\"], [0.2222222222222222, \"#7201a8\"], [0.3333333333333333, \"#9c179e\"], [0.4444444444444444, \"#bd3786\"], [0.5555555555555556, \"#d8576b\"], [0.6666666666666666, \"#ed7953\"], [0.7777777777777778, \"#fb9f3a\"], [0.8888888888888888, \"#fdca26\"], [1.0, \"#f0f921\"]]}, \"colorway\": [\"#636efa\", \"#EF553B\", \"#00cc96\", \"#ab63fa\", \"#FFA15A\", \"#19d3f3\", \"#FF6692\", \"#B6E880\", \"#FF97FF\", \"#FECB52\"], \"font\": {\"color\": \"#2a3f5f\"}, \"geo\": {\"bgcolor\": \"white\", \"lakecolor\": \"white\", \"landcolor\": \"#E5ECF6\", \"showlakes\": true, \"showland\": true, \"subunitcolor\": \"white\"}, \"hoverlabel\": {\"align\": \"left\"}, \"hovermode\": \"closest\", \"mapbox\": {\"style\": \"light\"}, \"paper_bgcolor\": \"white\", \"plot_bgcolor\": \"#E5ECF6\", \"polar\": {\"angularaxis\": {\"gridcolor\": \"white\", \"linecolor\": \"white\", \"ticks\": \"\"}, \"bgcolor\": \"#E5ECF6\", \"radialaxis\": {\"gridcolor\": \"white\", \"linecolor\": \"white\", \"ticks\": \"\"}}, \"scene\": {\"xaxis\": {\"backgroundcolor\": \"#E5ECF6\", \"gridcolor\": \"white\", \"gridwidth\": 2, \"linecolor\": \"white\", \"showbackground\": true, \"ticks\": \"\", \"zerolinecolor\": \"white\"}, \"yaxis\": {\"backgroundcolor\": \"#E5ECF6\", \"gridcolor\": \"white\", \"gridwidth\": 2, \"linecolor\": \"white\", \"showbackground\": true, \"ticks\": \"\", \"zerolinecolor\": \"white\"}, \"zaxis\": {\"backgroundcolor\": \"#E5ECF6\", \"gridcolor\": \"white\", \"gridwidth\": 2, \"linecolor\": \"white\", \"showbackground\": true, \"ticks\": \"\", \"zerolinecolor\": \"white\"}}, \"shapedefaults\": {\"line\": {\"color\": \"#2a3f5f\"}}, \"ternary\": {\"aaxis\": {\"gridcolor\": \"white\", \"linecolor\": \"white\", \"ticks\": \"\"}, \"baxis\": {\"gridcolor\": \"white\", \"linecolor\": \"white\", \"ticks\": \"\"}, \"bgcolor\": \"#E5ECF6\", \"caxis\": {\"gridcolor\": \"white\", \"linecolor\": \"white\", \"ticks\": \"\"}}, \"title\": {\"x\": 0.05}, \"xaxis\": {\"automargin\": true, \"gridcolor\": \"white\", \"linecolor\": \"white\", \"ticks\": \"\", \"title\": {\"standoff\": 15}, \"zerolinecolor\": \"white\", \"zerolinewidth\": 2}, \"yaxis\": {\"automargin\": true, \"gridcolor\": \"white\", \"linecolor\": \"white\", \"ticks\": \"\", \"title\": {\"standoff\": 15}, \"zerolinecolor\": \"white\", \"zerolinewidth\": 2}}}, \"title\": {\"text\": \"Anamoly detection\"}, \"xaxis\": {\"anchor\": \"y\", \"domain\": [0.0, 1.0], \"title\": {\"text\": \"Time\"}}, \"yaxis\": {\"anchor\": \"x\", \"domain\": [0.0, 1.0], \"title\": {\"text\": \"Weather Atmospheric Pressure\"}}},\n",
              "                        {\"responsive\": true}\n",
              "                    ).then(function(){\n",
              "                            \n",
              "var gd = document.getElementById('b84f8463-c9fa-4b30-8328-e415abc6760e');\n",
              "var x = new MutationObserver(function (mutations, observer) {{\n",
              "        var display = window.getComputedStyle(gd).display;\n",
              "        if (!display || display === 'none') {{\n",
              "            console.log([gd, 'removed!']);\n",
              "            Plotly.purge(gd);\n",
              "            observer.disconnect();\n",
              "        }}\n",
              "}});\n",
              "\n",
              "// Listen for the removal of the full notebook cells\n",
              "var notebookContainer = gd.closest('#notebook-container');\n",
              "if (notebookContainer) {{\n",
              "    x.observe(notebookContainer, {childList: true});\n",
              "}}\n",
              "\n",
              "// Listen for the clearing of the current output cell\n",
              "var outputEl = gd.closest('.output');\n",
              "if (outputEl) {{\n",
              "    x.observe(outputEl, {childList: true});\n",
              "}}\n",
              "\n",
              "                        })\n",
              "                };\n",
              "                \n",
              "            </script>\n",
              "        </div>\n",
              "</body>\n",
              "</html>"
            ]
          },
          "metadata": {}
        }
      ]
    }
  ]
}