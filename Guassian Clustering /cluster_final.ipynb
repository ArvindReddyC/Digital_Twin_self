{
  "cells": [
    {
      "cell_type": "code",
      "execution_count": 6,
      "metadata": {
        "id": "wmI2G2biOjJe"
      },
      "outputs": [],
      "source": [
        "import warnings\n",
        "import os\n",
        "\n",
        "import pandas as pd\n",
        "import glob\n",
        "\n",
        "import itertools\n",
        "\n",
        "import numpy as np\n",
        "from scipy import linalg\n",
        "import matplotlib.pyplot as plt\n",
        "import matplotlib as mpl\n",
        "\n",
        "from sklearn import mixture\n",
        "warnings.filterwarnings(\"ignore\")\n",
        "\n",
        "# function to pull the data\n",
        "def data_pull():\n",
        "    # Mounting the google drive\n",
        "    from google.colab import drive\n",
        "    drive.mount('/content/drive', force_remount=False)\n",
        "\n",
        "    # Loading the twin data\n",
        "    if not os.path.exists('twindata'):\n",
        "      !unzip -q 'drive/My Drive/Data/twindata.zip'\n",
        "\n",
        "\n",
        "    # Loading one year data to a dataframe\n",
        "    path = r'twindata' # use your path\n",
        "    all_files = glob.glob(path + \"/*.csv\")\n",
        "\n",
        "    li = []\n",
        "\n",
        "    for filename in sorted(all_files):\n",
        "        df = pd.read_csv(filename, index_col=None, header=0)\n",
        "        li.append(df)\n",
        "\n",
        "    df_year = pd.concat(li, axis=0, ignore_index=True)\n",
        "    # returning one year data\n",
        "    return df_year\n",
        "    \n",
        "\n",
        "# Function to pe-process the irradiance and active power data\n",
        "def preprocess_irradiance_activepower(df_year):\n",
        "    # Load irradiance data\n",
        "    rslt_irradiance = df_year[df_year['PME_MeasurementName'] == 'Irradiance Global (W/m^2)']\n",
        "    rslt_irradiance['TimestampUTC'] = pd.to_datetime(rslt_irradiance['TimestampUTC'], format='%d/%m/%Y %I:%M:%S.%f %p')\n",
        "\n",
        "    # Pre-processing: fill-up the NaN values of Irradiance by '0' at Night and 'Mean Value' at Day\n",
        "    irradiance_day_mean = rslt_irradiance[(rslt_irradiance['TimestampUTC'].dt.hour <= 18) & (rslt_irradiance['TimestampUTC'].dt.hour >=6 )]['PME_Value'].mean()\n",
        "    rslt_irradiance.loc[(rslt_irradiance['PME_Value'].isnull()) & ((rslt_irradiance['TimestampUTC'].dt.hour > 18) | (rslt_irradiance['TimestampUTC'].dt.hour < 6)), 'PME_Value'] = 0\n",
        "    rslt_irradiance.loc[(rslt_irradiance['PME_Value'].isnull()) & ((rslt_irradiance['TimestampUTC'].dt.hour <= 18) & (rslt_irradiance['TimestampUTC'].dt.hour >= 6)), 'PME_Value'] = irradiance_day_mean\n",
        "\n",
        "    # Load active power data\n",
        "    rslt_activepower = df_year[(df_year['PME_SourceName'] == 'WP_SF_MVPS4.PM1') & (df_year['PME_MeasurementName'] == 'Active Power')]\n",
        "    rslt_activepower['TimestampUTC'] = pd.to_datetime(rslt_activepower['TimestampUTC'], format='%d/%m/%Y %I:%M:%S.%f %p')\n",
        "\n",
        "    # Renaming the columns by readable identifiers\n",
        "    rslt_irradiance.rename(columns={'PME_Value': 'irradiance'}, inplace=True)\n",
        "    rslt_activepower.rename(columns={'PME_Value': 'activepower'}, inplace=True)\n",
        "\n",
        "    # Merging the data\n",
        "    rslt_irradiance_select = rslt_irradiance[['TimestampUTC', 'irradiance']]\n",
        "    rslt_activepower_select = rslt_activepower[['TimestampUTC','activepower']]\n",
        "    df_merged = pd.merge(rslt_irradiance_select, rslt_activepower_select, on='TimestampUTC')\n",
        "\n",
        "    # BEFORE THIS POINT, LOAD THE DATA FOR THE CHOICE OF ATTRIBUTES AND THE TIMERANGE BY THE USER\n",
        "\n",
        "    # Convert the dataframe to array of values\n",
        "    X = df_merged[['irradiance', 'activepower']].to_numpy()\n",
        "\n",
        "    # Returning the values for further computations\n",
        "    return X\n",
        "\n",
        "# Function to PRODUCE the results\n",
        "def att_ellipse(means, covariances, index, title, nclusters):\n",
        "    ell_centers = [None]*nclusters\n",
        "    ell_axislengths = [None]*nclusters\n",
        "    ell_angles = [None]*nclusters\n",
        "    # Find the attributes of the ellipse\n",
        "    for i, (mean, covar) in enumerate(zip(\n",
        "            means, covariances)):\n",
        "        v, w = linalg.eigh(covar)\n",
        "        v = 2. * np.sqrt(2.) * np.sqrt(v)\n",
        "        u = w[0] / linalg.norm(w[0])\n",
        "\n",
        "        # Produce an ellipse to show the Gaussian component\n",
        "        angle = np.arctan(u[1] / u[0])\n",
        "        angle = 180. * angle / np.pi  # convert to degrees\n",
        "        \n",
        "        #print(mean, v[0], v[1], 180. + angle)\n",
        "        ell_centers[i] = [i, mean[0], mean[1]]\n",
        "        ell_axislengths[i] = [i, v[0], v[1]]\n",
        "        ell_angles[i] = [i, 180. + angle]\n",
        "    return ell_centers, ell_axislengths, ell_angles"
      ]
    },
    {
      "cell_type": "code",
      "execution_count": 7,
      "metadata": {
        "colab": {
          "base_uri": "https://localhost:8080/"
        },
        "id": "U-XvlwGpOlkG",
        "outputId": "56d3f6f8-86b5-44da-fa66-a327c518c00b"
      },
      "outputs": [
        {
          "ename": "ModuleNotFoundError",
          "evalue": "No module named 'google'",
          "output_type": "error",
          "traceback": [
            "\u001b[0;31m---------------------------------------------------------------------------\u001b[0m",
            "\u001b[0;31mModuleNotFoundError\u001b[0m                       Traceback (most recent call last)",
            "\u001b[0;32m/var/folders/12/y5vs86r91n98w8k_k0z7drn00000gn/T/ipykernel_3177/1453160762.py\u001b[0m in \u001b[0;36m<module>\u001b[0;34m\u001b[0m\n\u001b[1;32m      2\u001b[0m \u001b[0;34m\u001b[0m\u001b[0m\n\u001b[1;32m      3\u001b[0m     \u001b[0;31m# Call the functions to load X\u001b[0m\u001b[0;34m\u001b[0m\u001b[0;34m\u001b[0m\u001b[0;34m\u001b[0m\u001b[0m\n\u001b[0;32m----> 4\u001b[0;31m     \u001b[0mres\u001b[0m \u001b[0;34m=\u001b[0m \u001b[0mdata_pull\u001b[0m\u001b[0;34m(\u001b[0m\u001b[0;34m)\u001b[0m\u001b[0;34m\u001b[0m\u001b[0;34m\u001b[0m\u001b[0m\n\u001b[0m\u001b[1;32m      5\u001b[0m     \u001b[0mX\u001b[0m \u001b[0;34m=\u001b[0m \u001b[0mpreprocess_irradiance_activepower\u001b[0m\u001b[0;34m(\u001b[0m\u001b[0mres\u001b[0m\u001b[0;34m)\u001b[0m\u001b[0;34m\u001b[0m\u001b[0;34m\u001b[0m\u001b[0m\n\u001b[1;32m      6\u001b[0m \u001b[0;34m\u001b[0m\u001b[0m\n",
            "\u001b[0;32m/var/folders/12/y5vs86r91n98w8k_k0z7drn00000gn/T/ipykernel_3177/1629031155.py\u001b[0m in \u001b[0;36mdata_pull\u001b[0;34m()\u001b[0m\n\u001b[1;32m     18\u001b[0m \u001b[0;32mdef\u001b[0m \u001b[0mdata_pull\u001b[0m\u001b[0;34m(\u001b[0m\u001b[0;34m)\u001b[0m\u001b[0;34m:\u001b[0m\u001b[0;34m\u001b[0m\u001b[0;34m\u001b[0m\u001b[0m\n\u001b[1;32m     19\u001b[0m     \u001b[0;31m# Mounting the google drive\u001b[0m\u001b[0;34m\u001b[0m\u001b[0;34m\u001b[0m\u001b[0;34m\u001b[0m\u001b[0m\n\u001b[0;32m---> 20\u001b[0;31m     \u001b[0;32mfrom\u001b[0m \u001b[0mgoogle\u001b[0m\u001b[0;34m.\u001b[0m\u001b[0mcolab\u001b[0m \u001b[0;32mimport\u001b[0m \u001b[0mdrive\u001b[0m\u001b[0;34m\u001b[0m\u001b[0;34m\u001b[0m\u001b[0m\n\u001b[0m\u001b[1;32m     21\u001b[0m     \u001b[0mdrive\u001b[0m\u001b[0;34m.\u001b[0m\u001b[0mmount\u001b[0m\u001b[0;34m(\u001b[0m\u001b[0;34m'/content/drive'\u001b[0m\u001b[0;34m,\u001b[0m \u001b[0mforce_remount\u001b[0m\u001b[0;34m=\u001b[0m\u001b[0;32mFalse\u001b[0m\u001b[0;34m)\u001b[0m\u001b[0;34m\u001b[0m\u001b[0;34m\u001b[0m\u001b[0m\n\u001b[1;32m     22\u001b[0m \u001b[0;34m\u001b[0m\u001b[0m\n",
            "\u001b[0;31mModuleNotFoundError\u001b[0m: No module named 'google'"
          ]
        }
      ],
      "source": [
        "if __name__ == \"__main__\":\n",
        "    \n",
        "    # Call the functions to load X\n",
        "    res = data_pull()\n",
        "    X = preprocess_irradiance_activepower(res)\n",
        "\n",
        "    # Fit a Dirichlet process Gaussian mixture using five components\n",
        "    cluster_numbers = 4;\n",
        "    dpgmm = mixture.BayesianGaussianMixture(n_components=cluster_numbers,\n",
        "                                            covariance_type='full').fit(X)\n",
        "    XY_VALUES = X\n",
        "    CLUSTERID = dpgmm.predict(X)\n",
        "\n",
        "    ELL_CENTERS, ELL_AXISLENGTHS, ELL_ANGLES = att_ellipse(dpgmm.means_, dpgmm.covariances_, 1,\n",
        "                'Bayesian Gaussian Mixture clustering', cluster_numbers)\n",
        "    print(ELL_CENTERS)\n",
        "    print(ELL_AXISLENGTHS)\n",
        "    print(ELL_ANGLES)"
      ]
    },
    {
      "cell_type": "code",
      "execution_count": null,
      "metadata": {},
      "outputs": [],
      "source": [
        "lists = []\n",
        "for i,y in zip(XY_VALUES,CLUSTERID):\n",
        "    d_ = { value:i , name:y }\n",
        "    lists.append(d_)"
      ]
    },
    {
      "cell_type": "code",
      "execution_count": null,
      "metadata": {},
      "outputs": [],
      "source": [
        "%load_ext autoreload\n",
        "%autoreload 2"
      ]
    },
    {
      "cell_type": "code",
      "execution_count": null,
      "metadata": {},
      "outputs": [
        {
          "name": "stdout",
          "output_type": "stream",
          "text": [
            "[['92.16069793701172' '21.799999237060547']\n",
            " ['64.76708984375' '22.200000762939453']\n",
            " ['44.6308479309082' '22.600000381469727']\n",
            " ...\n",
            " ['179.25430297851562' '39.79999923706055']\n",
            " ['180.66973876953125' '41.79999923706055']\n",
            " ['183.28675842285156' '39.400001525878906']]\n",
            "[2 2 2 ... 1 1 1]\n",
            "[['439' '92.16069793701172']\n",
            " ['309' '64.76708984375']\n",
            " ['237' '44.6308479309082']\n",
            " ...\n",
            " ['943' '179.25430297851562']\n",
            " ['948' '180.66973876953125']\n",
            " ['971' '183.28675842285156']]\n",
            "[0 3 3 ... 0 0 0]\n"
          ]
        }
      ],
      "source": [
        "import  clustering_prediction  as c\n",
        "\n",
        "c.boot( 'WP_SF_MVPS4.WS1,WP_SF_MVPS4.PM1', 'Irradiance Global (W/m^2),Active Power', '2021-10-01 00:00:00' , '2021-11-01 00:00:00' , 4 )"
      ]
    },
    {
      "cell_type": "code",
      "execution_count": 5,
      "metadata": {},
      "outputs": [],
      "source": [
        "i = 2 \n",
        "j = [1,2,3]\n",
        "ij = 10"
      ]
    }
  ],
  "metadata": {
    "colab": {
      "name": "cluster_final.ipynb",
      "provenance": []
    },
    "interpreter": {
      "hash": "78f600779d08b0a3ccce7f55a06dabed9fc99c7115a0a2906338c73a1a58ec1e"
    },
    "kernelspec": {
      "display_name": "Python 3.7.6 64-bit ('base': conda)",
      "name": "python3"
    },
    "language_info": {
      "codemirror_mode": {
        "name": "ipython",
        "version": 3
      },
      "file_extension": ".py",
      "mimetype": "text/x-python",
      "name": "python",
      "nbconvert_exporter": "python",
      "pygments_lexer": "ipython3",
      "version": "3.7.6"
    }
  },
  "nbformat": 4,
  "nbformat_minor": 0
}
