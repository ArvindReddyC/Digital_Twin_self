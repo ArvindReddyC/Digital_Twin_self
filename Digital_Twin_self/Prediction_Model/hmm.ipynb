{
  "nbformat": 4,
  "nbformat_minor": 0,
  "metadata": {
    "colab": {
      "name": "hmm.ipynb",
      "provenance": [],
      "authorship_tag": "ABX9TyMwiUSbkYxIJliyHLgq9YAn",
      "include_colab_link": true
    },
    "kernelspec": {
      "name": "python3",
      "display_name": "Python 3"
    },
    "language_info": {
      "name": "python"
    }
  },
  "cells": [
    {
      "cell_type": "markdown",
      "metadata": {
        "id": "view-in-github",
        "colab_type": "text"
      },
      "source": [
        "<a href=\"https://colab.research.google.com/github/ArvindReddyC/Digital_Twin_self/blob/main/Digital_Twin_self/Prediction_Model/hmm.ipynb\" target=\"_parent\"><img src=\"https://colab.research.google.com/assets/colab-badge.svg\" alt=\"Open In Colab\"/></a>"
      ]
    },
    {
      "cell_type": "code",
      "execution_count": 1,
      "metadata": {
        "id": "WCjt6COiS26f"
      },
      "outputs": [],
      "source": [
        "import pandas as pd"
      ]
    }
  ]
}